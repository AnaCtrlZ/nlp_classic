{
  "cells": [
    {
      "cell_type": "markdown",
      "metadata": {
        "id": "CETxN2OtA2Dh"
      },
      "source": [
        "### Классификация по тональности\n",
        "В этом домашнем задании вам предстоит классифицировать по тональности отзывы на банки с сайта banki.ru.\n",
        "\n",
        "Данные содержат непосредственно тексты отзывов, некоторую дополнительную информацию, а также оценку по шкале от 1 до 5.\n",
        "\n",
        "Тексты хранятся в json-ах в массиве responses.\n",
        "\n",
        "Посмотрим на примере отзыва: возьмите для удобства ноутбук, размещенный в папке репозитория.\n",
        "\n",
        "\n",
        "### Часть 1. Анализ текстов\n",
        "1. Посчитайте количество отзывов в разных городах и на разные банки\n",
        "2. Постройте гистограмы длин слов в символах и в словах\n",
        "3. Найдите 10 самых частых:\n",
        "- слов\n",
        "- слов без стоп-слов\n",
        "- лемм\n",
        "- существительных\n",
        "\n",
        "4. Постройте кривые Ципфа и Хипса\n",
        "5. Ответьте на следующие вопросы:\n",
        "- какое слово встречается чаще, \"сотрудник\" или \"клиент\"?\n",
        "- сколько раз встречается слова \"мошенничество\" и \"доверие\"?\n",
        "\n",
        "6. В поле \"rating_grade\" записана оценка отзыва по шкале от 1 до 5. Используйте меру $tf-idf$, для того, чтобы найти ключевые слова и биграмы для положительных отзывов (с оценкой 5) и отрицательных отзывов (с оценкой 1)\n",
        "\n",
        "### Часть 2. Тематическое моделирование\n",
        "1. Постройте несколько тематических моделей коллекции документов с разным числом тем. Приведите примеры понятных (интерпретируемых) тем.\n",
        "2. Найдите темы, в которых упомянуты конкретные банки (Сбербанк, ВТБ, другой банк). Можете ли вы их прокомментировать / объяснить?\n",
        "Эта часть задания может быть сделана с использованием gensim.\n",
        "\n",
        "### Часть 3. Классификация текстов\n",
        "Сформулируем для простоты задачу бинарной классификации: будем классифицировать на два класса, то есть, различать резко отрицательные отзывы (с оценкой 1) и положительные отзывы (с оценкой 5).\n",
        "\n",
        "1. Составьте обучающее и тестовое множество: выберите из всего набора данных N1 отзывов с оценкой 1 и N2 отзывов с оценкой 5 (значение N1 и N2 – на ваше усмотрение). Используйте sklearn.model_selection.train_test_split для разделения множества отобранных документов на обучающее и тестовое.\n",
        "2. Используйте любой известный вам алгоритм классификации текстов для решения задачи и получите baseline. Сравните разные варианты векторизации текста: использование только униграм, пар или троек слов или с использованием символьных $n$-грам.\n",
        "3. Сравните, как изменяется качество решения задачи при использовании скрытых тем в качестве признаков:\n",
        "- 1-ый вариант: $tf-idf$ преобразование (sklearn.feature_extraction.text.TfidfTransformer) и сингулярное разложение (оно же – латентый семантический анализ) (sklearn.decomposition.TruncatedSVD),\n",
        "- 2-ой вариант: тематические модели LDA (sklearn.decomposition.LatentDirichletAllocation).\n",
        "Используйте accuracy и F-measure для оценки качества классификации.\n",
        "\n",
        "В ноутбуке, размещенном в папке репозитория. написан примерный Pipeline для классификации текстов.\n",
        "\n",
        "Эта часть задания может быть сделана с использованием sklearn."
      ]
    },
    {
      "cell_type": "code",
      "execution_count": null,
      "metadata": {
        "id": "h1dvK7H_qauH"
      },
      "outputs": [],
      "source": [
        "import json\n",
        "\n",
        "import re\n",
        "from tqdm import tqdm\n",
        "from scipy import sparse"
      ]
    },
    {
      "cell_type": "code",
      "execution_count": null,
      "metadata": {
        "id": "_ZsoxOinqauK",
        "outputId": "1b349b33-f266-404a-fa55-4088784d8897"
      },
      "outputs": [
        {
          "name": "stderr",
          "output_type": "stream",
          "text": [
            "WARNING: There was an error checking the latest version of pip.\n"
          ]
        },
        {
          "name": "stdout",
          "output_type": "stream",
          "text": [
            "Defaulting to user installation because normal site-packages is not writeable\n",
            "Requirement already satisfied: wordcloud in c:\\users\\анастасия\\appdata\\roaming\\python\\python39\\site-packages (1.9.3)\n",
            "Requirement already satisfied: numpy>=1.6.1 in c:\\programdata\\anaconda3\\lib\\site-packages (from wordcloud) (1.24.4)\n",
            "Requirement already satisfied: pillow in c:\\programdata\\anaconda3\\lib\\site-packages (from wordcloud) (9.2.0)\n",
            "Requirement already satisfied: matplotlib in c:\\programdata\\anaconda3\\lib\\site-packages (from wordcloud) (3.5.2)\n",
            "Requirement already satisfied: cycler>=0.10 in c:\\programdata\\anaconda3\\lib\\site-packages (from matplotlib->wordcloud) (0.11.0)\n",
            "Requirement already satisfied: fonttools>=4.22.0 in c:\\programdata\\anaconda3\\lib\\site-packages (from matplotlib->wordcloud) (4.25.0)\n",
            "Requirement already satisfied: kiwisolver>=1.0.1 in c:\\programdata\\anaconda3\\lib\\site-packages (from matplotlib->wordcloud) (1.4.2)\n",
            "Requirement already satisfied: packaging>=20.0 in c:\\programdata\\anaconda3\\lib\\site-packages (from matplotlib->wordcloud) (21.3)\n",
            "Requirement already satisfied: pyparsing>=2.2.1 in c:\\programdata\\anaconda3\\lib\\site-packages (from matplotlib->wordcloud) (3.0.9)\n",
            "Requirement already satisfied: python-dateutil>=2.7 in c:\\programdata\\anaconda3\\lib\\site-packages (from matplotlib->wordcloud) (2.8.2)\n",
            "Requirement already satisfied: six>=1.5 in c:\\programdata\\anaconda3\\lib\\site-packages (from python-dateutil>=2.7->matplotlib->wordcloud) (1.16.0)\n"
          ]
        },
        {
          "name": "stderr",
          "output_type": "stream",
          "text": [
            "[nltk_data] Downloading package stopwords to\n",
            "[nltk_data]     C:\\Users\\Анастасия\\AppData\\Roaming\\nltk_data...\n",
            "[nltk_data]   Package stopwords is already up-to-date!\n"
          ]
        },
        {
          "name": "stdout",
          "output_type": "stream",
          "text": [
            "Defaulting to user installation because normal site-packages is not writeable\n",
            "Requirement already satisfied: pymystem3 in c:\\users\\анастасия\\appdata\\roaming\\python\\python39\\site-packages (0.2.0)\n",
            "Requirement already satisfied: requests in c:\\programdata\\anaconda3\\lib\\site-packages (from pymystem3) (2.28.1)\n",
            "Requirement already satisfied: charset-normalizer<3,>=2 in c:\\programdata\\anaconda3\\lib\\site-packages (from requests->pymystem3) (2.0.4)\n",
            "Requirement already satisfied: idna<4,>=2.5 in c:\\programdata\\anaconda3\\lib\\site-packages (from requests->pymystem3) (3.3)\n",
            "Requirement already satisfied: urllib3<1.27,>=1.21.1 in c:\\programdata\\anaconda3\\lib\\site-packages (from requests->pymystem3) (1.26.11)\n",
            "Requirement already satisfied: certifi>=2017.4.17 in c:\\programdata\\anaconda3\\lib\\site-packages (from requests->pymystem3) (2022.9.14)\n"
          ]
        },
        {
          "name": "stderr",
          "output_type": "stream",
          "text": [
            "WARNING: There was an error checking the latest version of pip.\n"
          ]
        },
        {
          "name": "stdout",
          "output_type": "stream",
          "text": [
            "Defaulting to user installation because normal site-packages is not writeable\n",
            "Requirement already satisfied: pymorphy2 in c:\\users\\анастасия\\appdata\\roaming\\python\\python39\\site-packages (0.9.1)\n",
            "Requirement already satisfied: dawg-python>=0.7.1 in c:\\users\\анастасия\\appdata\\roaming\\python\\python39\\site-packages (from pymorphy2) (0.7.2)\n",
            "Requirement already satisfied: pymorphy2-dicts-ru<3.0,>=2.4 in c:\\users\\анастасия\\appdata\\roaming\\python\\python39\\site-packages (from pymorphy2) (2.4.417127.4579844)\n",
            "Requirement already satisfied: docopt>=0.6 in c:\\users\\анастасия\\appdata\\roaming\\python\\python39\\site-packages (from pymorphy2) (0.6.2)\n"
          ]
        },
        {
          "name": "stderr",
          "output_type": "stream",
          "text": [
            "WARNING: There was an error checking the latest version of pip.\n"
          ]
        },
        {
          "name": "stdout",
          "output_type": "stream",
          "text": [
            "Populating the interactive namespace from numpy and matplotlib\n"
          ]
        }
      ],
      "source": [
        "import pandas as pd\n",
        "import numpy as np\n",
        "import nltk\n",
        "import matplotlib.pyplot as plt\n",
        "import seaborn as sns\n",
        "\n",
        "from collections import Counter\n",
        "!pip install wordcloud\n",
        "from wordcloud import WordCloud\n",
        "nltk.download('stopwords')\n",
        "\n",
        "from nltk.corpus import stopwords\n",
        "\n",
        "!pip install pymystem3\n",
        "\n",
        "from pymystem3 import Mystem\n",
        "\n",
        "!pip install pymorphy2\n",
        "from pymorphy2 import MorphAnalyzer\n",
        "\n",
        "\n",
        "%matplotlib inline\n",
        "%pylab inline"
      ]
    },
    {
      "cell_type": "code",
      "execution_count": null,
      "metadata": {
        "id": "ei98k6CYA2Do",
        "outputId": "b2cd56ce-efe0-4bee-de49-616092ad966e"
      },
      "outputs": [
        {
          "name": "stdout",
          "output_type": "stream",
          "text": [
            "Defaulting to user installation because normal site-packages is not writeable\n",
            "Requirement already satisfied: gensim in c:\\programdata\\anaconda3\\lib\\site-packages (4.1.2)\n",
            "Requirement already satisfied: numpy>=1.17.0 in c:\\programdata\\anaconda3\\lib\\site-packages (from gensim) (1.24.4)\n",
            "Requirement already satisfied: scipy>=0.18.1 in c:\\programdata\\anaconda3\\lib\\site-packages (from gensim) (1.9.1)\n",
            "Requirement already satisfied: smart-open>=1.8.1 in c:\\programdata\\anaconda3\\lib\\site-packages (from gensim) (5.2.1)\n"
          ]
        },
        {
          "name": "stderr",
          "output_type": "stream",
          "text": [
            "WARNING: There was an error checking the latest version of pip.\n",
            "WARNING: There was an error checking the latest version of pip.\n"
          ]
        },
        {
          "name": "stdout",
          "output_type": "stream",
          "text": [
            "Defaulting to user installation because normal site-packages is not writeable\n",
            "Collecting pyldavis\n",
            "  Downloading pyLDAvis-3.4.1-py3-none-any.whl.metadata (4.2 kB)\n",
            "Requirement already satisfied: numpy>=1.24.2 in c:\\programdata\\anaconda3\\lib\\site-packages (from pyldavis) (1.24.4)\n",
            "Requirement already satisfied: scipy in c:\\programdata\\anaconda3\\lib\\site-packages (from pyldavis) (1.9.1)\n",
            "Collecting pandas>=2.0.0 (from pyldavis)\n",
            "  Downloading pandas-2.2.3-cp39-cp39-win_amd64.whl.metadata (19 kB)\n",
            "Collecting joblib>=1.2.0 (from pyldavis)\n",
            "  Downloading joblib-1.4.2-py3-none-any.whl.metadata (5.4 kB)\n",
            "Requirement already satisfied: jinja2 in c:\\programdata\\anaconda3\\lib\\site-packages (from pyldavis) (2.11.3)\n",
            "Requirement already satisfied: numexpr in c:\\programdata\\anaconda3\\lib\\site-packages (from pyldavis) (2.8.3)\n",
            "Collecting funcy (from pyldavis)\n",
            "  Downloading funcy-2.0-py2.py3-none-any.whl.metadata (5.9 kB)\n",
            "Requirement already satisfied: scikit-learn>=1.0.0 in c:\\programdata\\anaconda3\\lib\\site-packages (from pyldavis) (1.0.2)\n",
            "Requirement already satisfied: gensim in c:\\programdata\\anaconda3\\lib\\site-packages (from pyldavis) (4.1.2)\n",
            "Requirement already satisfied: setuptools in c:\\programdata\\anaconda3\\lib\\site-packages (from pyldavis) (63.4.1)\n",
            "Requirement already satisfied: python-dateutil>=2.8.2 in c:\\programdata\\anaconda3\\lib\\site-packages (from pandas>=2.0.0->pyldavis) (2.8.2)\n",
            "Requirement already satisfied: pytz>=2020.1 in c:\\programdata\\anaconda3\\lib\\site-packages (from pandas>=2.0.0->pyldavis) (2022.1)\n",
            "Collecting tzdata>=2022.7 (from pandas>=2.0.0->pyldavis)\n",
            "  Downloading tzdata-2024.2-py2.py3-none-any.whl.metadata (1.4 kB)\n",
            "Requirement already satisfied: threadpoolctl>=2.0.0 in c:\\programdata\\anaconda3\\lib\\site-packages (from scikit-learn>=1.0.0->pyldavis) (2.2.0)\n",
            "Requirement already satisfied: smart-open>=1.8.1 in c:\\programdata\\anaconda3\\lib\\site-packages (from gensim->pyldavis) (5.2.1)\n",
            "Requirement already satisfied: MarkupSafe>=0.23 in c:\\programdata\\anaconda3\\lib\\site-packages (from jinja2->pyldavis) (2.0.1)\n",
            "Requirement already satisfied: packaging in c:\\programdata\\anaconda3\\lib\\site-packages (from numexpr->pyldavis) (21.3)\n",
            "Requirement already satisfied: six>=1.5 in c:\\programdata\\anaconda3\\lib\\site-packages (from python-dateutil>=2.8.2->pandas>=2.0.0->pyldavis) (1.16.0)\n",
            "Requirement already satisfied: pyparsing!=3.0.5,>=2.0.2 in c:\\programdata\\anaconda3\\lib\\site-packages (from packaging->numexpr->pyldavis) (3.0.9)\n",
            "Downloading pyLDAvis-3.4.1-py3-none-any.whl (2.6 MB)\n",
            "   ---------------------------------------- 2.6/2.6 MB 66.6 kB/s eta 0:00:00\n",
            "Downloading joblib-1.4.2-py3-none-any.whl (301 kB)\n",
            "   --------------------------------------- 301.8/301.8 kB 56.9 kB/s eta 0:00:00\n",
            "Downloading pandas-2.2.3-cp39-cp39-win_amd64.whl (11.6 MB)\n",
            "   ---------------------------------------- 11.6/11.6 MB 114.7 kB/s eta 0:00:00\n",
            "Downloading funcy-2.0-py2.py3-none-any.whl (30 kB)\n",
            "Downloading tzdata-2024.2-py2.py3-none-any.whl (346 kB)\n",
            "   -------------------------------------- 346.6/346.6 kB 148.4 kB/s eta 0:00:00\n",
            "Installing collected packages: funcy, tzdata, joblib, pandas, pyldavis\n",
            "Successfully installed funcy-2.0 joblib-1.4.2 pandas-2.2.3 pyldavis-3.4.1 tzdata-2024.2\n"
          ]
        }
      ],
      "source": [
        "import math\n",
        "import matplotlib.pyplot as plt\n",
        "import collections\n",
        "\n",
        "!pip install gensim\n",
        "import gensim\n",
        "import gensim.corpora as corpora\n",
        "\n",
        "!pip install pyldavis\n",
        "import pyLDAvis\n",
        "import pyLDAvis.gensim"
      ]
    },
    {
      "cell_type": "code",
      "execution_count": null,
      "metadata": {
        "id": "69fnAIInA2Dp"
      },
      "outputs": [],
      "source": [
        "from sklearn.model_selection import train_test_split\n",
        "\n",
        "from gensim.utils import simple_preprocess\n",
        "from gensim.models import CoherenceModel"
      ]
    },
    {
      "cell_type": "code",
      "execution_count": null,
      "metadata": {
        "id": "33vTOySQA2Dq"
      },
      "outputs": [],
      "source": [
        "from sklearn.pipeline import Pipeline\n",
        "from sklearn.feature_extraction.text import CountVectorizer\n",
        "from sklearn.feature_extraction.text import TfidfVectorizer\n",
        "from sklearn.linear_model import LogisticRegression\n",
        "from sklearn.decomposition import TruncatedSVD\n",
        "from sklearn.decomposition import LatentDirichletAllocation"
      ]
    },
    {
      "cell_type": "code",
      "execution_count": null,
      "metadata": {
        "id": "2ir_KG4RA2Dq"
      },
      "outputs": [],
      "source": [
        "from sklearn.feature_extraction.text import TfidfTransformer"
      ]
    },
    {
      "cell_type": "code",
      "execution_count": null,
      "metadata": {
        "id": "E2ypQlxiA2Dr"
      },
      "outputs": [],
      "source": [
        "from sklearn.metrics import classification_report"
      ]
    },
    {
      "cell_type": "code",
      "execution_count": null,
      "metadata": {
        "id": "UNHVsbPnqauL",
        "outputId": "e8d7d7f4-576b-4846-b06a-f3b4a08adb95",
        "scrolled": true
      },
      "outputs": [
        {
          "name": "stderr",
          "output_type": "stream",
          "text": [
            "201030it [00:18, 11074.31it/s]\n"
          ]
        }
      ],
      "source": [
        "responses = []\n",
        "with open ('banki_responses.json', 'r') as thefile:\n",
        "    for row in tqdm(thefile):\n",
        "        resp = json.loads(row)\n",
        "        if not resp['rating_not_checked'] and (len(resp['text'].split()) > 0):\n",
        "            responses.append(resp)"
      ]
    },
    {
      "cell_type": "markdown",
      "metadata": {
        "id": "F0ixYxfSqauM"
      },
      "source": [
        "\n",
        "Посмотрим на пример отзыва:"
      ]
    },
    {
      "cell_type": "code",
      "execution_count": null,
      "metadata": {
        "id": "Dd7m6GpMqauP",
        "outputId": "975085c3-9f8c-4a64-ac12-747ffab282ce"
      },
      "outputs": [
        {
          "data": {
            "text/plain": [
              "{'city': 'г. Саратов',\n",
              " 'rating_not_checked': False,\n",
              " 'title': 'Карта ко вкладу',\n",
              " 'num_comments': 0,\n",
              " 'bank_license': 'лицензия № 880',\n",
              " 'author': 'ronnichka',\n",
              " 'bank_name': 'Югра',\n",
              " 'datetime': '2015-06-03 20:56:57',\n",
              " 'text': 'Здравствуйте! Хотела написать, что мне месяц не выдают карту ко вкладу, ссылаясь на \"нам же их из Самары везут\" (на секундочку 5 часов езды от нашего города). Но! Прочитала, что людям 3,5 месяцев не выдают карту, и поняла, что у меня все хорошо, пока что. И подарок мне дали, и кулер в отделении есть. Так что я, конечно, готова ждать. Правда хотелось бы не очень долго.',\n",
              " 'rating_grade': 3}"
            ]
          },
          "execution_count": 4,
          "metadata": {},
          "output_type": "execute_result"
        }
      ],
      "source": [
        "responses[99]"
      ]
    },
    {
      "cell_type": "code",
      "execution_count": null,
      "metadata": {
        "id": "sTrSl--eA2Du"
      },
      "outputs": [],
      "source": [
        "df = pd.DataFrame(responses)"
      ]
    },
    {
      "cell_type": "code",
      "execution_count": null,
      "metadata": {
        "id": "ZZflameSA2Dv",
        "outputId": "83674e8c-157a-42dd-cf20-45a1087215f8"
      },
      "outputs": [
        {
          "data": {
            "text/html": [
              "<div>\n",
              "<style scoped>\n",
              "    .dataframe tbody tr th:only-of-type {\n",
              "        vertical-align: middle;\n",
              "    }\n",
              "\n",
              "    .dataframe tbody tr th {\n",
              "        vertical-align: top;\n",
              "    }\n",
              "\n",
              "    .dataframe thead th {\n",
              "        text-align: right;\n",
              "    }\n",
              "</style>\n",
              "<table border=\"1\" class=\"dataframe\">\n",
              "  <thead>\n",
              "    <tr style=\"text-align: right;\">\n",
              "      <th></th>\n",
              "      <th>city</th>\n",
              "      <th>rating_not_checked</th>\n",
              "      <th>title</th>\n",
              "      <th>num_comments</th>\n",
              "      <th>bank_license</th>\n",
              "      <th>author</th>\n",
              "      <th>bank_name</th>\n",
              "      <th>datetime</th>\n",
              "      <th>text</th>\n",
              "      <th>rating_grade</th>\n",
              "    </tr>\n",
              "  </thead>\n",
              "  <tbody>\n",
              "    <tr>\n",
              "      <th>0</th>\n",
              "      <td>г. Москва</td>\n",
              "      <td>False</td>\n",
              "      <td>Жалоба</td>\n",
              "      <td>0</td>\n",
              "      <td>лицензия № 2562</td>\n",
              "      <td>uhnov1</td>\n",
              "      <td>Бинбанк</td>\n",
              "      <td>2015-06-08 12:50:54</td>\n",
              "      <td>Добрый день! Я не являюсь клиентом банка и пор...</td>\n",
              "      <td>NaN</td>\n",
              "    </tr>\n",
              "    <tr>\n",
              "      <th>1</th>\n",
              "      <td>г. Новосибирск</td>\n",
              "      <td>False</td>\n",
              "      <td>Не могу пользоваться услугой Сбербанк он-лайн</td>\n",
              "      <td>0</td>\n",
              "      <td>лицензия № 1481</td>\n",
              "      <td>Foryou</td>\n",
              "      <td>Сбербанк России</td>\n",
              "      <td>2015-06-08 11:09:57</td>\n",
              "      <td>Доброго дня! Являюсь держателем зарплатной кар...</td>\n",
              "      <td>NaN</td>\n",
              "    </tr>\n",
              "    <tr>\n",
              "      <th>2</th>\n",
              "      <td>г. Москва</td>\n",
              "      <td>False</td>\n",
              "      <td>Двойное списание за один товар.</td>\n",
              "      <td>1</td>\n",
              "      <td>лицензия № 2562</td>\n",
              "      <td>Vladimir84</td>\n",
              "      <td>Бинбанк</td>\n",
              "      <td>2015-06-05 20:14:28</td>\n",
              "      <td>Здравствуйте!  Дублирую свое заявление от 03.0...</td>\n",
              "      <td>NaN</td>\n",
              "    </tr>\n",
              "    <tr>\n",
              "      <th>3</th>\n",
              "      <td>г. Ставрополь</td>\n",
              "      <td>False</td>\n",
              "      <td>Меняют проценты комиссии  не предупредив и не ...</td>\n",
              "      <td>2</td>\n",
              "      <td>лицензия № 1481</td>\n",
              "      <td>643609</td>\n",
              "      <td>Сбербанк России</td>\n",
              "      <td>2015-06-05 13:51:01</td>\n",
              "      <td>Добрый день!! Я открыл расчетный счет в СберБа...</td>\n",
              "      <td>NaN</td>\n",
              "    </tr>\n",
              "    <tr>\n",
              "      <th>4</th>\n",
              "      <td>г. Челябинск</td>\n",
              "      <td>False</td>\n",
              "      <td>Верните денежные средства за страховку</td>\n",
              "      <td>1</td>\n",
              "      <td>лицензия № 2766</td>\n",
              "      <td>anfisa-2003</td>\n",
              "      <td>ОТП Банк</td>\n",
              "      <td>2015-06-05 10:58:12</td>\n",
              "      <td>04.03.2015 г. взяла кредит в вашем банке, заяв...</td>\n",
              "      <td>NaN</td>\n",
              "    </tr>\n",
              "  </tbody>\n",
              "</table>\n",
              "</div>"
            ],
            "text/plain": [
              "             city  rating_not_checked  \\\n",
              "0       г. Москва               False   \n",
              "1  г. Новосибирск               False   \n",
              "2       г. Москва               False   \n",
              "3   г. Ставрополь               False   \n",
              "4    г. Челябинск               False   \n",
              "\n",
              "                                               title  num_comments  \\\n",
              "0                                             Жалоба             0   \n",
              "1      Не могу пользоваться услугой Сбербанк он-лайн             0   \n",
              "2                    Двойное списание за один товар.             1   \n",
              "3  Меняют проценты комиссии  не предупредив и не ...             2   \n",
              "4             Верните денежные средства за страховку             1   \n",
              "\n",
              "      bank_license       author        bank_name             datetime  \\\n",
              "0  лицензия № 2562       uhnov1          Бинбанк  2015-06-08 12:50:54   \n",
              "1  лицензия № 1481       Foryou  Сбербанк России  2015-06-08 11:09:57   \n",
              "2  лицензия № 2562   Vladimir84          Бинбанк  2015-06-05 20:14:28   \n",
              "3  лицензия № 1481       643609  Сбербанк России  2015-06-05 13:51:01   \n",
              "4  лицензия № 2766  anfisa-2003         ОТП Банк  2015-06-05 10:58:12   \n",
              "\n",
              "                                                text  rating_grade  \n",
              "0  Добрый день! Я не являюсь клиентом банка и пор...           NaN  \n",
              "1  Доброго дня! Являюсь держателем зарплатной кар...           NaN  \n",
              "2  Здравствуйте!  Дублирую свое заявление от 03.0...           NaN  \n",
              "3  Добрый день!! Я открыл расчетный счет в СберБа...           NaN  \n",
              "4  04.03.2015 г. взяла кредит в вашем банке, заяв...           NaN  "
            ]
          },
          "execution_count": 6,
          "metadata": {},
          "output_type": "execute_result"
        }
      ],
      "source": [
        "df.head()"
      ]
    },
    {
      "cell_type": "code",
      "execution_count": null,
      "metadata": {
        "id": "AplEV5IvA2Dv",
        "outputId": "c9666f46-db93-4fdf-902f-6870c2756284"
      },
      "outputs": [
        {
          "name": "stdout",
          "output_type": "stream",
          "text": [
            "<class 'pandas.core.frame.DataFrame'>\n",
            "RangeIndex: 153499 entries, 0 to 153498\n",
            "Data columns (total 10 columns):\n",
            " #   Column              Non-Null Count   Dtype  \n",
            "---  ------              --------------   -----  \n",
            " 0   city                138325 non-null  object \n",
            " 1   rating_not_checked  153499 non-null  bool   \n",
            " 2   title               153499 non-null  object \n",
            " 3   num_comments        153499 non-null  int64  \n",
            " 4   bank_license        153498 non-null  object \n",
            " 5   author              153479 non-null  object \n",
            " 6   bank_name           153499 non-null  object \n",
            " 7   datetime            153499 non-null  object \n",
            " 8   text                153499 non-null  object \n",
            " 9   rating_grade        88658 non-null   float64\n",
            "dtypes: bool(1), float64(1), int64(1), object(7)\n",
            "memory usage: 10.7+ MB\n"
          ]
        }
      ],
      "source": [
        "df.info()"
      ]
    },
    {
      "cell_type": "code",
      "execution_count": null,
      "metadata": {
        "id": "Cf-gvK6bA2Dw",
        "outputId": "05dcb7d1-b024-4e07-826d-bd340f87401e"
      },
      "outputs": [
        {
          "data": {
            "text/plain": [
              "5824"
            ]
          },
          "execution_count": 8,
          "metadata": {},
          "output_type": "execute_result"
        }
      ],
      "source": [
        "len(df.city.unique())"
      ]
    },
    {
      "cell_type": "code",
      "execution_count": null,
      "metadata": {
        "id": "5-Goc9xJA2Dw",
        "outputId": "7259a4bc-e71f-4fe5-f3c2-37a6941b3cc6"
      },
      "outputs": [
        {
          "data": {
            "text/plain": [
              "city\n",
              "г.  (Красногорск)                           1\n",
              "г.  (Москва)                                2\n",
              "г.  (Россия)                                1\n",
              "г.  (Ханты-Мансийский автономный округ)     1\n",
              "г. -                                        1\n",
              "                                           ..\n",
              "г. ялуторовск                               1\n",
              "г. янаул                                    2\n",
              "г. ярославль                               12\n",
              "г. ярцево                                   2\n",
              "г. … или другой населенный пункт            1\n",
              "Name: text, Length: 5823, dtype: int64"
            ]
          },
          "execution_count": 9,
          "metadata": {},
          "output_type": "execute_result"
        }
      ],
      "source": [
        "df.groupby(\"city\")[\"text\"].count()"
      ]
    },
    {
      "cell_type": "code",
      "execution_count": null,
      "metadata": {
        "id": "_D68LpmQA2Dw"
      },
      "outputs": [],
      "source": [
        "def clean_city(s):\n",
        "    if s is not None:\n",
        "        s = s.lower()\n",
        "        s = s.replace(\"г.\", \"\")\n",
        "        s = re.sub(r\"[^а-яё\\-\\s]\",\" \", s)\n",
        "        s = re.sub(r\"\\s+\", \" \", s)\n",
        "        return s\n",
        "    else:\n",
        "        pass\n"
      ]
    },
    {
      "cell_type": "code",
      "execution_count": null,
      "metadata": {
        "id": "P-BM6FT5A2Dx"
      },
      "outputs": [],
      "source": [
        "df[\"city\"] = df[\"city\"].apply(clean_city)"
      ]
    },
    {
      "cell_type": "code",
      "execution_count": null,
      "metadata": {
        "id": "UYmrMo5QA2Dx",
        "outputId": "177749a3-6e35-4627-80ba-7d13b18511a9"
      },
      "outputs": [
        {
          "data": {
            "text/plain": [
              "city\n",
              " москва             56780\n",
              " санкт-петербург    14657\n",
              " новосибирск         2382\n",
              " екатеринбург        2376\n",
              " нижний новгород     2037\n",
              " ростов-на-дону      1939\n",
              " самара              1785\n",
              " челябинск           1541\n",
              " казань              1516\n",
              " уфа                 1321\n",
              "Name: text, dtype: int64"
            ]
          },
          "execution_count": 12,
          "metadata": {},
          "output_type": "execute_result"
        }
      ],
      "source": [
        "df.groupby(\"city\")[\"text\"].count().sort_values(ascending = False)[:10]"
      ]
    },
    {
      "cell_type": "code",
      "execution_count": null,
      "metadata": {
        "id": "kj_fQUmGA2Dx",
        "outputId": "914bbcd0-b09e-4994-f91d-c25ffd9b53ed"
      },
      "outputs": [
        {
          "data": {
            "text/plain": [
              "bank_name\n",
              "Сбербанк России                                         26327\n",
              "Альфа-Банк                                              10224\n",
              "ВТБ 24                                                   8185\n",
              "Русский Стандарт                                         7943\n",
              "Хоум Кредит Банк                                         7549\n",
              "Тинькофф Банк                                            5387\n",
              "Национальный Банк «Траст»                                4607\n",
              "Ренессанс Кредит                                         3849\n",
              "Связной Банк                                             3775\n",
              "ОТП Банк                                                 3237\n",
              "Восточный Экспресс Банк                                  3138\n",
              "Райффайзенбанк                                           3057\n",
              "Московский Кредитный Банк                                2944\n",
              "Ситибанк                                                 2848\n",
              "Авангард                                                 2733\n",
              "Промсвязьбанк                                            2586\n",
              "ЮниКредит Банк                                           2488\n",
              "Банк Москвы                                              2456\n",
              "Ханты-Мансийский банк Открытие                           2158\n",
              "МТС Банк                                                 1870\n",
              "Киви Банк                                                1741\n",
              "Кредит Европа Банк                                       1683\n",
              "Росбанк                                                  1658\n",
              "Бинбанк                                                  1646\n",
              "БИНБАНК кредитные карты                                  1464\n",
              "Сетелем Банк                                             1351\n",
              "Московский Областной Банк                                1277\n",
              "Юниаструм Банк                                           1111\n",
              "Современный Коммерческий Банк (бывш. ДжиИ Мани Банк)      993\n",
              "Уралсиб                                                   989\n",
              "АйМаниБанк                                                925\n",
              "Совкомбанк                                                919\n",
              "Абсолют Банк                                              782\n",
              "МДМ Банк                                                  776\n",
              "Русфинанс Банк                                            723\n",
              "Русславбанк                                               715\n",
              "2Т Банк                                                   655\n",
              "СБ Банк (Судостроительный банк)                           555\n",
              "ФК Открытие (бывш. НОМОС-Банк)                            549\n",
              "Уральский Банк Реконструкции и Развития                   532\n",
              "Россельхозбанк                                            532\n",
              "Пробизнесбанк                                             521\n",
              "Газпромбанк                                               505\n",
              "Лето Банк                                                 501\n",
              "ДельтаКредит                                              501\n",
              "Росгосстрах Банк                                          498\n",
              "БНП Париба Банк                                           475\n",
              "РосинтерБанк                                              472\n",
              "СМП Банк                                                  463\n",
              "Югра                                                      451\n",
              "Name: text, dtype: int64"
            ]
          },
          "execution_count": 13,
          "metadata": {},
          "output_type": "execute_result"
        }
      ],
      "source": [
        "df.groupby(\"bank_name\")[\"text\"].count().sort_values(ascending = False)[:50]"
      ]
    },
    {
      "cell_type": "code",
      "execution_count": null,
      "metadata": {
        "id": "R5Q2rIjwA2Dy",
        "outputId": "7303f753-7a2a-40d6-a50c-d0247ed59998"
      },
      "outputs": [
        {
          "data": {
            "text/html": [
              "<div>\n",
              "<style scoped>\n",
              "    .dataframe tbody tr th:only-of-type {\n",
              "        vertical-align: middle;\n",
              "    }\n",
              "\n",
              "    .dataframe tbody tr th {\n",
              "        vertical-align: top;\n",
              "    }\n",
              "\n",
              "    .dataframe thead th {\n",
              "        text-align: right;\n",
              "    }\n",
              "</style>\n",
              "<table border=\"1\" class=\"dataframe\">\n",
              "  <thead>\n",
              "    <tr style=\"text-align: right;\">\n",
              "      <th></th>\n",
              "      <th></th>\n",
              "      <th>text</th>\n",
              "    </tr>\n",
              "    <tr>\n",
              "      <th>city</th>\n",
              "      <th>bank_name</th>\n",
              "      <th></th>\n",
              "    </tr>\n",
              "  </thead>\n",
              "  <tbody>\n",
              "    <tr>\n",
              "      <th rowspan=\"4\" valign=\"top\">москва</th>\n",
              "      <th>Сбербанк России</th>\n",
              "      <td>8341</td>\n",
              "    </tr>\n",
              "    <tr>\n",
              "      <th>Альфа-Банк</th>\n",
              "      <td>3972</td>\n",
              "    </tr>\n",
              "    <tr>\n",
              "      <th>Русский Стандарт</th>\n",
              "      <td>2905</td>\n",
              "    </tr>\n",
              "    <tr>\n",
              "      <th>ВТБ 24</th>\n",
              "      <td>2758</td>\n",
              "    </tr>\n",
              "    <tr>\n",
              "      <th>санкт-петербург</th>\n",
              "      <th>Сбербанк России</th>\n",
              "      <td>2493</td>\n",
              "    </tr>\n",
              "    <tr>\n",
              "      <th>...</th>\n",
              "      <th>...</th>\n",
              "      <td>...</td>\n",
              "    </tr>\n",
              "    <tr>\n",
              "      <th rowspan=\"4\" valign=\"top\">миасс</th>\n",
              "      <th>Киви Банк</th>\n",
              "      <td>1</td>\n",
              "    </tr>\n",
              "    <tr>\n",
              "      <th>Кредит Европа Банк</th>\n",
              "      <td>1</td>\n",
              "    </tr>\n",
              "    <tr>\n",
              "      <th>Промсвязьбанк</th>\n",
              "      <td>1</td>\n",
              "    </tr>\n",
              "    <tr>\n",
              "      <th>Райффайзенбанк</th>\n",
              "      <td>1</td>\n",
              "    </tr>\n",
              "    <tr>\n",
              "      <th>ёсаратов</th>\n",
              "      <th>Ренессанс Кредит</th>\n",
              "      <td>1</td>\n",
              "    </tr>\n",
              "  </tbody>\n",
              "</table>\n",
              "<p>16794 rows × 1 columns</p>\n",
              "</div>"
            ],
            "text/plain": [
              "                                     text\n",
              "city             bank_name               \n",
              " москва          Сбербанк России     8341\n",
              "                 Альфа-Банк          3972\n",
              "                 Русский Стандарт    2905\n",
              "                 ВТБ 24              2758\n",
              " санкт-петербург Сбербанк России     2493\n",
              "...                                   ...\n",
              " миасс           Киви Банк              1\n",
              "                 Кредит Европа Банк     1\n",
              "                 Промсвязьбанк          1\n",
              "                 Райффайзенбанк         1\n",
              " ёсаратов        Ренессанс Кредит       1\n",
              "\n",
              "[16794 rows x 1 columns]"
            ]
          },
          "execution_count": 14,
          "metadata": {},
          "output_type": "execute_result"
        }
      ],
      "source": [
        "pd.pivot_table(df, values = \"text\", index = [\"city\", \"bank_name\"], aggfunc = \"count\").sort_values(\"text\", ascending = False)"
      ]
    },
    {
      "cell_type": "code",
      "execution_count": null,
      "metadata": {
        "id": "EsJfRmM8A2Dy"
      },
      "outputs": [],
      "source": [
        "df[\"lenchartext\"] = df.text.apply(lambda s: len(s))"
      ]
    },
    {
      "cell_type": "code",
      "execution_count": null,
      "metadata": {
        "id": "8_2IKnqyA2Dy",
        "outputId": "2e2d58f1-372f-435f-aef6-561083eab808"
      },
      "outputs": [
        {
          "data": {
            "text/plain": [
              "count    153499.000000\n",
              "mean       1554.212790\n",
              "std        1319.098042\n",
              "min          23.000000\n",
              "25%         732.000000\n",
              "50%        1193.000000\n",
              "75%        1929.000000\n",
              "max       32082.000000\n",
              "Name: lenchartext, dtype: float64"
            ]
          },
          "execution_count": 16,
          "metadata": {},
          "output_type": "execute_result"
        }
      ],
      "source": [
        "df[\"lenchartext\"].describe()"
      ]
    },
    {
      "cell_type": "code",
      "execution_count": null,
      "metadata": {
        "id": "j7Ur4LH4A2Dz",
        "outputId": "9c69d6d6-43f5-4146-b52f-dafb228b4653"
      },
      "outputs": [
        {
          "data": {
            "image/png": "[encoded data removed]",
            "text/plain": [
              "<Figure size 640x480 with 1 Axes>"
            ]
          },
          "metadata": {},
          "output_type": "display_data"
        }
      ],
      "source": [
        "df[\"lenchartext\"][df[\"lenchartext\"] < 5000].hist()\n",
        "plt.xlabel(\"длина комментария в символах\")\n",
        "plt.ylabel(\"количество комментариев\");"
      ]
    },
    {
      "cell_type": "code",
      "execution_count": null,
      "metadata": {
        "id": "jxhOBAOSA2Dz"
      },
      "outputs": [],
      "source": [
        "df[\"lenwordtext\"] = df.text.apply(lambda s: len(s.split()))"
      ]
    },
    {
      "cell_type": "code",
      "execution_count": null,
      "metadata": {
        "id": "ISxKeQkbA2Dz",
        "outputId": "de32375d-d38e-4775-b5f2-6dd95674c6b0"
      },
      "outputs": [
        {
          "data": {
            "text/plain": [
              "count    153499.000000\n",
              "mean        237.062743\n",
              "std         201.430014\n",
              "min           1.000000\n",
              "25%         111.000000\n",
              "50%         182.000000\n",
              "75%         295.000000\n",
              "max        5000.000000\n",
              "Name: lenwordtext, dtype: float64"
            ]
          },
          "execution_count": 19,
          "metadata": {},
          "output_type": "execute_result"
        }
      ],
      "source": [
        "df[\"lenwordtext\"].describe()"
      ]
    },
    {
      "cell_type": "code",
      "execution_count": null,
      "metadata": {
        "id": "8dC4BknxA2D0",
        "outputId": "bbc9f2b1-99a5-4070-df54-5e7f7d3411b8"
      },
      "outputs": [
        {
          "data": {
            "image/png": "[encoded data removed]",
            "text/plain": [
              "<Figure size 640x480 with 1 Axes>"
            ]
          },
          "metadata": {},
          "output_type": "display_data"
        }
      ],
      "source": [
        "df[\"lenwordtext\"][df[\"lenchartext\"] < 500].hist()\n",
        "plt.xlabel(\"длина комментария в словах\")\n",
        "plt.ylabel(\"количество комментариев\");"
      ]
    },
    {
      "cell_type": "code",
      "execution_count": null,
      "metadata": {
        "id": "pNzlNKRBA2D0"
      },
      "outputs": [],
      "source": [
        "def clean_text(text):\n",
        "    text = text.lower()\n",
        "    text = re.sub(r'[^\\sa-zA-Zа-яА-ЯёЁ0-9\\-]', ' ', text)\n",
        "    text = re.sub(r'\\w*\\d+\\w*', \" \", text)\n",
        "    text = re.sub(r'\\s{2,}', \" \", text)\n",
        "    return text"
      ]
    },
    {
      "cell_type": "code",
      "execution_count": null,
      "metadata": {
        "id": "ha-j-uYNA2D0"
      },
      "outputs": [],
      "source": [
        "df[\"clean_text\"] = df[\"text\"].apply(clean_text)"
      ]
    },
    {
      "cell_type": "code",
      "execution_count": null,
      "metadata": {
        "id": "RkkOQ3J2A2D0",
        "outputId": "ed23d244-462c-4b8b-98c8-60114ee18c41"
      },
      "outputs": [
        {
          "data": {
            "text/plain": [
              "0     добрый день я не являюсь клиентом банка и пору...\n",
              "1     доброго дня являюсь держателем зарплатной карт...\n",
              "2     здравствуйте дублирую свое заявление от в до м...\n",
              "3     добрый день я открыл расчетный счет в сбербанк...\n",
              "4      г взяла кредит в вашем банке заявленная мною ...\n",
              "5     я как и многие вкладчики открыл на руб со счас...\n",
              "6     здравствуйте подал заявление на получение уэк ...\n",
              "7     был крайне удивлён новостью от мая - об унифик...\n",
              "8     сотрудники банка восточный систематически сооб...\n",
              "9     добрый день являюсь заемщиком в банке втб боле...\n",
              "10    вот даже и засомневалась какую ставить оценку ...\n",
              "11    добрый день ещё апреля года я пыталась сделать...\n",
              "12    разбавлю негативные отзывы ложкой меда благода...\n",
              "13    без оценки т к несколько лет отличной работы и...\n",
              "14    также как и многие давний клиент банка был дов...\n",
              "15     - - были произведены платежа через банкомат в...\n",
              "16    здравствуйте уважаемый совкомбанк моя знакомая...\n",
              "17    хочется высказать по поводу режима работы банк...\n",
              "18    добрый день вновь приходится писать об этом ба...\n",
              "19    открыт вклад и счет в usd плюс к этому есть за...\n",
              "20    имею три потребительских кредита в просроченны...\n",
              "21    здравствуйте хочу высказать свое мнение о рабо...\n",
              "22    я не являюсь клиентом оао альфа-банк у меня не...\n",
              "23    в году в банке втб была приобретена серебряная...\n",
              "24    в году в банке втб была приобретена серебряная...\n",
              "25    в марте оформил пенсионную карту проценты начи...\n",
              "26    мне надо было пополнить вклад это выполняется ...\n",
              "27    я являюсь клиентом вашего банка платежи вношу ...\n",
              "28    выражаю благодарность персоналу дополнительног...\n",
              "29    здравствуйте подскажите мне пожалуйста стацион...\n",
              "30    добрый день имею вклад оптимальный вопрос могу...\n",
              "31    подавал заявку на потреб кредит в банке в офис...\n",
              "32     по москве т олько что пришел домой внутри всё...\n",
              "33    доброго времени вчера мне поступило смс-уведом...\n",
              "34    здравствуйте уважаемые сотрудники банка я собр...\n",
              "35    являюсь счастливым обладателем кредитной карты...\n",
              "36    сотрудники филиала посоветовали часть средств ...\n",
              "37    жалоба я пришла в отделение дополнительного оф...\n",
              "38    по моему тарифу предусмотрен операционный день...\n",
              "39    доброго времени суток активно пользуюсь кредит...\n",
              "40    по претензии от решения нет от банка никаких д...\n",
              "41    добрый день являюсь зарплатным клиентом альфа-...\n",
              "42    три года работала в банке хоум кредит и вот в ...\n",
              "43    без оценки за черный юмор четверка за исполнен...\n",
              "44    ооо изменило юридический адрес на адрес пропис...\n",
              "45    здравствуйте неделю назад я приобрела себе сим...\n",
              "46     invalid img прекратите систематически мне зво...\n",
              "47    здравствуйте являюсь клиентом вашего банка в о...\n",
              "48    добрый день я оформила потребительский кредит ...\n",
              "49    сделал с покупок на алиэкспресс на руб в итоге...\n",
              "Name: clean_text, dtype: object"
            ]
          },
          "execution_count": 23,
          "metadata": {},
          "output_type": "execute_result"
        }
      ],
      "source": [
        "df[\"clean_text\"][:50]"
      ]
    },
    {
      "cell_type": "code",
      "execution_count": null,
      "metadata": {
        "id": "igGgzW_1A2D1"
      },
      "outputs": [],
      "source": [
        "dictionary_ = Counter(df[\"clean_text\"].str.split().explode())"
      ]
    },
    {
      "cell_type": "code",
      "execution_count": null,
      "metadata": {
        "id": "uRyqW-W1A2D1",
        "outputId": "49f01273-6d66-4a7c-f91a-f42dfa48d7fb"
      },
      "outputs": [
        {
          "data": {
            "text/plain": [
              "[('в', 1327451),\n",
              " ('и', 1057827),\n",
              " ('не', 852019),\n",
              " ('на', 704577),\n",
              " ('что', 621899),\n",
              " ('я', 576013),\n",
              " ('с', 460067),\n",
              " ('-', 372835),\n",
              " ('по', 365282),\n",
              " ('мне', 320752)]"
            ]
          },
          "execution_count": 25,
          "metadata": {},
          "output_type": "execute_result"
        }
      ],
      "source": [
        "dictionary_.most_common(10)"
      ]
    },
    {
      "cell_type": "code",
      "execution_count": null,
      "metadata": {
        "tags": [],
        "id": "_0xvMA5mA2D1"
      },
      "outputs": [],
      "source": [
        "stop_words = stopwords.words(\"russian\")"
      ]
    },
    {
      "cell_type": "code",
      "execution_count": null,
      "metadata": {
        "id": "AJvE9IkoA2D2",
        "outputId": "04c96202-8781-48ae-c9d8-07001e1c8217"
      },
      "outputs": [
        {
          "data": {
            "text/plain": [
              "['и',\n",
              " 'в',\n",
              " 'во',\n",
              " 'не',\n",
              " 'что',\n",
              " 'он',\n",
              " 'на',\n",
              " 'я',\n",
              " 'с',\n",
              " 'со',\n",
              " 'как',\n",
              " 'а',\n",
              " 'то',\n",
              " 'все',\n",
              " 'она',\n",
              " 'так',\n",
              " 'его',\n",
              " 'но',\n",
              " 'да',\n",
              " 'ты',\n",
              " 'к',\n",
              " 'у',\n",
              " 'же',\n",
              " 'вы',\n",
              " 'за',\n",
              " 'бы',\n",
              " 'по',\n",
              " 'только',\n",
              " 'ее',\n",
              " 'мне',\n",
              " 'было',\n",
              " 'вот',\n",
              " 'от',\n",
              " 'меня',\n",
              " 'еще',\n",
              " 'нет',\n",
              " 'о',\n",
              " 'из',\n",
              " 'ему',\n",
              " 'теперь',\n",
              " 'когда',\n",
              " 'даже',\n",
              " 'ну',\n",
              " 'вдруг',\n",
              " 'ли',\n",
              " 'если',\n",
              " 'уже',\n",
              " 'или',\n",
              " 'ни',\n",
              " 'быть',\n",
              " 'был',\n",
              " 'него',\n",
              " 'до',\n",
              " 'вас',\n",
              " 'нибудь',\n",
              " 'опять',\n",
              " 'уж',\n",
              " 'вам',\n",
              " 'ведь',\n",
              " 'там',\n",
              " 'потом',\n",
              " 'себя',\n",
              " 'ничего',\n",
              " 'ей',\n",
              " 'может',\n",
              " 'они',\n",
              " 'тут',\n",
              " 'где',\n",
              " 'есть',\n",
              " 'надо',\n",
              " 'ней',\n",
              " 'для',\n",
              " 'мы',\n",
              " 'тебя',\n",
              " 'их',\n",
              " 'чем',\n",
              " 'была',\n",
              " 'сам',\n",
              " 'чтоб',\n",
              " 'без',\n",
              " 'будто',\n",
              " 'чего',\n",
              " 'раз',\n",
              " 'тоже',\n",
              " 'себе',\n",
              " 'под',\n",
              " 'будет',\n",
              " 'ж',\n",
              " 'тогда',\n",
              " 'кто',\n",
              " 'этот',\n",
              " 'того',\n",
              " 'потому',\n",
              " 'этого',\n",
              " 'какой',\n",
              " 'совсем',\n",
              " 'ним',\n",
              " 'здесь',\n",
              " 'этом',\n",
              " 'один',\n",
              " 'почти',\n",
              " 'мой',\n",
              " 'тем',\n",
              " 'чтобы',\n",
              " 'нее',\n",
              " 'сейчас',\n",
              " 'были',\n",
              " 'куда',\n",
              " 'зачем',\n",
              " 'всех',\n",
              " 'никогда',\n",
              " 'можно',\n",
              " 'при',\n",
              " 'наконец',\n",
              " 'два',\n",
              " 'об',\n",
              " 'другой',\n",
              " 'хоть',\n",
              " 'после',\n",
              " 'над',\n",
              " 'больше',\n",
              " 'тот',\n",
              " 'через',\n",
              " 'эти',\n",
              " 'нас',\n",
              " 'про',\n",
              " 'всего',\n",
              " 'них',\n",
              " 'какая',\n",
              " 'много',\n",
              " 'разве',\n",
              " 'три',\n",
              " 'эту',\n",
              " 'моя',\n",
              " 'впрочем',\n",
              " 'хорошо',\n",
              " 'свою',\n",
              " 'этой',\n",
              " 'перед',\n",
              " 'иногда',\n",
              " 'лучше',\n",
              " 'чуть',\n",
              " 'том',\n",
              " 'нельзя',\n",
              " 'такой',\n",
              " 'им',\n",
              " 'более',\n",
              " 'всегда',\n",
              " 'конечно',\n",
              " 'всю',\n",
              " 'между']"
            ]
          },
          "execution_count": 28,
          "metadata": {},
          "output_type": "execute_result"
        }
      ],
      "source": [
        "stop_words"
      ]
    },
    {
      "cell_type": "code",
      "execution_count": null,
      "metadata": {
        "id": "q50-NDAvA2D2"
      },
      "outputs": [],
      "source": [
        "stop_words_set = set(stop_words + [\"-\", \"это\"])"
      ]
    },
    {
      "cell_type": "code",
      "execution_count": null,
      "metadata": {
        "id": "47vDKGvdA2D2"
      },
      "outputs": [],
      "source": [
        "df[\"clean_text_without_stops\"] = df[\"clean_text\"].apply(lambda s: \" \".join([word for word in s.split() if word not in stop_words_set]))"
      ]
    },
    {
      "cell_type": "code",
      "execution_count": null,
      "metadata": {
        "id": "rydLIWT3A2D2",
        "outputId": "b44ad56e-c767-4461-f7a2-8ac6c9eb3ef1"
      },
      "outputs": [
        {
          "data": {
            "text/html": [
              "<div>\n",
              "<style scoped>\n",
              "    .dataframe tbody tr th:only-of-type {\n",
              "        vertical-align: middle;\n",
              "    }\n",
              "\n",
              "    .dataframe tbody tr th {\n",
              "        vertical-align: top;\n",
              "    }\n",
              "\n",
              "    .dataframe thead th {\n",
              "        text-align: right;\n",
              "    }\n",
              "</style>\n",
              "<table border=\"1\" class=\"dataframe\">\n",
              "  <thead>\n",
              "    <tr style=\"text-align: right;\">\n",
              "      <th></th>\n",
              "      <th>city</th>\n",
              "      <th>rating_not_checked</th>\n",
              "      <th>title</th>\n",
              "      <th>num_comments</th>\n",
              "      <th>bank_license</th>\n",
              "      <th>author</th>\n",
              "      <th>bank_name</th>\n",
              "      <th>datetime</th>\n",
              "      <th>text</th>\n",
              "      <th>rating_grade</th>\n",
              "      <th>lenchartext</th>\n",
              "      <th>lenwordtext</th>\n",
              "      <th>clean_text</th>\n",
              "      <th>clean_text_without_stops</th>\n",
              "    </tr>\n",
              "  </thead>\n",
              "  <tbody>\n",
              "    <tr>\n",
              "      <th>0</th>\n",
              "      <td>москва</td>\n",
              "      <td>False</td>\n",
              "      <td>Жалоба</td>\n",
              "      <td>0</td>\n",
              "      <td>лицензия № 2562</td>\n",
              "      <td>uhnov1</td>\n",
              "      <td>Бинбанк</td>\n",
              "      <td>2015-06-08 12:50:54</td>\n",
              "      <td>Добрый день! Я не являюсь клиентом банка и пор...</td>\n",
              "      <td>NaN</td>\n",
              "      <td>1523</td>\n",
              "      <td>219</td>\n",
              "      <td>добрый день я не являюсь клиентом банка и пору...</td>\n",
              "      <td>добрый день являюсь клиентом банка поручителем...</td>\n",
              "    </tr>\n",
              "    <tr>\n",
              "      <th>1</th>\n",
              "      <td>новосибирск</td>\n",
              "      <td>False</td>\n",
              "      <td>Не могу пользоваться услугой Сбербанк он-лайн</td>\n",
              "      <td>0</td>\n",
              "      <td>лицензия № 1481</td>\n",
              "      <td>Foryou</td>\n",
              "      <td>Сбербанк России</td>\n",
              "      <td>2015-06-08 11:09:57</td>\n",
              "      <td>Доброго дня! Являюсь держателем зарплатной кар...</td>\n",
              "      <td>NaN</td>\n",
              "      <td>1026</td>\n",
              "      <td>140</td>\n",
              "      <td>доброго дня являюсь держателем зарплатной карт...</td>\n",
              "      <td>доброго дня являюсь держателем зарплатной карт...</td>\n",
              "    </tr>\n",
              "    <tr>\n",
              "      <th>2</th>\n",
              "      <td>москва</td>\n",
              "      <td>False</td>\n",
              "      <td>Двойное списание за один товар.</td>\n",
              "      <td>1</td>\n",
              "      <td>лицензия № 2562</td>\n",
              "      <td>Vladimir84</td>\n",
              "      <td>Бинбанк</td>\n",
              "      <td>2015-06-05 20:14:28</td>\n",
              "      <td>Здравствуйте!  Дублирую свое заявление от 03.0...</td>\n",
              "      <td>NaN</td>\n",
              "      <td>588</td>\n",
              "      <td>90</td>\n",
              "      <td>здравствуйте дублирую свое заявление от в до м...</td>\n",
              "      <td>здравствуйте дублирую свое заявление можайский...</td>\n",
              "    </tr>\n",
              "    <tr>\n",
              "      <th>3</th>\n",
              "      <td>ставрополь</td>\n",
              "      <td>False</td>\n",
              "      <td>Меняют проценты комиссии  не предупредив и не ...</td>\n",
              "      <td>2</td>\n",
              "      <td>лицензия № 1481</td>\n",
              "      <td>643609</td>\n",
              "      <td>Сбербанк России</td>\n",
              "      <td>2015-06-05 13:51:01</td>\n",
              "      <td>Добрый день!! Я открыл расчетный счет в СберБа...</td>\n",
              "      <td>NaN</td>\n",
              "      <td>740</td>\n",
              "      <td>123</td>\n",
              "      <td>добрый день я открыл расчетный счет в сбербанк...</td>\n",
              "      <td>добрый день открыл расчетный счет сбербанке юр...</td>\n",
              "    </tr>\n",
              "    <tr>\n",
              "      <th>4</th>\n",
              "      <td>челябинск</td>\n",
              "      <td>False</td>\n",
              "      <td>Верните денежные средства за страховку</td>\n",
              "      <td>1</td>\n",
              "      <td>лицензия № 2766</td>\n",
              "      <td>anfisa-2003</td>\n",
              "      <td>ОТП Банк</td>\n",
              "      <td>2015-06-05 10:58:12</td>\n",
              "      <td>04.03.2015 г. взяла кредит в вашем банке, заяв...</td>\n",
              "      <td>NaN</td>\n",
              "      <td>1896</td>\n",
              "      <td>306</td>\n",
              "      <td>г взяла кредит в вашем банке заявленная мною ...</td>\n",
              "      <td>г взяла кредит вашем банке заявленная мною сум...</td>\n",
              "    </tr>\n",
              "    <tr>\n",
              "      <th>...</th>\n",
              "      <td>...</td>\n",
              "      <td>...</td>\n",
              "      <td>...</td>\n",
              "      <td>...</td>\n",
              "      <td>...</td>\n",
              "      <td>...</td>\n",
              "      <td>...</td>\n",
              "      <td>...</td>\n",
              "      <td>...</td>\n",
              "      <td>...</td>\n",
              "      <td>...</td>\n",
              "      <td>...</td>\n",
              "      <td>...</td>\n",
              "      <td>...</td>\n",
              "    </tr>\n",
              "    <tr>\n",
              "      <th>153494</th>\n",
              "      <td>None</td>\n",
              "      <td>False</td>\n",
              "      <td>Не все так страшно</td>\n",
              "      <td>0</td>\n",
              "      <td>лицензия № 2557</td>\n",
              "      <td>Вера</td>\n",
              "      <td>Ситибанк</td>\n",
              "      <td>2005-05-18 14:38:00</td>\n",
              "      <td>Слишком большой банк, не всегда учитывает нашу...</td>\n",
              "      <td>5.0</td>\n",
              "      <td>353</td>\n",
              "      <td>52</td>\n",
              "      <td>слишком большой банк не всегда учитывает нашу ...</td>\n",
              "      <td>слишком большой банк учитывает нашу специфику ...</td>\n",
              "    </tr>\n",
              "    <tr>\n",
              "      <th>153495</th>\n",
              "      <td>None</td>\n",
              "      <td>False</td>\n",
              "      <td>А вы договор читали?</td>\n",
              "      <td>0</td>\n",
              "      <td>лицензия № 2557</td>\n",
              "      <td>Kirill</td>\n",
              "      <td>Ситибанк</td>\n",
              "      <td>2005-04-14 15:25:00</td>\n",
              "      <td>Вы сами виноваты в своих проблемах, кроме пред...</td>\n",
              "      <td>3.0</td>\n",
              "      <td>727</td>\n",
              "      <td>111</td>\n",
              "      <td>вы сами виноваты в своих проблемах кроме предп...</td>\n",
              "      <td>сами виноваты своих проблемах кроме предпослед...</td>\n",
              "    </tr>\n",
              "    <tr>\n",
              "      <th>153496</th>\n",
              "      <td>None</td>\n",
              "      <td>False</td>\n",
              "      <td>Филиал банка \"ОВК\" в г. Иваново</td>\n",
              "      <td>1</td>\n",
              "      <td>лицензия № 2272</td>\n",
              "      <td>AlexU-post</td>\n",
              "      <td>Росбанк</td>\n",
              "      <td>2005-04-08 14:07:00</td>\n",
              "      <td>Уважаемое руководство банка «ОВК»! Я проживаю ...</td>\n",
              "      <td>1.0</td>\n",
              "      <td>5388</td>\n",
              "      <td>764</td>\n",
              "      <td>уважаемое руководство банка овк я проживаю в г...</td>\n",
              "      <td>уважаемое руководство банка овк проживаю г ива...</td>\n",
              "    </tr>\n",
              "    <tr>\n",
              "      <th>153497</th>\n",
              "      <td>None</td>\n",
              "      <td>False</td>\n",
              "      <td>В Альфа-Банк больше обращаться не буду.</td>\n",
              "      <td>0</td>\n",
              "      <td>лицензия № 1326</td>\n",
              "      <td>Ирина</td>\n",
              "      <td>Альфа-Банк</td>\n",
              "      <td>2005-04-14 15:16:00</td>\n",
              "      <td>Пробовала 10.04.05 оформить товар в кредит в А...</td>\n",
              "      <td>1.0</td>\n",
              "      <td>692</td>\n",
              "      <td>104</td>\n",
              "      <td>пробовала оформить товар в кредит в альфа-банк...</td>\n",
              "      <td>пробовала оформить товар кредит альфа-банке ко...</td>\n",
              "    </tr>\n",
              "    <tr>\n",
              "      <th>153498</th>\n",
              "      <td>None</td>\n",
              "      <td>False</td>\n",
              "      <td>Быстро и удобно</td>\n",
              "      <td>0</td>\n",
              "      <td>лицензия № 1326</td>\n",
              "      <td>Денис</td>\n",
              "      <td>Альфа-Банк</td>\n",
              "      <td>2005-04-13 17:43:00</td>\n",
              "      <td>Если коротко, то мне нравится. Кридит получать...</td>\n",
              "      <td>5.0</td>\n",
              "      <td>489</td>\n",
              "      <td>75</td>\n",
              "      <td>если коротко то мне нравится кридит получать -...</td>\n",
              "      <td>коротко нравится кридит получать милое дело ан...</td>\n",
              "    </tr>\n",
              "  </tbody>\n",
              "</table>\n",
              "<p>153499 rows × 14 columns</p>\n",
              "</div>"
            ],
            "text/plain": [
              "                city  rating_not_checked  \\\n",
              "0             москва               False   \n",
              "1        новосибирск               False   \n",
              "2             москва               False   \n",
              "3         ставрополь               False   \n",
              "4          челябинск               False   \n",
              "...              ...                 ...   \n",
              "153494          None               False   \n",
              "153495          None               False   \n",
              "153496          None               False   \n",
              "153497          None               False   \n",
              "153498          None               False   \n",
              "\n",
              "                                                    title  num_comments  \\\n",
              "0                                                  Жалоба             0   \n",
              "1           Не могу пользоваться услугой Сбербанк он-лайн             0   \n",
              "2                         Двойное списание за один товар.             1   \n",
              "3       Меняют проценты комиссии  не предупредив и не ...             2   \n",
              "4                  Верните денежные средства за страховку             1   \n",
              "...                                                   ...           ...   \n",
              "153494                                 Не все так страшно             0   \n",
              "153495                               А вы договор читали?             0   \n",
              "153496                    Филиал банка \"ОВК\" в г. Иваново             1   \n",
              "153497            В Альфа-Банк больше обращаться не буду.             0   \n",
              "153498                                    Быстро и удобно             0   \n",
              "\n",
              "           bank_license       author        bank_name             datetime  \\\n",
              "0       лицензия № 2562       uhnov1          Бинбанк  2015-06-08 12:50:54   \n",
              "1       лицензия № 1481       Foryou  Сбербанк России  2015-06-08 11:09:57   \n",
              "2       лицензия № 2562   Vladimir84          Бинбанк  2015-06-05 20:14:28   \n",
              "3       лицензия № 1481       643609  Сбербанк России  2015-06-05 13:51:01   \n",
              "4       лицензия № 2766  anfisa-2003         ОТП Банк  2015-06-05 10:58:12   \n",
              "...                 ...          ...              ...                  ...   \n",
              "153494  лицензия № 2557         Вера         Ситибанк  2005-05-18 14:38:00   \n",
              "153495  лицензия № 2557       Kirill         Ситибанк  2005-04-14 15:25:00   \n",
              "153496  лицензия № 2272   AlexU-post          Росбанк  2005-04-08 14:07:00   \n",
              "153497  лицензия № 1326        Ирина       Альфа-Банк  2005-04-14 15:16:00   \n",
              "153498  лицензия № 1326        Денис       Альфа-Банк  2005-04-13 17:43:00   \n",
              "\n",
              "                                                     text  rating_grade  \\\n",
              "0       Добрый день! Я не являюсь клиентом банка и пор...           NaN   \n",
              "1       Доброго дня! Являюсь держателем зарплатной кар...           NaN   \n",
              "2       Здравствуйте!  Дублирую свое заявление от 03.0...           NaN   \n",
              "3       Добрый день!! Я открыл расчетный счет в СберБа...           NaN   \n",
              "4       04.03.2015 г. взяла кредит в вашем банке, заяв...           NaN   \n",
              "...                                                   ...           ...   \n",
              "153494  Слишком большой банк, не всегда учитывает нашу...           5.0   \n",
              "153495  Вы сами виноваты в своих проблемах, кроме пред...           3.0   \n",
              "153496  Уважаемое руководство банка «ОВК»! Я проживаю ...           1.0   \n",
              "153497  Пробовала 10.04.05 оформить товар в кредит в А...           1.0   \n",
              "153498  Если коротко, то мне нравится. Кридит получать...           5.0   \n",
              "\n",
              "        lenchartext  lenwordtext  \\\n",
              "0              1523          219   \n",
              "1              1026          140   \n",
              "2               588           90   \n",
              "3               740          123   \n",
              "4              1896          306   \n",
              "...             ...          ...   \n",
              "153494          353           52   \n",
              "153495          727          111   \n",
              "153496         5388          764   \n",
              "153497          692          104   \n",
              "153498          489           75   \n",
              "\n",
              "                                               clean_text  \\\n",
              "0       добрый день я не являюсь клиентом банка и пору...   \n",
              "1       доброго дня являюсь держателем зарплатной карт...   \n",
              "2       здравствуйте дублирую свое заявление от в до м...   \n",
              "3       добрый день я открыл расчетный счет в сбербанк...   \n",
              "4        г взяла кредит в вашем банке заявленная мною ...   \n",
              "...                                                   ...   \n",
              "153494  слишком большой банк не всегда учитывает нашу ...   \n",
              "153495  вы сами виноваты в своих проблемах кроме предп...   \n",
              "153496  уважаемое руководство банка овк я проживаю в г...   \n",
              "153497  пробовала оформить товар в кредит в альфа-банк...   \n",
              "153498  если коротко то мне нравится кридит получать -...   \n",
              "\n",
              "                                 clean_text_without_stops  \n",
              "0       добрый день являюсь клиентом банка поручителем...  \n",
              "1       доброго дня являюсь держателем зарплатной карт...  \n",
              "2       здравствуйте дублирую свое заявление можайский...  \n",
              "3       добрый день открыл расчетный счет сбербанке юр...  \n",
              "4       г взяла кредит вашем банке заявленная мною сум...  \n",
              "...                                                   ...  \n",
              "153494  слишком большой банк учитывает нашу специфику ...  \n",
              "153495  сами виноваты своих проблемах кроме предпослед...  \n",
              "153496  уважаемое руководство банка овк проживаю г ива...  \n",
              "153497  пробовала оформить товар кредит альфа-банке ко...  \n",
              "153498  коротко нравится кридит получать милое дело ан...  \n",
              "\n",
              "[153499 rows x 14 columns]"
            ]
          },
          "execution_count": 31,
          "metadata": {},
          "output_type": "execute_result"
        }
      ],
      "source": [
        "df"
      ]
    },
    {
      "cell_type": "code",
      "execution_count": null,
      "metadata": {
        "id": "2kcF5e1iA2D3"
      },
      "outputs": [],
      "source": [
        "dictionary_stop = Counter(df[\"clean_text_without_stops\"].str.split().explode())"
      ]
    },
    {
      "cell_type": "code",
      "execution_count": null,
      "metadata": {
        "id": "CFZjkPesA2D3",
        "outputId": "cc465dc8-91c6-4758-ede3-2b66fe92ab31"
      },
      "outputs": [
        {
          "data": {
            "text/plain": [
              "[('банка', 264263),\n",
              " ('банк', 196589),\n",
              " ('деньги', 130501),\n",
              " ('карту', 105175),\n",
              " ('карты', 101247),\n",
              " ('кредит', 80465),\n",
              " ('день', 76268),\n",
              " ('т', 72980),\n",
              " ('заявление', 69626),\n",
              " ('отделение', 66540)]"
            ]
          },
          "execution_count": 34,
          "metadata": {},
          "output_type": "execute_result"
        }
      ],
      "source": [
        "dictionary_stop.most_common(10)"
      ]
    },
    {
      "cell_type": "code",
      "execution_count": null,
      "metadata": {
        "id": "mMx6etJCA2D-"
      },
      "outputs": [],
      "source": [
        "'''mystem = Mystem()\n",
        "df[\"text_lemma\"] = df['clean_text_without_stops'].apply(lambda s: \" \".join(mystem.lemmatize(s)))'''"
      ]
    },
    {
      "cell_type": "code",
      "execution_count": null,
      "metadata": {
        "id": "R3qZyC7MA2D_"
      },
      "outputs": [],
      "source": [
        "'''df'''"
      ]
    },
    {
      "cell_type": "code",
      "execution_count": null,
      "metadata": {
        "id": "2y_H4c6HA2D_"
      },
      "outputs": [],
      "source": [
        "morph = MorphAnalyzer()\n",
        "df[\"text_lemma\"] = df['clean_text_without_stops'].apply(lambda s: \" \".join([morph.normal_forms(token)[0] for token in s.split()]))"
      ]
    },
    {
      "cell_type": "code",
      "execution_count": null,
      "metadata": {
        "id": "sziO_jWLA2D_",
        "outputId": "5f659fa9-370c-413a-d684-5b28adf02105"
      },
      "outputs": [
        {
          "data": {
            "text/html": [
              "<div>\n",
              "<style scoped>\n",
              "    .dataframe tbody tr th:only-of-type {\n",
              "        vertical-align: middle;\n",
              "    }\n",
              "\n",
              "    .dataframe tbody tr th {\n",
              "        vertical-align: top;\n",
              "    }\n",
              "\n",
              "    .dataframe thead th {\n",
              "        text-align: right;\n",
              "    }\n",
              "</style>\n",
              "<table border=\"1\" class=\"dataframe\">\n",
              "  <thead>\n",
              "    <tr style=\"text-align: right;\">\n",
              "      <th></th>\n",
              "      <th>city</th>\n",
              "      <th>rating_not_checked</th>\n",
              "      <th>title</th>\n",
              "      <th>num_comments</th>\n",
              "      <th>bank_license</th>\n",
              "      <th>author</th>\n",
              "      <th>bank_name</th>\n",
              "      <th>datetime</th>\n",
              "      <th>text</th>\n",
              "      <th>rating_grade</th>\n",
              "      <th>lenchartext</th>\n",
              "      <th>lenwordtext</th>\n",
              "      <th>clean_text</th>\n",
              "      <th>clean_text_without_stops</th>\n",
              "      <th>text_lemma</th>\n",
              "    </tr>\n",
              "  </thead>\n",
              "  <tbody>\n",
              "    <tr>\n",
              "      <th>0</th>\n",
              "      <td>москва</td>\n",
              "      <td>False</td>\n",
              "      <td>Жалоба</td>\n",
              "      <td>0</td>\n",
              "      <td>лицензия № 2562</td>\n",
              "      <td>uhnov1</td>\n",
              "      <td>Бинбанк</td>\n",
              "      <td>2015-06-08 12:50:54</td>\n",
              "      <td>Добрый день! Я не являюсь клиентом банка и пор...</td>\n",
              "      <td>NaN</td>\n",
              "      <td>1523</td>\n",
              "      <td>219</td>\n",
              "      <td>добрый день я не являюсь клиентом банка и пору...</td>\n",
              "      <td>добрый день являюсь клиентом банка поручителем...</td>\n",
              "      <td>добрый день являться клиент банк поручитель кр...</td>\n",
              "    </tr>\n",
              "    <tr>\n",
              "      <th>1</th>\n",
              "      <td>новосибирск</td>\n",
              "      <td>False</td>\n",
              "      <td>Не могу пользоваться услугой Сбербанк он-лайн</td>\n",
              "      <td>0</td>\n",
              "      <td>лицензия № 1481</td>\n",
              "      <td>Foryou</td>\n",
              "      <td>Сбербанк России</td>\n",
              "      <td>2015-06-08 11:09:57</td>\n",
              "      <td>Доброго дня! Являюсь держателем зарплатной кар...</td>\n",
              "      <td>NaN</td>\n",
              "      <td>1026</td>\n",
              "      <td>140</td>\n",
              "      <td>доброго дня являюсь держателем зарплатной карт...</td>\n",
              "      <td>доброго дня являюсь держателем зарплатной карт...</td>\n",
              "      <td>добрый день являться держатель зарплатный карт...</td>\n",
              "    </tr>\n",
              "    <tr>\n",
              "      <th>2</th>\n",
              "      <td>москва</td>\n",
              "      <td>False</td>\n",
              "      <td>Двойное списание за один товар.</td>\n",
              "      <td>1</td>\n",
              "      <td>лицензия № 2562</td>\n",
              "      <td>Vladimir84</td>\n",
              "      <td>Бинбанк</td>\n",
              "      <td>2015-06-05 20:14:28</td>\n",
              "      <td>Здравствуйте!  Дублирую свое заявление от 03.0...</td>\n",
              "      <td>NaN</td>\n",
              "      <td>588</td>\n",
              "      <td>90</td>\n",
              "      <td>здравствуйте дублирую свое заявление от в до м...</td>\n",
              "      <td>здравствуйте дублирую свое заявление можайский...</td>\n",
              "      <td>здравствуйте дублировать свой заявление можайс...</td>\n",
              "    </tr>\n",
              "    <tr>\n",
              "      <th>3</th>\n",
              "      <td>ставрополь</td>\n",
              "      <td>False</td>\n",
              "      <td>Меняют проценты комиссии  не предупредив и не ...</td>\n",
              "      <td>2</td>\n",
              "      <td>лицензия № 1481</td>\n",
              "      <td>643609</td>\n",
              "      <td>Сбербанк России</td>\n",
              "      <td>2015-06-05 13:51:01</td>\n",
              "      <td>Добрый день!! Я открыл расчетный счет в СберБа...</td>\n",
              "      <td>NaN</td>\n",
              "      <td>740</td>\n",
              "      <td>123</td>\n",
              "      <td>добрый день я открыл расчетный счет в сбербанк...</td>\n",
              "      <td>добрый день открыл расчетный счет сбербанке юр...</td>\n",
              "      <td>добрый день открыть расчётный счёт сбербанк юр...</td>\n",
              "    </tr>\n",
              "    <tr>\n",
              "      <th>4</th>\n",
              "      <td>челябинск</td>\n",
              "      <td>False</td>\n",
              "      <td>Верните денежные средства за страховку</td>\n",
              "      <td>1</td>\n",
              "      <td>лицензия № 2766</td>\n",
              "      <td>anfisa-2003</td>\n",
              "      <td>ОТП Банк</td>\n",
              "      <td>2015-06-05 10:58:12</td>\n",
              "      <td>04.03.2015 г. взяла кредит в вашем банке, заяв...</td>\n",
              "      <td>NaN</td>\n",
              "      <td>1896</td>\n",
              "      <td>306</td>\n",
              "      <td>г взяла кредит в вашем банке заявленная мною ...</td>\n",
              "      <td>г взяла кредит вашем банке заявленная мною сум...</td>\n",
              "      <td>г взять кредит ваш банк заявить я сумма так ру...</td>\n",
              "    </tr>\n",
              "    <tr>\n",
              "      <th>...</th>\n",
              "      <td>...</td>\n",
              "      <td>...</td>\n",
              "      <td>...</td>\n",
              "      <td>...</td>\n",
              "      <td>...</td>\n",
              "      <td>...</td>\n",
              "      <td>...</td>\n",
              "      <td>...</td>\n",
              "      <td>...</td>\n",
              "      <td>...</td>\n",
              "      <td>...</td>\n",
              "      <td>...</td>\n",
              "      <td>...</td>\n",
              "      <td>...</td>\n",
              "      <td>...</td>\n",
              "    </tr>\n",
              "    <tr>\n",
              "      <th>153494</th>\n",
              "      <td>None</td>\n",
              "      <td>False</td>\n",
              "      <td>Не все так страшно</td>\n",
              "      <td>0</td>\n",
              "      <td>лицензия № 2557</td>\n",
              "      <td>Вера</td>\n",
              "      <td>Ситибанк</td>\n",
              "      <td>2005-05-18 14:38:00</td>\n",
              "      <td>Слишком большой банк, не всегда учитывает нашу...</td>\n",
              "      <td>5.0</td>\n",
              "      <td>353</td>\n",
              "      <td>52</td>\n",
              "      <td>слишком большой банк не всегда учитывает нашу ...</td>\n",
              "      <td>слишком большой банк учитывает нашу специфику ...</td>\n",
              "      <td>слишком большой банк учитывать наш специфика п...</td>\n",
              "    </tr>\n",
              "    <tr>\n",
              "      <th>153495</th>\n",
              "      <td>None</td>\n",
              "      <td>False</td>\n",
              "      <td>А вы договор читали?</td>\n",
              "      <td>0</td>\n",
              "      <td>лицензия № 2557</td>\n",
              "      <td>Kirill</td>\n",
              "      <td>Ситибанк</td>\n",
              "      <td>2005-04-14 15:25:00</td>\n",
              "      <td>Вы сами виноваты в своих проблемах, кроме пред...</td>\n",
              "      <td>3.0</td>\n",
              "      <td>727</td>\n",
              "      <td>111</td>\n",
              "      <td>вы сами виноваты в своих проблемах кроме предп...</td>\n",
              "      <td>сами виноваты своих проблемах кроме предпослед...</td>\n",
              "      <td>сам виноватый свой проблема кроме предпоследни...</td>\n",
              "    </tr>\n",
              "    <tr>\n",
              "      <th>153496</th>\n",
              "      <td>None</td>\n",
              "      <td>False</td>\n",
              "      <td>Филиал банка \"ОВК\" в г. Иваново</td>\n",
              "      <td>1</td>\n",
              "      <td>лицензия № 2272</td>\n",
              "      <td>AlexU-post</td>\n",
              "      <td>Росбанк</td>\n",
              "      <td>2005-04-08 14:07:00</td>\n",
              "      <td>Уважаемое руководство банка «ОВК»! Я проживаю ...</td>\n",
              "      <td>1.0</td>\n",
              "      <td>5388</td>\n",
              "      <td>764</td>\n",
              "      <td>уважаемое руководство банка овк я проживаю в г...</td>\n",
              "      <td>уважаемое руководство банка овк проживаю г ива...</td>\n",
              "      <td>уважаемый руководство банк овк проживать г ива...</td>\n",
              "    </tr>\n",
              "    <tr>\n",
              "      <th>153497</th>\n",
              "      <td>None</td>\n",
              "      <td>False</td>\n",
              "      <td>В Альфа-Банк больше обращаться не буду.</td>\n",
              "      <td>0</td>\n",
              "      <td>лицензия № 1326</td>\n",
              "      <td>Ирина</td>\n",
              "      <td>Альфа-Банк</td>\n",
              "      <td>2005-04-14 15:16:00</td>\n",
              "      <td>Пробовала 10.04.05 оформить товар в кредит в А...</td>\n",
              "      <td>1.0</td>\n",
              "      <td>692</td>\n",
              "      <td>104</td>\n",
              "      <td>пробовала оформить товар в кредит в альфа-банк...</td>\n",
              "      <td>пробовала оформить товар кредит альфа-банке ко...</td>\n",
              "      <td>пробовать оформить товар кредит альфа-банк ком...</td>\n",
              "    </tr>\n",
              "    <tr>\n",
              "      <th>153498</th>\n",
              "      <td>None</td>\n",
              "      <td>False</td>\n",
              "      <td>Быстро и удобно</td>\n",
              "      <td>0</td>\n",
              "      <td>лицензия № 1326</td>\n",
              "      <td>Денис</td>\n",
              "      <td>Альфа-Банк</td>\n",
              "      <td>2005-04-13 17:43:00</td>\n",
              "      <td>Если коротко, то мне нравится. Кридит получать...</td>\n",
              "      <td>5.0</td>\n",
              "      <td>489</td>\n",
              "      <td>75</td>\n",
              "      <td>если коротко то мне нравится кридит получать -...</td>\n",
              "      <td>коротко нравится кридит получать милое дело ан...</td>\n",
              "      <td>коротко нравиться кридеть получать милый дело ...</td>\n",
              "    </tr>\n",
              "  </tbody>\n",
              "</table>\n",
              "<p>153499 rows × 15 columns</p>\n",
              "</div>"
            ],
            "text/plain": [
              "                city  rating_not_checked  \\\n",
              "0             москва               False   \n",
              "1        новосибирск               False   \n",
              "2             москва               False   \n",
              "3         ставрополь               False   \n",
              "4          челябинск               False   \n",
              "...              ...                 ...   \n",
              "153494          None               False   \n",
              "153495          None               False   \n",
              "153496          None               False   \n",
              "153497          None               False   \n",
              "153498          None               False   \n",
              "\n",
              "                                                    title  num_comments  \\\n",
              "0                                                  Жалоба             0   \n",
              "1           Не могу пользоваться услугой Сбербанк он-лайн             0   \n",
              "2                         Двойное списание за один товар.             1   \n",
              "3       Меняют проценты комиссии  не предупредив и не ...             2   \n",
              "4                  Верните денежные средства за страховку             1   \n",
              "...                                                   ...           ...   \n",
              "153494                                 Не все так страшно             0   \n",
              "153495                               А вы договор читали?             0   \n",
              "153496                    Филиал банка \"ОВК\" в г. Иваново             1   \n",
              "153497            В Альфа-Банк больше обращаться не буду.             0   \n",
              "153498                                    Быстро и удобно             0   \n",
              "\n",
              "           bank_license       author        bank_name             datetime  \\\n",
              "0       лицензия № 2562       uhnov1          Бинбанк  2015-06-08 12:50:54   \n",
              "1       лицензия № 1481       Foryou  Сбербанк России  2015-06-08 11:09:57   \n",
              "2       лицензия № 2562   Vladimir84          Бинбанк  2015-06-05 20:14:28   \n",
              "3       лицензия № 1481       643609  Сбербанк России  2015-06-05 13:51:01   \n",
              "4       лицензия № 2766  anfisa-2003         ОТП Банк  2015-06-05 10:58:12   \n",
              "...                 ...          ...              ...                  ...   \n",
              "153494  лицензия № 2557         Вера         Ситибанк  2005-05-18 14:38:00   \n",
              "153495  лицензия № 2557       Kirill         Ситибанк  2005-04-14 15:25:00   \n",
              "153496  лицензия № 2272   AlexU-post          Росбанк  2005-04-08 14:07:00   \n",
              "153497  лицензия № 1326        Ирина       Альфа-Банк  2005-04-14 15:16:00   \n",
              "153498  лицензия № 1326        Денис       Альфа-Банк  2005-04-13 17:43:00   \n",
              "\n",
              "                                                     text  rating_grade  \\\n",
              "0       Добрый день! Я не являюсь клиентом банка и пор...           NaN   \n",
              "1       Доброго дня! Являюсь держателем зарплатной кар...           NaN   \n",
              "2       Здравствуйте!  Дублирую свое заявление от 03.0...           NaN   \n",
              "3       Добрый день!! Я открыл расчетный счет в СберБа...           NaN   \n",
              "4       04.03.2015 г. взяла кредит в вашем банке, заяв...           NaN   \n",
              "...                                                   ...           ...   \n",
              "153494  Слишком большой банк, не всегда учитывает нашу...           5.0   \n",
              "153495  Вы сами виноваты в своих проблемах, кроме пред...           3.0   \n",
              "153496  Уважаемое руководство банка «ОВК»! Я проживаю ...           1.0   \n",
              "153497  Пробовала 10.04.05 оформить товар в кредит в А...           1.0   \n",
              "153498  Если коротко, то мне нравится. Кридит получать...           5.0   \n",
              "\n",
              "        lenchartext  lenwordtext  \\\n",
              "0              1523          219   \n",
              "1              1026          140   \n",
              "2               588           90   \n",
              "3               740          123   \n",
              "4              1896          306   \n",
              "...             ...          ...   \n",
              "153494          353           52   \n",
              "153495          727          111   \n",
              "153496         5388          764   \n",
              "153497          692          104   \n",
              "153498          489           75   \n",
              "\n",
              "                                               clean_text  \\\n",
              "0       добрый день я не являюсь клиентом банка и пору...   \n",
              "1       доброго дня являюсь держателем зарплатной карт...   \n",
              "2       здравствуйте дублирую свое заявление от в до м...   \n",
              "3       добрый день я открыл расчетный счет в сбербанк...   \n",
              "4        г взяла кредит в вашем банке заявленная мною ...   \n",
              "...                                                   ...   \n",
              "153494  слишком большой банк не всегда учитывает нашу ...   \n",
              "153495  вы сами виноваты в своих проблемах кроме предп...   \n",
              "153496  уважаемое руководство банка овк я проживаю в г...   \n",
              "153497  пробовала оформить товар в кредит в альфа-банк...   \n",
              "153498  если коротко то мне нравится кридит получать -...   \n",
              "\n",
              "                                 clean_text_without_stops  \\\n",
              "0       добрый день являюсь клиентом банка поручителем...   \n",
              "1       доброго дня являюсь держателем зарплатной карт...   \n",
              "2       здравствуйте дублирую свое заявление можайский...   \n",
              "3       добрый день открыл расчетный счет сбербанке юр...   \n",
              "4       г взяла кредит вашем банке заявленная мною сум...   \n",
              "...                                                   ...   \n",
              "153494  слишком большой банк учитывает нашу специфику ...   \n",
              "153495  сами виноваты своих проблемах кроме предпослед...   \n",
              "153496  уважаемое руководство банка овк проживаю г ива...   \n",
              "153497  пробовала оформить товар кредит альфа-банке ко...   \n",
              "153498  коротко нравится кридит получать милое дело ан...   \n",
              "\n",
              "                                               text_lemma  \n",
              "0       добрый день являться клиент банк поручитель кр...  \n",
              "1       добрый день являться держатель зарплатный карт...  \n",
              "2       здравствуйте дублировать свой заявление можайс...  \n",
              "3       добрый день открыть расчётный счёт сбербанк юр...  \n",
              "4       г взять кредит ваш банк заявить я сумма так ру...  \n",
              "...                                                   ...  \n",
              "153494  слишком большой банк учитывать наш специфика п...  \n",
              "153495  сам виноватый свой проблема кроме предпоследни...  \n",
              "153496  уважаемый руководство банк овк проживать г ива...  \n",
              "153497  пробовать оформить товар кредит альфа-банк ком...  \n",
              "153498  коротко нравиться кридеть получать милый дело ...  \n",
              "\n",
              "[153499 rows x 15 columns]"
            ]
          },
          "execution_count": 36,
          "metadata": {},
          "output_type": "execute_result"
        }
      ],
      "source": [
        "df"
      ]
    },
    {
      "cell_type": "code",
      "execution_count": null,
      "metadata": {
        "id": "Zvh2f04XA2D_"
      },
      "outputs": [],
      "source": [
        "dictionary_lemma = Counter(df[\"text_lemma\"].str.split().explode())"
      ]
    },
    {
      "cell_type": "code",
      "execution_count": null,
      "metadata": {
        "id": "hNzDK3vXA2EA",
        "outputId": "0ad61a1d-f5c4-4b2d-eaeb-f12812ce1629"
      },
      "outputs": [
        {
          "data": {
            "text/plain": [
              "[('банк', 627200),\n",
              " ('карта', 332871),\n",
              " ('деньга', 178962),\n",
              " ('день', 173205),\n",
              " ('мой', 167071),\n",
              " ('кредит', 155265),\n",
              " ('который', 148998),\n",
              " ('отделение', 143828),\n",
              " ('счёт', 141503),\n",
              " ('сотрудник', 133780)]"
            ]
          },
          "execution_count": 40,
          "metadata": {},
          "output_type": "execute_result"
        }
      ],
      "source": [
        "dictionary_lemma.most_common(10)"
      ]
    },
    {
      "cell_type": "code",
      "execution_count": null,
      "metadata": {
        "id": "8E31RKbDA2EA"
      },
      "outputs": [],
      "source": [
        "def noun(s):\n",
        "    new_s = []\n",
        "    for word in s.split():\n",
        "        analize = morph.parse(word)\n",
        "        if analize[0].tag.POS == \"NOUN\":\n",
        "            new_s.append(analize[0].normal_form)\n",
        "    return \" \".join(new_s)"
      ]
    },
    {
      "cell_type": "code",
      "execution_count": null,
      "metadata": {
        "id": "7wDGX8zpA2EA"
      },
      "outputs": [],
      "source": [
        "df[\"text_noun\"] = df[\"text_lemma\"].apply(noun)"
      ]
    },
    {
      "cell_type": "code",
      "execution_count": null,
      "metadata": {
        "id": "YAsUp-BuA2EB"
      },
      "outputs": [],
      "source": [
        "df.to_csv(\"bank_lemma.csv\")"
      ]
    },
    {
      "cell_type": "code",
      "execution_count": null,
      "metadata": {
        "id": "5pFCHP7rA2EB"
      },
      "outputs": [],
      "source": [
        "dictionary_noun = Counter(df[\"text_noun\"].str.split().explode())"
      ]
    },
    {
      "cell_type": "code",
      "execution_count": null,
      "metadata": {
        "id": "MSEATRCIA2EB",
        "outputId": "6270c329-27c0-4e58-9d7b-aacf3a640fca"
      },
      "outputs": [
        {
          "data": {
            "text/plain": [
              "[('банк', 627225),\n",
              " ('карта', 332872),\n",
              " ('деньга', 178962),\n",
              " ('день', 173205),\n",
              " ('кредит', 155265),\n",
              " ('отделение', 143828),\n",
              " ('счёт', 141503),\n",
              " ('сотрудник', 133780),\n",
              " ('клиент', 133122),\n",
              " ('сумма', 111037)]"
            ]
          },
          "execution_count": 55,
          "metadata": {},
          "output_type": "execute_result"
        }
      ],
      "source": [
        "dictionary_noun.most_common(10)"
      ]
    },
    {
      "cell_type": "code",
      "execution_count": null,
      "metadata": {
        "id": "hRaoDWXHA2EB"
      },
      "outputs": [],
      "source": [
        "def build_zipf_curve(words):\n",
        "    \"\"\"Строит кривую Ципфа для заданного текста.\"\"\"\n",
        "    word_counts = collections.Counter(words)\n",
        "    sorted_words = sorted(word_counts.items(), key=lambda item: item[1], reverse=True)\n",
        "    ranks = range(1, len(sorted_words) + 1)\n",
        "    frequencies = [item[1] for item in sorted_words]\n",
        "    plt.figure(figsize=(10, 6))\n",
        "    plt.loglog(ranks, frequencies, marker='o', linestyle='-', label='Кривая Ципфа')\n",
        "    plt.xlabel(\"Ранг слова\")\n",
        "    plt.ylabel(\"Частота слова\")\n",
        "    plt.title(\"Кривая Ципфа для текста\")\n",
        "    plt.legend()\n",
        "    plt.show()"
      ]
    },
    {
      "cell_type": "code",
      "execution_count": null,
      "metadata": {
        "id": "n7BDjmAVA2EC"
      },
      "outputs": [],
      "source": [
        "def build_heap_curve(words):\n",
        "    \"\"\"Строит кривую Хипса для заданного текста.\"\"\"\n",
        "    unique_words = set(words)\n",
        "    n_unique_words = len(unique_words)\n",
        "    word_counts = collections.Counter(words)\n",
        "    sorted_words = sorted(word_counts.items(), key=lambda item: item[1], reverse=True)\n",
        "    cumulative_frequencies = [0]\n",
        "    for _, frequency in sorted_words:\n",
        "        cumulative_frequencies.append(cumulative_frequencies[-1] + frequency)\n",
        "    n_words = len(words)\n",
        "    x_values = [math.log(i / n_words) for i in range(1, n_unique_words + 1)]\n",
        "    y_values = [math.log(i / n_unique_words) for i in cumulative_frequencies[1:]]\n",
        "    plt.figure(figsize=(10, 6))\n",
        "    plt.plot(x_values, y_values, marker='o', linestyle='-', label='Кривая Хипса')\n",
        "    plt.xlabel(\"Log(i/N)\")\n",
        "    plt.ylabel(\"Log(i/V)\")\n",
        "    plt.title(\"Кривая Хипса для текста\")\n",
        "    plt.legend()\n",
        "    plt.show()"
      ]
    },
    {
      "cell_type": "code",
      "execution_count": null,
      "metadata": {
        "id": "Q13e9PulA2EC"
      },
      "outputs": [],
      "source": [
        "words = list(df[\"text_lemma\"].str.split().explode())"
      ]
    },
    {
      "cell_type": "code",
      "execution_count": null,
      "metadata": {
        "id": "TpftOHxeA2EC",
        "outputId": "2d689874-d661-4aa9-a47e-369a5c81c97f"
      },
      "outputs": [
        {
          "data": {
            "image/png": "[encoded data removed]",
            "text/plain": [
              "<Figure size 1000x600 with 1 Axes>"
            ]
          },
          "metadata": {},
          "output_type": "display_data"
        }
      ],
      "source": [
        "build_zipf_curve(words)"
      ]
    },
    {
      "cell_type": "code",
      "execution_count": null,
      "metadata": {
        "id": "yVMb-4ENA2ED",
        "outputId": "e63c79a4-bf30-4fb1-a49b-f719cd914f96"
      },
      "outputs": [
        {
          "data": {
            "image/png": "[encoded data removed]",
            "text/plain": [
              "<Figure size 1000x600 with 1 Axes>"
            ]
          },
          "metadata": {},
          "output_type": "display_data"
        }
      ],
      "source": [
        "build_heap_curve(words)"
      ]
    },
    {
      "cell_type": "code",
      "execution_count": null,
      "metadata": {
        "id": "jNKg6UYRA2ED"
      },
      "outputs": [],
      "source": [
        "a = dictionary_noun[\"клиент\"]\n",
        "b = dictionary_noun[\"сотрудник\"]"
      ]
    },
    {
      "cell_type": "code",
      "execution_count": null,
      "metadata": {
        "id": "8G7MSAnHA2ED",
        "outputId": "ba3ce250-97b4-4007-d1ca-02a70dab9028"
      },
      "outputs": [
        {
          "data": {
            "text/plain": [
              "(133122, 133780)"
            ]
          },
          "execution_count": 69,
          "metadata": {},
          "output_type": "execute_result"
        }
      ],
      "source": [
        "a, b"
      ]
    },
    {
      "cell_type": "code",
      "execution_count": null,
      "metadata": {
        "id": "jfpswXTlA2EE",
        "outputId": "84aac49a-bdba-4c66-b6db-b127c9dd66a4"
      },
      "outputs": [
        {
          "name": "stdout",
          "output_type": "stream",
          "text": [
            "сотрудник встречается чаще, чем клиент\n"
          ]
        }
      ],
      "source": [
        "if a > b:\n",
        "    print(\"клиент встречается чаще, чем сотрудник\")\n",
        "else:\n",
        "    print(\"сотрудник встречается чаще, чем клиент\")"
      ]
    },
    {
      "cell_type": "code",
      "execution_count": null,
      "metadata": {
        "id": "wiHAjpIZA2EE"
      },
      "outputs": [],
      "source": [
        "c = dictionary_noun[\"мошеничество\"]\n",
        "d = dictionary_noun[\"доверие\"]"
      ]
    },
    {
      "cell_type": "code",
      "execution_count": null,
      "metadata": {
        "id": "u3KXCsXiA2EE",
        "outputId": "1816f627-2732-4bc1-b6d0-b7f7e29bfa94"
      },
      "outputs": [
        {
          "data": {
            "text/plain": [
              "(21, 2105)"
            ]
          },
          "execution_count": 72,
          "metadata": {},
          "output_type": "execute_result"
        }
      ],
      "source": [
        "c, d"
      ]
    },
    {
      "cell_type": "code",
      "execution_count": null,
      "metadata": {
        "id": "_sREB6aOA2EF"
      },
      "outputs": [],
      "source": [
        "from sklearn.feature_extraction.text import TfidfVectorizer"
      ]
    },
    {
      "cell_type": "code",
      "execution_count": null,
      "metadata": {
        "id": "zecfYT5oA2EF",
        "outputId": "d4a14539-49e2-4c40-a796-33afdce2529b"
      },
      "outputs": [
        {
          "data": {
            "text/plain": [
              "<153499x4680906 sparse matrix of type '<class 'numpy.float64'>'\n",
              "\twith 36893428 stored elements in Compressed Sparse Row format>"
            ]
          },
          "execution_count": 96,
          "metadata": {},
          "output_type": "execute_result"
        }
      ],
      "source": [
        "tfidf = TfidfVectorizer(ngram_range = (1, 2))\n",
        "X_train_tfidf = tfidf.fit_transform(df[\"text_lemma\"])\n",
        "X_train_tfidf"
      ]
    },
    {
      "cell_type": "code",
      "execution_count": null,
      "metadata": {
        "id": "b7-mM3CzA2EF",
        "outputId": "18f8204c-8bc6-4100-df3e-acc978aea3a8"
      },
      "outputs": [
        {
          "data": {
            "text/html": [
              "<div>\n",
              "<style scoped>\n",
              "    .dataframe tbody tr th:only-of-type {\n",
              "        vertical-align: middle;\n",
              "    }\n",
              "\n",
              "    .dataframe tbody tr th {\n",
              "        vertical-align: top;\n",
              "    }\n",
              "\n",
              "    .dataframe thead th {\n",
              "        text-align: right;\n",
              "    }\n",
              "</style>\n",
              "<table border=\"1\" class=\"dataframe\">\n",
              "  <thead>\n",
              "    <tr style=\"text-align: right;\">\n",
              "      <th></th>\n",
              "      <th>city</th>\n",
              "      <th>rating_not_checked</th>\n",
              "      <th>title</th>\n",
              "      <th>num_comments</th>\n",
              "      <th>bank_license</th>\n",
              "      <th>author</th>\n",
              "      <th>bank_name</th>\n",
              "      <th>datetime</th>\n",
              "      <th>text</th>\n",
              "      <th>rating_grade</th>\n",
              "      <th>lenchartext</th>\n",
              "      <th>lenwordtext</th>\n",
              "      <th>clean_text</th>\n",
              "      <th>clean_text_without_stops</th>\n",
              "      <th>text_lemma</th>\n",
              "      <th>text_noun</th>\n",
              "    </tr>\n",
              "  </thead>\n",
              "  <tbody>\n",
              "    <tr>\n",
              "      <th>19</th>\n",
              "      <td>москва</td>\n",
              "      <td>False</td>\n",
              "      <td>Некомпетентность сотрудников банка</td>\n",
              "      <td>2</td>\n",
              "      <td>лицензия № 1481</td>\n",
              "      <td>agelun</td>\n",
              "      <td>Сбербанк России</td>\n",
              "      <td>2015-06-05 15:00:54</td>\n",
              "      <td>Открыт вклад и счет в USD. Плюс к этому есть з...</td>\n",
              "      <td>1.0</td>\n",
              "      <td>2214</td>\n",
              "      <td>339</td>\n",
              "      <td>открыт вклад и счет в usd плюс к этому есть за...</td>\n",
              "      <td>открыт вклад счет usd плюс этому зарплатная ка...</td>\n",
              "      <td>открыть вклад счёт usd плюс этот зарплатный ка...</td>\n",
              "      <td>вклад счёт карта рубль отделение цель счёт опе...</td>\n",
              "    </tr>\n",
              "    <tr>\n",
              "      <th>33</th>\n",
              "      <td>ростов-на-дону</td>\n",
              "      <td>False</td>\n",
              "      <td>Навязывание страховки</td>\n",
              "      <td>1</td>\n",
              "      <td>лицензия № 1481</td>\n",
              "      <td>Joker888</td>\n",
              "      <td>Сбербанк России</td>\n",
              "      <td>2015-06-05 21:35:40</td>\n",
              "      <td>Доброго времени! Вчера мне поступило смс-уведо...</td>\n",
              "      <td>1.0</td>\n",
              "      <td>2159</td>\n",
              "      <td>313</td>\n",
              "      <td>доброго времени вчера мне поступило смс-уведом...</td>\n",
              "      <td>доброго времени вчера поступило смс-уведомлени...</td>\n",
              "      <td>добрый время вчера поступить смс-уведомление б...</td>\n",
              "      <td>время смс-уведомление банк предложение кредит ...</td>\n",
              "    </tr>\n",
              "    <tr>\n",
              "      <th>76</th>\n",
              "      <td>санкт-петербург</td>\n",
              "      <td>False</td>\n",
              "      <td>Нарушение договора банковского вклада</td>\n",
              "      <td>0</td>\n",
              "      <td>лицензия № 3006</td>\n",
              "      <td>qwarta45</td>\n",
              "      <td>АктивКапитал Банк</td>\n",
              "      <td>2015-06-06 23:42:39</td>\n",
              "      <td>05.06.2015г. около 15 часов, пришел в указанны...</td>\n",
              "      <td>1.0</td>\n",
              "      <td>1262</td>\n",
              "      <td>185</td>\n",
              "      <td>около часов пришел в указанный офис с намерен...</td>\n",
              "      <td>около часов пришел указанный офис намерением п...</td>\n",
              "      <td>около час прийти указанный офис намерение попо...</td>\n",
              "      <td>час офис намерение вклад небо менежер июнь поп...</td>\n",
              "    </tr>\n",
              "    <tr>\n",
              "      <th>85</th>\n",
              "      <td>москва</td>\n",
              "      <td>False</td>\n",
              "      <td>Невозможно оплатить отчисления на капремонт \"Т...</td>\n",
              "      <td>4</td>\n",
              "      <td>лицензия № 1481</td>\n",
              "      <td>721</td>\n",
              "      <td>Сбербанк России</td>\n",
              "      <td>2015-06-04 13:27:04</td>\n",
              "      <td>Для оплаты коммунальных платежей пользуюсь пла...</td>\n",
              "      <td>1.0</td>\n",
              "      <td>412</td>\n",
              "      <td>56</td>\n",
              "      <td>для оплаты коммунальных платежей пользуюсь пла...</td>\n",
              "      <td>оплаты коммунальных платежей пользуюсь пластик...</td>\n",
              "      <td>оплата коммунальный платёж пользоваться пласти...</td>\n",
              "      <td>оплата платёж карта сайт банк пора отчисление ...</td>\n",
              "    </tr>\n",
              "    <tr>\n",
              "      <th>94</th>\n",
              "      <td>чапаевск</td>\n",
              "      <td>False</td>\n",
              "      <td>Некомпетентность сотрудника Сбербанка при пров...</td>\n",
              "      <td>16</td>\n",
              "      <td>лицензия № 1481</td>\n",
              "      <td>usmanovaket</td>\n",
              "      <td>Сбербанк России</td>\n",
              "      <td>2015-06-03 16:00:12</td>\n",
              "      <td>В апреле этого года пришла в отделение сбербан...</td>\n",
              "      <td>1.0</td>\n",
              "      <td>1663</td>\n",
              "      <td>265</td>\n",
              "      <td>в апреле этого года пришла в отделение сбербан...</td>\n",
              "      <td>апреле года пришла отделение сбербанка г чапае...</td>\n",
              "      <td>апрель год прийти отделение сбербанк г чапаевс...</td>\n",
              "      <td>апрель год отделение сбербанк г чапаевск счёт ...</td>\n",
              "    </tr>\n",
              "    <tr>\n",
              "      <th>...</th>\n",
              "      <td>...</td>\n",
              "      <td>...</td>\n",
              "      <td>...</td>\n",
              "      <td>...</td>\n",
              "      <td>...</td>\n",
              "      <td>...</td>\n",
              "      <td>...</td>\n",
              "      <td>...</td>\n",
              "      <td>...</td>\n",
              "      <td>...</td>\n",
              "      <td>...</td>\n",
              "      <td>...</td>\n",
              "      <td>...</td>\n",
              "      <td>...</td>\n",
              "      <td>...</td>\n",
              "      <td>...</td>\n",
              "    </tr>\n",
              "    <tr>\n",
              "      <th>153484</th>\n",
              "      <td>None</td>\n",
              "      <td>False</td>\n",
              "      <td>Долг за овердрафт</td>\n",
              "      <td>0</td>\n",
              "      <td>лицензия № 2557</td>\n",
              "      <td>Роман</td>\n",
              "      <td>Ситибанк</td>\n",
              "      <td>2005-04-13 21:06:00</td>\n",
              "      <td>И я должен за овердрафт 1458 рублей, а карту т...</td>\n",
              "      <td>1.0</td>\n",
              "      <td>106</td>\n",
              "      <td>18</td>\n",
              "      <td>и я должен за овердрафт рублей а карту так и н...</td>\n",
              "      <td>должен овердрафт рублей карту активировал ужас...</td>\n",
              "      <td>должный овердрафт рубль карта активировать ужа...</td>\n",
              "      <td>овердрафт рубль карта ужас</td>\n",
              "    </tr>\n",
              "    <tr>\n",
              "      <th>153490</th>\n",
              "      <td>None</td>\n",
              "      <td>False</td>\n",
              "      <td>А судьи кто?</td>\n",
              "      <td>0</td>\n",
              "      <td>лицензия № 2557</td>\n",
              "      <td>Марина</td>\n",
              "      <td>Ситибанк</td>\n",
              "      <td>2005-04-13 22:17:00</td>\n",
              "      <td>Ситуация как и у всех - ни разу не воспользова...</td>\n",
              "      <td>1.0</td>\n",
              "      <td>315</td>\n",
              "      <td>51</td>\n",
              "      <td>ситуация как и у всех - ни разу не воспользова...</td>\n",
              "      <td>ситуация разу воспользовавшись картой имею дол...</td>\n",
              "      <td>ситуация раз воспользоваться карта иметь долг ...</td>\n",
              "      <td>ситуация раз карта долг руб оформление карта г...</td>\n",
              "    </tr>\n",
              "    <tr>\n",
              "      <th>153493</th>\n",
              "      <td>None</td>\n",
              "      <td>False</td>\n",
              "      <td>Два конфликта с банком.</td>\n",
              "      <td>0</td>\n",
              "      <td>лицензия № 2771</td>\n",
              "      <td>Sam</td>\n",
              "      <td>Юниаструм Банк</td>\n",
              "      <td>2005-05-18 01:25:00</td>\n",
              "      <td>Оформил в банке кредитную карту в январе 2004 ...</td>\n",
              "      <td>1.0</td>\n",
              "      <td>1206</td>\n",
              "      <td>188</td>\n",
              "      <td>оформил в банке кредитную карту в январе г пер...</td>\n",
              "      <td>оформил банке кредитную карту январе г первый ...</td>\n",
              "      <td>оформить банк кредитный карта январь г первый ...</td>\n",
              "      <td>банк карта январь г конфликт банк август год с...</td>\n",
              "    </tr>\n",
              "    <tr>\n",
              "      <th>153496</th>\n",
              "      <td>None</td>\n",
              "      <td>False</td>\n",
              "      <td>Филиал банка \"ОВК\" в г. Иваново</td>\n",
              "      <td>1</td>\n",
              "      <td>лицензия № 2272</td>\n",
              "      <td>AlexU-post</td>\n",
              "      <td>Росбанк</td>\n",
              "      <td>2005-04-08 14:07:00</td>\n",
              "      <td>Уважаемое руководство банка «ОВК»! Я проживаю ...</td>\n",
              "      <td>1.0</td>\n",
              "      <td>5388</td>\n",
              "      <td>764</td>\n",
              "      <td>уважаемое руководство банка овк я проживаю в г...</td>\n",
              "      <td>уважаемое руководство банка овк проживаю г ива...</td>\n",
              "      <td>уважаемый руководство банк овк проживать г ива...</td>\n",
              "      <td>руководство банк г иванов филиал банк отделени...</td>\n",
              "    </tr>\n",
              "    <tr>\n",
              "      <th>153497</th>\n",
              "      <td>None</td>\n",
              "      <td>False</td>\n",
              "      <td>В Альфа-Банк больше обращаться не буду.</td>\n",
              "      <td>0</td>\n",
              "      <td>лицензия № 1326</td>\n",
              "      <td>Ирина</td>\n",
              "      <td>Альфа-Банк</td>\n",
              "      <td>2005-04-14 15:16:00</td>\n",
              "      <td>Пробовала 10.04.05 оформить товар в кредит в А...</td>\n",
              "      <td>1.0</td>\n",
              "      <td>692</td>\n",
              "      <td>104</td>\n",
              "      <td>пробовала оформить товар в кредит в альфа-банк...</td>\n",
              "      <td>пробовала оформить товар кредит альфа-банке ко...</td>\n",
              "      <td>пробовать оформить товар кредит альфа-банк ком...</td>\n",
              "      <td>товар кредит альфа-банк центр оформление минут...</td>\n",
              "    </tr>\n",
              "  </tbody>\n",
              "</table>\n",
              "<p>47387 rows × 16 columns</p>\n",
              "</div>"
            ],
            "text/plain": [
              "                    city  rating_not_checked  \\\n",
              "19                москва               False   \n",
              "33        ростов-на-дону               False   \n",
              "76       санкт-петербург               False   \n",
              "85                москва               False   \n",
              "94              чапаевск               False   \n",
              "...                  ...                 ...   \n",
              "153484              None               False   \n",
              "153490              None               False   \n",
              "153493              None               False   \n",
              "153496              None               False   \n",
              "153497              None               False   \n",
              "\n",
              "                                                    title  num_comments  \\\n",
              "19                     Некомпетентность сотрудников банка             2   \n",
              "33                                  Навязывание страховки             1   \n",
              "76                  Нарушение договора банковского вклада             0   \n",
              "85      Невозможно оплатить отчисления на капремонт \"Т...             4   \n",
              "94      Некомпетентность сотрудника Сбербанка при пров...            16   \n",
              "...                                                   ...           ...   \n",
              "153484                                  Долг за овердрафт             0   \n",
              "153490                                       А судьи кто?             0   \n",
              "153493                            Два конфликта с банком.             0   \n",
              "153496                    Филиал банка \"ОВК\" в г. Иваново             1   \n",
              "153497            В Альфа-Банк больше обращаться не буду.             0   \n",
              "\n",
              "           bank_license       author          bank_name             datetime  \\\n",
              "19      лицензия № 1481       agelun    Сбербанк России  2015-06-05 15:00:54   \n",
              "33      лицензия № 1481     Joker888    Сбербанк России  2015-06-05 21:35:40   \n",
              "76      лицензия № 3006     qwarta45  АктивКапитал Банк  2015-06-06 23:42:39   \n",
              "85      лицензия № 1481          721    Сбербанк России  2015-06-04 13:27:04   \n",
              "94      лицензия № 1481  usmanovaket    Сбербанк России  2015-06-03 16:00:12   \n",
              "...                 ...          ...                ...                  ...   \n",
              "153484  лицензия № 2557        Роман           Ситибанк  2005-04-13 21:06:00   \n",
              "153490  лицензия № 2557       Марина           Ситибанк  2005-04-13 22:17:00   \n",
              "153493  лицензия № 2771          Sam     Юниаструм Банк  2005-05-18 01:25:00   \n",
              "153496  лицензия № 2272   AlexU-post            Росбанк  2005-04-08 14:07:00   \n",
              "153497  лицензия № 1326        Ирина         Альфа-Банк  2005-04-14 15:16:00   \n",
              "\n",
              "                                                     text  rating_grade  \\\n",
              "19      Открыт вклад и счет в USD. Плюс к этому есть з...           1.0   \n",
              "33      Доброго времени! Вчера мне поступило смс-уведо...           1.0   \n",
              "76      05.06.2015г. около 15 часов, пришел в указанны...           1.0   \n",
              "85      Для оплаты коммунальных платежей пользуюсь пла...           1.0   \n",
              "94      В апреле этого года пришла в отделение сбербан...           1.0   \n",
              "...                                                   ...           ...   \n",
              "153484  И я должен за овердрафт 1458 рублей, а карту т...           1.0   \n",
              "153490  Ситуация как и у всех - ни разу не воспользова...           1.0   \n",
              "153493  Оформил в банке кредитную карту в январе 2004 ...           1.0   \n",
              "153496  Уважаемое руководство банка «ОВК»! Я проживаю ...           1.0   \n",
              "153497  Пробовала 10.04.05 оформить товар в кредит в А...           1.0   \n",
              "\n",
              "        lenchartext  lenwordtext  \\\n",
              "19             2214          339   \n",
              "33             2159          313   \n",
              "76             1262          185   \n",
              "85              412           56   \n",
              "94             1663          265   \n",
              "...             ...          ...   \n",
              "153484          106           18   \n",
              "153490          315           51   \n",
              "153493         1206          188   \n",
              "153496         5388          764   \n",
              "153497          692          104   \n",
              "\n",
              "                                               clean_text  \\\n",
              "19      открыт вклад и счет в usd плюс к этому есть за...   \n",
              "33      доброго времени вчера мне поступило смс-уведом...   \n",
              "76       около часов пришел в указанный офис с намерен...   \n",
              "85      для оплаты коммунальных платежей пользуюсь пла...   \n",
              "94      в апреле этого года пришла в отделение сбербан...   \n",
              "...                                                   ...   \n",
              "153484  и я должен за овердрафт рублей а карту так и н...   \n",
              "153490  ситуация как и у всех - ни разу не воспользова...   \n",
              "153493  оформил в банке кредитную карту в январе г пер...   \n",
              "153496  уважаемое руководство банка овк я проживаю в г...   \n",
              "153497  пробовала оформить товар в кредит в альфа-банк...   \n",
              "\n",
              "                                 clean_text_without_stops  \\\n",
              "19      открыт вклад счет usd плюс этому зарплатная ка...   \n",
              "33      доброго времени вчера поступило смс-уведомлени...   \n",
              "76      около часов пришел указанный офис намерением п...   \n",
              "85      оплаты коммунальных платежей пользуюсь пластик...   \n",
              "94      апреле года пришла отделение сбербанка г чапае...   \n",
              "...                                                   ...   \n",
              "153484  должен овердрафт рублей карту активировал ужас...   \n",
              "153490  ситуация разу воспользовавшись картой имею дол...   \n",
              "153493  оформил банке кредитную карту январе г первый ...   \n",
              "153496  уважаемое руководство банка овк проживаю г ива...   \n",
              "153497  пробовала оформить товар кредит альфа-банке ко...   \n",
              "\n",
              "                                               text_lemma  \\\n",
              "19      открыть вклад счёт usd плюс этот зарплатный ка...   \n",
              "33      добрый время вчера поступить смс-уведомление б...   \n",
              "76      около час прийти указанный офис намерение попо...   \n",
              "85      оплата коммунальный платёж пользоваться пласти...   \n",
              "94      апрель год прийти отделение сбербанк г чапаевс...   \n",
              "...                                                   ...   \n",
              "153484  должный овердрафт рубль карта активировать ужа...   \n",
              "153490  ситуация раз воспользоваться карта иметь долг ...   \n",
              "153493  оформить банк кредитный карта январь г первый ...   \n",
              "153496  уважаемый руководство банк овк проживать г ива...   \n",
              "153497  пробовать оформить товар кредит альфа-банк ком...   \n",
              "\n",
              "                                                text_noun  \n",
              "19      вклад счёт карта рубль отделение цель счёт опе...  \n",
              "33      время смс-уведомление банк предложение кредит ...  \n",
              "76      час офис намерение вклад небо менежер июнь поп...  \n",
              "85      оплата платёж карта сайт банк пора отчисление ...  \n",
              "94      апрель год отделение сбербанк г чапаевск счёт ...  \n",
              "...                                                   ...  \n",
              "153484                         овердрафт рубль карта ужас  \n",
              "153490  ситуация раз карта долг руб оформление карта г...  \n",
              "153493  банк карта январь г конфликт банк август год с...  \n",
              "153496  руководство банк г иванов филиал банк отделени...  \n",
              "153497  товар кредит альфа-банк центр оформление минут...  \n",
              "\n",
              "[47387 rows x 16 columns]"
            ]
          },
          "execution_count": 85,
          "metadata": {},
          "output_type": "execute_result"
        }
      ],
      "source": [
        "df_1 = df[df[\"rating_grade\"] == 1]\n",
        "df_1"
      ]
    },
    {
      "cell_type": "code",
      "execution_count": null,
      "metadata": {
        "id": "HjXDxRqtA2EF",
        "outputId": "b3b29eb7-00dd-4d26-93ac-357a90baca0c"
      },
      "outputs": [
        {
          "data": {
            "text/html": [
              "<div>\n",
              "<style scoped>\n",
              "    .dataframe tbody tr th:only-of-type {\n",
              "        vertical-align: middle;\n",
              "    }\n",
              "\n",
              "    .dataframe tbody tr th {\n",
              "        vertical-align: top;\n",
              "    }\n",
              "\n",
              "    .dataframe thead th {\n",
              "        text-align: right;\n",
              "    }\n",
              "</style>\n",
              "<table border=\"1\" class=\"dataframe\">\n",
              "  <thead>\n",
              "    <tr style=\"text-align: right;\">\n",
              "      <th></th>\n",
              "      <th>city</th>\n",
              "      <th>rating_not_checked</th>\n",
              "      <th>title</th>\n",
              "      <th>num_comments</th>\n",
              "      <th>bank_license</th>\n",
              "      <th>author</th>\n",
              "      <th>bank_name</th>\n",
              "      <th>datetime</th>\n",
              "      <th>text</th>\n",
              "      <th>rating_grade</th>\n",
              "      <th>lenchartext</th>\n",
              "      <th>lenwordtext</th>\n",
              "      <th>clean_text</th>\n",
              "      <th>clean_text_without_stops</th>\n",
              "      <th>text_lemma</th>\n",
              "      <th>text_noun</th>\n",
              "    </tr>\n",
              "  </thead>\n",
              "  <tbody>\n",
              "    <tr>\n",
              "      <th>98</th>\n",
              "      <td>санкт-петербург</td>\n",
              "      <td>False</td>\n",
              "      <td>Хорошо, когда проблемы решаются</td>\n",
              "      <td>0</td>\n",
              "      <td>лицензия № 1073</td>\n",
              "      <td>apka45</td>\n",
              "      <td>Русславбанк</td>\n",
              "      <td>2015-06-03 17:40:38</td>\n",
              "      <td>Досрочно закрывали вклады перед отпуском. Жена...</td>\n",
              "      <td>5.0</td>\n",
              "      <td>383</td>\n",
              "      <td>56</td>\n",
              "      <td>досрочно закрывали вклады перед отпуском жена ...</td>\n",
              "      <td>досрочно закрывали вклады отпуском жена заказы...</td>\n",
              "      <td>досрочно закрывать вклад отпуск жена заказыват...</td>\n",
              "      <td>вклад отпуск жена сотрудник банк спб ленсовет ...</td>\n",
              "    </tr>\n",
              "    <tr>\n",
              "      <th>122</th>\n",
              "      <td>нижний новгород</td>\n",
              "      <td>False</td>\n",
              "      <td>Изменяют проценты по уже открытому договору вк...</td>\n",
              "      <td>3</td>\n",
              "      <td>лицензия № 226</td>\n",
              "      <td>20157673</td>\n",
              "      <td>РосинтерБанк</td>\n",
              "      <td>2015-06-04 09:38:18</td>\n",
              "      <td>Хотел открыть вклад \"Доходный+\" под 19% год , ...</td>\n",
              "      <td>5.0</td>\n",
              "      <td>1187</td>\n",
              "      <td>186</td>\n",
              "      <td>хотел открыть вклад доходный под год проценты ...</td>\n",
              "      <td>хотел открыть вклад доходный год проценты начи...</td>\n",
              "      <td>хотеть открыть вклад доходный год процент начи...</td>\n",
              "      <td>вклад год процент лесенка месяц месяц месяц ус...</td>\n",
              "    </tr>\n",
              "    <tr>\n",
              "      <th>157</th>\n",
              "      <td>москва</td>\n",
              "      <td>False</td>\n",
              "      <td>Отделение Марксистская, дом 5: спасибо за помощь!</td>\n",
              "      <td>0</td>\n",
              "      <td>лицензия № 1623</td>\n",
              "      <td>ospar</td>\n",
              "      <td>ВТБ 24</td>\n",
              "      <td>2015-06-04 22:58:38</td>\n",
              "      <td>Вчера, 3 июня, просидев в очереди более 3-х ча...</td>\n",
              "      <td>5.0</td>\n",
              "      <td>839</td>\n",
              "      <td>128</td>\n",
              "      <td>вчера июня просидев в очереди более -х часов н...</td>\n",
              "      <td>вчера июня просидев очереди -х часов получение...</td>\n",
              "      <td>вчера июнь просидеть очередь -х час получение ...</td>\n",
              "      <td>июнь очередь час получение выплата банк админи...</td>\n",
              "    </tr>\n",
              "    <tr>\n",
              "      <th>259</th>\n",
              "      <td>москва</td>\n",
              "      <td>False</td>\n",
              "      <td>Хорошее обслуживание</td>\n",
              "      <td>0</td>\n",
              "      <td>лицензия № 3206</td>\n",
              "      <td>ser-gyr</td>\n",
              "      <td>Соверен Банк</td>\n",
              "      <td>2015-06-02 18:23:41</td>\n",
              "      <td>Сегодня открывал вклад в этом банке. Очередь б...</td>\n",
              "      <td>5.0</td>\n",
              "      <td>624</td>\n",
              "      <td>87</td>\n",
              "      <td>сегодня открывал вклад в этом банке очередь бы...</td>\n",
              "      <td>сегодня открывал вклад банке очередь одного кл...</td>\n",
              "      <td>сегодня открывать вклад банк очередь один клие...</td>\n",
              "      <td>вклад банк очередь клиент зав отделение участи...</td>\n",
              "    </tr>\n",
              "    <tr>\n",
              "      <th>266</th>\n",
              "      <td>москва</td>\n",
              "      <td>False</td>\n",
              "      <td>Моя история получения кредита в Ренессанс Кред...</td>\n",
              "      <td>1</td>\n",
              "      <td>лицензия № 3354</td>\n",
              "      <td>SkaIa</td>\n",
              "      <td>Ренессанс Кредит</td>\n",
              "      <td>2015-06-03 02:03:28</td>\n",
              "      <td>Моя история получения кредита в Ренессанс Кред...</td>\n",
              "      <td>5.0</td>\n",
              "      <td>2124</td>\n",
              "      <td>318</td>\n",
              "      <td>моя история получения кредита в ренессанс кред...</td>\n",
              "      <td>история получения кредита ренессанс кредит бан...</td>\n",
              "      <td>история получение кредит ренессанс кредит банк...</td>\n",
              "      <td>история получение кредит ренессанс кредит банк...</td>\n",
              "    </tr>\n",
              "    <tr>\n",
              "      <th>...</th>\n",
              "      <td>...</td>\n",
              "      <td>...</td>\n",
              "      <td>...</td>\n",
              "      <td>...</td>\n",
              "      <td>...</td>\n",
              "      <td>...</td>\n",
              "      <td>...</td>\n",
              "      <td>...</td>\n",
              "      <td>...</td>\n",
              "      <td>...</td>\n",
              "      <td>...</td>\n",
              "      <td>...</td>\n",
              "      <td>...</td>\n",
              "      <td>...</td>\n",
              "      <td>...</td>\n",
              "      <td>...</td>\n",
              "    </tr>\n",
              "    <tr>\n",
              "      <th>153488</th>\n",
              "      <td>None</td>\n",
              "      <td>False</td>\n",
              "      <td>Повысилось качество обслуживания</td>\n",
              "      <td>0</td>\n",
              "      <td>лицензия № 1623</td>\n",
              "      <td>Атмос</td>\n",
              "      <td>ВТБ 24</td>\n",
              "      <td>2005-04-13 12:00:00</td>\n",
              "      <td>Пользуюсь банком 3 месяца - специально открыл ...</td>\n",
              "      <td>5.0</td>\n",
              "      <td>293</td>\n",
              "      <td>48</td>\n",
              "      <td>пользуюсь банком месяца - специально открыл сч...</td>\n",
              "      <td>пользуюсь банком месяца специально открыл счет...</td>\n",
              "      <td>пользоваться банк месяц специально открыть счё...</td>\n",
              "      <td>банк месяц счёт кризис очередь сожаление качес...</td>\n",
              "    </tr>\n",
              "    <tr>\n",
              "      <th>153489</th>\n",
              "      <td>None</td>\n",
              "      <td>False</td>\n",
              "      <td>Стабильный банк с высокими процентами</td>\n",
              "      <td>0</td>\n",
              "      <td>лицензия № 1971</td>\n",
              "      <td>Александра</td>\n",
              "      <td>Ханты-Мансийский банк Открытие</td>\n",
              "      <td>2005-04-14 13:41:00</td>\n",
              "      <td>А что писать? Ставки по вкладам высокие (до 13...</td>\n",
              "      <td>5.0</td>\n",
              "      <td>270</td>\n",
              "      <td>44</td>\n",
              "      <td>а что писать ставки по вкладам высокие до а на...</td>\n",
              "      <td>писать ставки вкладам высокие остатки картам в...</td>\n",
              "      <td>писать ставка вклад высокий остаток карта вооб...</td>\n",
              "      <td>ставка вклад остаток карта процент грэйс день ...</td>\n",
              "    </tr>\n",
              "    <tr>\n",
              "      <th>153491</th>\n",
              "      <td>None</td>\n",
              "      <td>False</td>\n",
              "      <td>Ну тогда копите денюжки и покупайте не в креди...</td>\n",
              "      <td>4</td>\n",
              "      <td>лицензия № 2289</td>\n",
              "      <td>irzik</td>\n",
              "      <td>Русский Стандарт</td>\n",
              "      <td>2005-04-14 17:42:00</td>\n",
              "      <td>А я с мужем обставила техникой совершенно нову...</td>\n",
              "      <td>5.0</td>\n",
              "      <td>684</td>\n",
              "      <td>107</td>\n",
              "      <td>а я с мужем обставила техникой совершенно нову...</td>\n",
              "      <td>мужем обставила техникой совершенно новую квар...</td>\n",
              "      <td>муж обставить техника совершенно новый квартир...</td>\n",
              "      <td>муж техника квартира банк товар товар кредит б...</td>\n",
              "    </tr>\n",
              "    <tr>\n",
              "      <th>153494</th>\n",
              "      <td>None</td>\n",
              "      <td>False</td>\n",
              "      <td>Не все так страшно</td>\n",
              "      <td>0</td>\n",
              "      <td>лицензия № 2557</td>\n",
              "      <td>Вера</td>\n",
              "      <td>Ситибанк</td>\n",
              "      <td>2005-05-18 14:38:00</td>\n",
              "      <td>Слишком большой банк, не всегда учитывает нашу...</td>\n",
              "      <td>5.0</td>\n",
              "      <td>353</td>\n",
              "      <td>52</td>\n",
              "      <td>слишком большой банк не всегда учитывает нашу ...</td>\n",
              "      <td>слишком большой банк учитывает нашу специфику ...</td>\n",
              "      <td>слишком большой банк учитывать наш специфика п...</td>\n",
              "      <td>банк специфика продукт карта получение кредитк...</td>\n",
              "    </tr>\n",
              "    <tr>\n",
              "      <th>153498</th>\n",
              "      <td>None</td>\n",
              "      <td>False</td>\n",
              "      <td>Быстро и удобно</td>\n",
              "      <td>0</td>\n",
              "      <td>лицензия № 1326</td>\n",
              "      <td>Денис</td>\n",
              "      <td>Альфа-Банк</td>\n",
              "      <td>2005-04-13 17:43:00</td>\n",
              "      <td>Если коротко, то мне нравится. Кридит получать...</td>\n",
              "      <td>5.0</td>\n",
              "      <td>489</td>\n",
              "      <td>75</td>\n",
              "      <td>если коротко то мне нравится кридит получать -...</td>\n",
              "      <td>коротко нравится кридит получать милое дело ан...</td>\n",
              "      <td>коротко нравиться кридеть получать милый дело ...</td>\n",
              "      <td>дело анкета интернет звонок скроки изготовлени...</td>\n",
              "    </tr>\n",
              "  </tbody>\n",
              "</table>\n",
              "<p>14713 rows × 16 columns</p>\n",
              "</div>"
            ],
            "text/plain": [
              "                    city  rating_not_checked  \\\n",
              "98       санкт-петербург               False   \n",
              "122      нижний новгород               False   \n",
              "157               москва               False   \n",
              "259               москва               False   \n",
              "266               москва               False   \n",
              "...                  ...                 ...   \n",
              "153488              None               False   \n",
              "153489              None               False   \n",
              "153491              None               False   \n",
              "153494              None               False   \n",
              "153498              None               False   \n",
              "\n",
              "                                                    title  num_comments  \\\n",
              "98                        Хорошо, когда проблемы решаются             0   \n",
              "122     Изменяют проценты по уже открытому договору вк...             3   \n",
              "157     Отделение Марксистская, дом 5: спасибо за помощь!             0   \n",
              "259                                  Хорошее обслуживание             0   \n",
              "266     Моя история получения кредита в Ренессанс Кред...             1   \n",
              "...                                                   ...           ...   \n",
              "153488                   Повысилось качество обслуживания             0   \n",
              "153489              Стабильный банк с высокими процентами             0   \n",
              "153491  Ну тогда копите денюжки и покупайте не в креди...             4   \n",
              "153494                                 Не все так страшно             0   \n",
              "153498                                    Быстро и удобно             0   \n",
              "\n",
              "           bank_license      author                       bank_name  \\\n",
              "98      лицензия № 1073      apka45                     Русславбанк   \n",
              "122      лицензия № 226    20157673                    РосинтерБанк   \n",
              "157     лицензия № 1623       ospar                          ВТБ 24   \n",
              "259     лицензия № 3206     ser-gyr                    Соверен Банк   \n",
              "266     лицензия № 3354       SkaIa                Ренессанс Кредит   \n",
              "...                 ...         ...                             ...   \n",
              "153488  лицензия № 1623       Атмос                          ВТБ 24   \n",
              "153489  лицензия № 1971  Александра  Ханты-Мансийский банк Открытие   \n",
              "153491  лицензия № 2289       irzik                Русский Стандарт   \n",
              "153494  лицензия № 2557        Вера                        Ситибанк   \n",
              "153498  лицензия № 1326       Денис                      Альфа-Банк   \n",
              "\n",
              "                   datetime  \\\n",
              "98      2015-06-03 17:40:38   \n",
              "122     2015-06-04 09:38:18   \n",
              "157     2015-06-04 22:58:38   \n",
              "259     2015-06-02 18:23:41   \n",
              "266     2015-06-03 02:03:28   \n",
              "...                     ...   \n",
              "153488  2005-04-13 12:00:00   \n",
              "153489  2005-04-14 13:41:00   \n",
              "153491  2005-04-14 17:42:00   \n",
              "153494  2005-05-18 14:38:00   \n",
              "153498  2005-04-13 17:43:00   \n",
              "\n",
              "                                                     text  rating_grade  \\\n",
              "98      Досрочно закрывали вклады перед отпуском. Жена...           5.0   \n",
              "122     Хотел открыть вклад \"Доходный+\" под 19% год , ...           5.0   \n",
              "157     Вчера, 3 июня, просидев в очереди более 3-х ча...           5.0   \n",
              "259     Сегодня открывал вклад в этом банке. Очередь б...           5.0   \n",
              "266     Моя история получения кредита в Ренессанс Кред...           5.0   \n",
              "...                                                   ...           ...   \n",
              "153488  Пользуюсь банком 3 месяца - специально открыл ...           5.0   \n",
              "153489  А что писать? Ставки по вкладам высокие (до 13...           5.0   \n",
              "153491  А я с мужем обставила техникой совершенно нову...           5.0   \n",
              "153494  Слишком большой банк, не всегда учитывает нашу...           5.0   \n",
              "153498  Если коротко, то мне нравится. Кридит получать...           5.0   \n",
              "\n",
              "        lenchartext  lenwordtext  \\\n",
              "98              383           56   \n",
              "122            1187          186   \n",
              "157             839          128   \n",
              "259             624           87   \n",
              "266            2124          318   \n",
              "...             ...          ...   \n",
              "153488          293           48   \n",
              "153489          270           44   \n",
              "153491          684          107   \n",
              "153494          353           52   \n",
              "153498          489           75   \n",
              "\n",
              "                                               clean_text  \\\n",
              "98      досрочно закрывали вклады перед отпуском жена ...   \n",
              "122     хотел открыть вклад доходный под год проценты ...   \n",
              "157     вчера июня просидев в очереди более -х часов н...   \n",
              "259     сегодня открывал вклад в этом банке очередь бы...   \n",
              "266     моя история получения кредита в ренессанс кред...   \n",
              "...                                                   ...   \n",
              "153488  пользуюсь банком месяца - специально открыл сч...   \n",
              "153489  а что писать ставки по вкладам высокие до а на...   \n",
              "153491  а я с мужем обставила техникой совершенно нову...   \n",
              "153494  слишком большой банк не всегда учитывает нашу ...   \n",
              "153498  если коротко то мне нравится кридит получать -...   \n",
              "\n",
              "                                 clean_text_without_stops  \\\n",
              "98      досрочно закрывали вклады отпуском жена заказы...   \n",
              "122     хотел открыть вклад доходный год проценты начи...   \n",
              "157     вчера июня просидев очереди -х часов получение...   \n",
              "259     сегодня открывал вклад банке очередь одного кл...   \n",
              "266     история получения кредита ренессанс кредит бан...   \n",
              "...                                                   ...   \n",
              "153488  пользуюсь банком месяца специально открыл счет...   \n",
              "153489  писать ставки вкладам высокие остатки картам в...   \n",
              "153491  мужем обставила техникой совершенно новую квар...   \n",
              "153494  слишком большой банк учитывает нашу специфику ...   \n",
              "153498  коротко нравится кридит получать милое дело ан...   \n",
              "\n",
              "                                               text_lemma  \\\n",
              "98      досрочно закрывать вклад отпуск жена заказыват...   \n",
              "122     хотеть открыть вклад доходный год процент начи...   \n",
              "157     вчера июнь просидеть очередь -х час получение ...   \n",
              "259     сегодня открывать вклад банк очередь один клие...   \n",
              "266     история получение кредит ренессанс кредит банк...   \n",
              "...                                                   ...   \n",
              "153488  пользоваться банк месяц специально открыть счё...   \n",
              "153489  писать ставка вклад высокий остаток карта вооб...   \n",
              "153491  муж обставить техника совершенно новый квартир...   \n",
              "153494  слишком большой банк учитывать наш специфика п...   \n",
              "153498  коротко нравиться кридеть получать милый дело ...   \n",
              "\n",
              "                                                text_noun  \n",
              "98      вклад отпуск жена сотрудник банк спб ленсовет ...  \n",
              "122     вклад год процент лесенка месяц месяц месяц ус...  \n",
              "157     июнь очередь час получение выплата банк админи...  \n",
              "259     вклад банк очередь клиент зав отделение участи...  \n",
              "266     история получение кредит ренессанс кредит банк...  \n",
              "...                                                   ...  \n",
              "153488  банк месяц счёт кризис очередь сожаление качес...  \n",
              "153489  ставка вклад остаток карта процент грэйс день ...  \n",
              "153491  муж техника квартира банк товар товар кредит б...  \n",
              "153494  банк специфика продукт карта получение кредитк...  \n",
              "153498  дело анкета интернет звонок скроки изготовлени...  \n",
              "\n",
              "[14713 rows x 16 columns]"
            ]
          },
          "execution_count": 86,
          "metadata": {},
          "output_type": "execute_result"
        }
      ],
      "source": [
        "df_5 = df[df[\"rating_grade\"] == 5]\n",
        "df_5"
      ]
    },
    {
      "cell_type": "code",
      "execution_count": null,
      "metadata": {
        "id": "JgSsTT1iA2EG"
      },
      "outputs": [],
      "source": [
        "tf_idf_1 = tfidf.transform(df_1[\"text_lemma\"])"
      ]
    },
    {
      "cell_type": "code",
      "execution_count": null,
      "metadata": {
        "id": "4i93BCZ0A2EG"
      },
      "outputs": [],
      "source": [
        "tf_idf_5 = tfidf.transform(df_5[\"text_lemma\"])"
      ]
    },
    {
      "cell_type": "code",
      "execution_count": null,
      "metadata": {
        "id": "N3TkawYBA2EG"
      },
      "outputs": [],
      "source": [
        "tf_idf_1_mean = array(tf_idf_1.mean(axis = 0)).flatten()"
      ]
    },
    {
      "cell_type": "code",
      "execution_count": null,
      "metadata": {
        "id": "yGZ4ETfFA2EH",
        "outputId": "eeb05600-2a83-49b6-aa83-73cc53b9a31b"
      },
      "outputs": [
        {
          "data": {
            "text/plain": [
              "array([3.01065796e-06, 8.02959385e-07, 0.00000000e+00, ...,\n",
              "       0.00000000e+00, 0.00000000e+00, 0.00000000e+00])"
            ]
          },
          "execution_count": 126,
          "metadata": {},
          "output_type": "execute_result"
        }
      ],
      "source": [
        "tf_idf_1_mean"
      ]
    },
    {
      "cell_type": "code",
      "execution_count": null,
      "metadata": {
        "id": "zAGaw8dzA2EH"
      },
      "outputs": [],
      "source": [
        "tf_idf_5_mean = array(tf_idf_5.mean(axis = 0)).flatten()"
      ]
    },
    {
      "cell_type": "code",
      "execution_count": null,
      "metadata": {
        "id": "ym3sm04iA2EH",
        "outputId": "7dba3382-a841-4484-cd05-aa8d4602cfc7"
      },
      "outputs": [
        {
          "data": {
            "text/plain": [
              "array([2.18920482e-05, 0.00000000e+00, 0.00000000e+00, ...,\n",
              "       0.00000000e+00, 0.00000000e+00, 0.00000000e+00])"
            ]
          },
          "execution_count": 128,
          "metadata": {},
          "output_type": "execute_result"
        }
      ],
      "source": [
        "tf_idf_5_mean"
      ]
    },
    {
      "cell_type": "code",
      "execution_count": null,
      "metadata": {
        "id": "HHEkCNITA2EH"
      },
      "outputs": [],
      "source": [
        "idx_1 = (-tf_idf_1_mean).argsort()[:10]"
      ]
    },
    {
      "cell_type": "code",
      "execution_count": null,
      "metadata": {
        "id": "K-zoSaEkA2EI"
      },
      "outputs": [],
      "source": [
        "idx_5 = (-tf_idf_5_mean).argsort()[:10]"
      ]
    },
    {
      "cell_type": "code",
      "execution_count": null,
      "metadata": {
        "id": "DWbrXOlHA2EI"
      },
      "outputs": [],
      "source": []
    },
    {
      "cell_type": "code",
      "execution_count": null,
      "metadata": {
        "id": "sWxiIs7YA2EI"
      },
      "outputs": [],
      "source": []
    },
    {
      "cell_type": "code",
      "execution_count": null,
      "metadata": {
        "id": "PTblsdgdA2EI",
        "outputId": "7a85b5e4-b010-4296-88f1-b8b4b7273f42"
      },
      "outputs": [
        {
          "data": {
            "text/plain": [
              "array([ 211636, 1435088,  854469, 2477761, 1603972,  846543, 4115051,\n",
              "       1226436, 1837098, 3927145], dtype=int64)"
            ]
          },
          "execution_count": 166,
          "metadata": {},
          "output_type": "execute_result"
        }
      ],
      "source": [
        "idx_1"
      ]
    },
    {
      "cell_type": "code",
      "execution_count": null,
      "metadata": {
        "id": "YZAb7dulA2EJ",
        "outputId": "31f98fe9-b59a-4574-b9d2-269cbaa307cc"
      },
      "outputs": [
        {
          "data": {
            "text/plain": [
              "array([ 211636, 1435088, 2594453,  456874, 1603972, 2477761, 1487765,\n",
              "       2570489, 3927145, 3946257], dtype=int64)"
            ]
          },
          "execution_count": 169,
          "metadata": {},
          "output_type": "execute_result"
        }
      ],
      "source": [
        "idx_5"
      ]
    },
    {
      "cell_type": "code",
      "execution_count": null,
      "metadata": {
        "id": "pEwjBykGA2EJ"
      },
      "outputs": [],
      "source": [
        "# tfidf.vocabulary_"
      ]
    },
    {
      "cell_type": "code",
      "execution_count": null,
      "metadata": {
        "id": "AEuIsfFKA2EJ"
      },
      "outputs": [],
      "source": [
        "tfidf_reverse_dict = {v: k for k, v in tfidf.vocabulary_.items()}"
      ]
    },
    {
      "cell_type": "code",
      "execution_count": null,
      "metadata": {
        "id": "46a0FEmXA2EJ"
      },
      "outputs": [],
      "source": [
        "# tfidf_reverse_dict"
      ]
    },
    {
      "cell_type": "code",
      "execution_count": null,
      "metadata": {
        "id": "DDvEyuF5A2EK",
        "outputId": "6a5e871c-ea4d-4718-9621-531fa90b88c6"
      },
      "outputs": [
        {
          "name": "stdout",
          "output_type": "stream",
          "text": [
            "Самые популярные слова при рейтинге 1:\n",
            "банк\n",
            "карта\n",
            "деньга\n",
            "отделение\n",
            "кредит\n",
            "день\n",
            "счёт\n",
            "заявление\n",
            "мой\n",
            "сотрудник\n"
          ]
        }
      ],
      "source": [
        "print(\"Самые популярные слова при рейтинге 1:\")\n",
        "for i in range(10):\n",
        "    print(tfidf_reverse_dict[idx_1[i]])"
      ]
    },
    {
      "cell_type": "code",
      "execution_count": null,
      "metadata": {
        "id": "N4NrYzR4A2EK",
        "outputId": "3aaf6f8e-ce78-45ea-99d1-0684167f1c33"
      },
      "outputs": [
        {
          "name": "stdout",
          "output_type": "stream",
          "text": [
            "Самые популярные слова при рейтинге 5:\n",
            "банк\n",
            "карта\n",
            "очень\n",
            "вклад\n",
            "кредит\n",
            "отделение\n",
            "клиент\n",
            "офис\n",
            "сотрудник\n",
            "спасибо\n"
          ]
        }
      ],
      "source": [
        "print(\"Самые популярные слова при рейтинге 5:\")\n",
        "for i in range(10):\n",
        "    print(tfidf_reverse_dict[idx_5[i]])"
      ]
    },
    {
      "cell_type": "code",
      "execution_count": null,
      "metadata": {
        "id": "WEhgK_J2A2EK"
      },
      "outputs": [],
      "source": []
    },
    {
      "cell_type": "code",
      "execution_count": null,
      "metadata": {
        "id": "qlGlmCx9A2EK",
        "outputId": "76c3777b-9195-4eb9-f02b-8b4f7faa006d"
      },
      "outputs": [
        {
          "data": {
            "text/plain": [
              "<153499x4564076 sparse matrix of type '<class 'numpy.float64'>'\n",
              "\twith 21166884 stored elements in Compressed Sparse Row format>"
            ]
          },
          "execution_count": 183,
          "metadata": {},
          "output_type": "execute_result"
        }
      ],
      "source": [
        "# для биграмм\n",
        "tfidf_bi = TfidfVectorizer(ngram_range = (2, 2))\n",
        "X_train_tfidf_bi = tfidf_bi.fit_transform(df[\"text_lemma\"])\n",
        "X_train_tfidf_bi"
      ]
    },
    {
      "cell_type": "code",
      "execution_count": null,
      "metadata": {
        "id": "NjAIb7UYA2EL"
      },
      "outputs": [],
      "source": [
        "tf_idf_1_bi = tfidf_bi.transform(df_1[\"text_lemma\"])"
      ]
    },
    {
      "cell_type": "code",
      "execution_count": null,
      "metadata": {
        "id": "tDVM6DW_A2EL"
      },
      "outputs": [],
      "source": [
        "tf_idf_5_bi = tfidf_bi.transform(df_5[\"text_lemma\"])"
      ]
    },
    {
      "cell_type": "code",
      "execution_count": null,
      "metadata": {
        "id": "qo8LextsA2EL"
      },
      "outputs": [],
      "source": [
        "tf_idf_1_bi_mean = array(tf_idf_1_bi.mean(axis = 0)).flatten()"
      ]
    },
    {
      "cell_type": "code",
      "execution_count": null,
      "metadata": {
        "id": "6VbrdCvYA2EL"
      },
      "outputs": [],
      "source": [
        "tf_idf_5_bi_mean = array(tf_idf_5_bi.mean(axis = 0)).flatten()"
      ]
    },
    {
      "cell_type": "code",
      "execution_count": null,
      "metadata": {
        "id": "-Nb5ym8AA2EM"
      },
      "outputs": [],
      "source": [
        "idx_1_bi = (-tf_idf_1_bi_mean).argsort()[:10]"
      ]
    },
    {
      "cell_type": "code",
      "execution_count": null,
      "metadata": {
        "id": "lKuhwne9A2EQ"
      },
      "outputs": [],
      "source": [
        "idx_5_bi = (-tf_idf_5_bi_mean).argsort()[:10]"
      ]
    },
    {
      "cell_type": "code",
      "execution_count": null,
      "metadata": {
        "id": "v48-xdh0A2EQ"
      },
      "outputs": [],
      "source": [
        "tfidf_reverse_dict_bi = {v: k for k, v in tfidf_bi.vocabulary_.items()}"
      ]
    },
    {
      "cell_type": "code",
      "execution_count": null,
      "metadata": {
        "id": "429FppZ2A2EQ",
        "outputId": "b6dbe323-c5c7-4d55-fd39-2794c5166b1f"
      },
      "outputs": [
        {
          "name": "stdout",
          "output_type": "stream",
          "text": [
            "Самые популярные биграммы при рейтинге 1:\n",
            "сотрудник банк\n",
            "отделение банк\n",
            "денежный средство\n",
            "написать заявление\n",
            "кредитный карта\n",
            "какой то\n",
            "горячий линия\n",
            "кол центр\n",
            "рабочий день\n",
            "ваш банк\n"
          ]
        }
      ],
      "source": [
        "print(\"Самые популярные биграммы при рейтинге 1:\")\n",
        "for i in range(10):\n",
        "    print(tfidf_reverse_dict_bi[idx_1_bi[i]])"
      ]
    },
    {
      "cell_type": "code",
      "execution_count": null,
      "metadata": {
        "id": "XYe62pCQA2ER",
        "outputId": "0c0ce8db-ca31-4453-fd2e-fd04a3e60de6"
      },
      "outputs": [
        {
          "name": "stdout",
          "output_type": "stream",
          "text": [
            "Самые популярные биграммы при рейтинге 5:\n",
            "другой банк\n",
            "кредитный карта\n",
            "интернет банк\n",
            "сотрудник банк\n",
            "клиент банк\n",
            "очень довольный\n",
            "хотеть выразить\n",
            "являться клиент\n",
            "очень удобно\n",
            "следующий день\n"
          ]
        }
      ],
      "source": [
        "print(\"Самые популярные биграммы при рейтинге 5:\")\n",
        "for i in range(10):\n",
        "    print(tfidf_reverse_dict_bi[idx_5_bi[i]])"
      ]
    },
    {
      "cell_type": "code",
      "execution_count": null,
      "metadata": {
        "id": "qEepr6qCA2ER"
      },
      "outputs": [],
      "source": [
        "# тематическое моделирование\n",
        "\n",
        "data_lemmatized = df[\"text_lemma\"].str.split()"
      ]
    },
    {
      "cell_type": "code",
      "execution_count": null,
      "metadata": {
        "id": "WfhpK5l7A2ER",
        "outputId": "f633c412-fcb7-42d9-8758-236dce6ec47e"
      },
      "outputs": [
        {
          "data": {
            "text/plain": [
              "0         [добрый, день, являться, клиент, банк, поручит...\n",
              "1         [добрый, день, являться, держатель, зарплатный...\n",
              "2         [здравствуйте, дублировать, свой, заявление, м...\n",
              "3         [добрый, день, открыть, расчётный, счёт, сберб...\n",
              "4         [г, взять, кредит, ваш, банк, заявить, я, сумм...\n",
              "                                ...                        \n",
              "153494    [слишком, большой, банк, учитывать, наш, специ...\n",
              "153495    [сам, виноватый, свой, проблема, кроме, предпо...\n",
              "153496    [уважаемый, руководство, банк, овк, проживать,...\n",
              "153497    [пробовать, оформить, товар, кредит, альфа-бан...\n",
              "153498    [коротко, нравиться, кридеть, получать, милый,...\n",
              "Name: text_lemma, Length: 153499, dtype: object"
            ]
          },
          "execution_count": 205,
          "metadata": {},
          "output_type": "execute_result"
        }
      ],
      "source": [
        "data_lemmatized"
      ]
    },
    {
      "cell_type": "code",
      "execution_count": null,
      "metadata": {
        "id": "18mn65WrA2ES",
        "outputId": "11fe5657-a4a4-404d-8e4b-f07ec900ebec"
      },
      "outputs": [
        {
          "name": "stdout",
          "output_type": "stream",
          "text": [
            "[[(0, 3), (1, 3), (2, 1), (3, 1), (4, 1), (5, 1), (6, 1), (7, 1), (8, 1), (9, 1), (10, 1), (11, 2), (12, 1), (13, 1), (14, 1), (15, 3), (16, 1), (17, 2), (18, 1), (19, 1), (20, 1), (21, 1), (22, 1), (23, 4), (24, 1), (25, 1), (26, 1), (27, 1), (28, 2), (29, 1), (30, 1), (31, 1), (32, 1), (33, 1), (34, 1), (35, 2), (36, 1), (37, 1), (38, 1), (39, 1), (40, 1), (41, 1), (42, 1), (43, 1), (44, 1), (45, 3), (46, 1), (47, 2), (48, 1), (49, 1), (50, 1), (51, 1), (52, 1), (53, 1), (54, 4), (55, 1), (56, 1), (57, 1), (58, 2), (59, 1), (60, 1), (61, 1), (62, 1), (63, 1), (64, 1), (65, 1), (66, 1), (67, 1), (68, 1), (69, 3), (70, 2), (71, 1), (72, 1), (73, 1), (74, 1), (75, 3), (76, 1), (77, 1), (78, 1), (79, 1), (80, 1), (81, 1), (82, 1), (83, 1), (84, 1), (85, 1), (86, 1), (87, 1), (88, 1), (89, 1), (90, 1), (91, 1), (92, 1), (93, 1), (94, 1), (95, 1), (96, 1), (97, 1), (98, 1), (99, 1), (100, 2), (101, 1), (102, 1), (103, 1), (104, 2), (105, 1), (106, 1), (107, 1), (108, 1), (109, 1), (110, 1), (111, 1), (112, 1), (113, 1), (114, 1), (115, 2)]]\n"
          ]
        }
      ],
      "source": [
        "# Create Dictionary\n",
        "id2word = corpora.Dictionary(data_lemmatized)\n",
        "\n",
        "# Create Corpus\n",
        "texts = data_lemmatized\n",
        "\n",
        "# Term Document Frequency\n",
        "corpus = [id2word.doc2bow(text) for text in texts]\n",
        "\n",
        "# View\n",
        "print(corpus[:1])"
      ]
    },
    {
      "cell_type": "code",
      "execution_count": null,
      "metadata": {
        "id": "PUq0SSH2A2ES",
        "outputId": "d0056d67-e291-49f7-d685-2f2f3586c8fb"
      },
      "outputs": [
        {
          "data": {
            "text/plain": [
              "'адрес'"
            ]
          },
          "execution_count": 208,
          "metadata": {},
          "output_type": "execute_result"
        }
      ],
      "source": [
        "id2word[0]"
      ]
    },
    {
      "cell_type": "code",
      "execution_count": null,
      "metadata": {
        "id": "_JC7-ULXA2ES",
        "outputId": "6513f195-89be-4fd3-f07d-52c402b9f945"
      },
      "outputs": [
        {
          "data": {
            "text/plain": [
              "[[('адрес', 3),\n",
              "  ('банк', 3),\n",
              "  ('бесконечный', 1),\n",
              "  ('бояться', 1),\n",
              "  ('быть', 1),\n",
              "  ('ваш', 1),\n",
              "  ('весь', 1),\n",
              "  ('взять', 1),\n",
              "  ('владимирович', 1),\n",
              "  ('возбуждение', 1),\n",
              "  ('возмещение', 1),\n",
              "  ('вопрос', 2),\n",
              "  ('вред', 1),\n",
              "  ('вынудить', 1),\n",
              "  ('вышеуказанный', 1),\n",
              "  ('год', 3),\n",
              "  ('город', 1),\n",
              "  ('гражданин', 2),\n",
              "  ('гражданский', 1),\n",
              "  ('данные', 1),\n",
              "  ('дело', 1),\n",
              "  ('день', 1),\n",
              "  ('добрый', 1),\n",
              "  ('договор', 4),\n",
              "  ('документ', 1),\n",
              "  ('должный', 1),\n",
              "  ('дом', 1),\n",
              "  ('доставлять', 1),\n",
              "  ('другой', 2),\n",
              "  ('жалоба', 1),\n",
              "  ('заверить', 1),\n",
              "  ('задолженность', 1),\n",
              "  ('закон', 1),\n",
              "  ('зарегистрировать', 1),\n",
              "  ('защита', 1),\n",
              "  ('заявление', 2),\n",
              "  ('знак', 1),\n",
              "  ('иметь', 1),\n",
              "  ('имущество', 1),\n",
              "  ('имя', 1),\n",
              "  ('какой', 1),\n",
              "  ('какой-либо', 1),\n",
              "  ('квартира', 1),\n",
              "  ('клиент', 1),\n",
              "  ('коллект', 1),\n",
              "  ('который', 3),\n",
              "  ('кредит', 1),\n",
              "  ('кредитный', 2),\n",
              "  ('кроме', 1),\n",
              "  ('лицо', 1),\n",
              "  ('малый', 1),\n",
              "  ('март', 1),\n",
              "  ('мера', 1),\n",
              "  ('милость', 1),\n",
              "  ('мой', 4),\n",
              "  ('моральный', 1),\n",
              "  ('москва', 1),\n",
              "  ('надеяться', 1),\n",
              "  ('нарушать', 2),\n",
              "  ('начать', 1),\n",
              "  ('начинать', 1),\n",
              "  ('неудобство', 1),\n",
              "  ('образ', 1),\n",
              "  ('обратиться', 1),\n",
              "  ('омбудсмен', 1),\n",
              "  ('ооо', 1),\n",
              "  ('орган', 1),\n",
              "  ('ответственность', 1),\n",
              "  ('отклонение', 1),\n",
              "  ('отношение', 3),\n",
              "  ('оформить', 2),\n",
              "  ('переживать', 1),\n",
              "  ('переулок', 1),\n",
              "  ('персональный', 1),\n",
              "  ('письменно', 1),\n",
              "  ('письмо', 3),\n",
              "  ('повод', 1),\n",
              "  ('подать', 1),\n",
              "  ('подлинность', 1),\n",
              "  ('полиция', 1),\n",
              "  ('понятно', 1),\n",
              "  ('поручитель', 1),\n",
              "  ('посылать', 1),\n",
              "  ('почему', 1),\n",
              "  ('право', 1),\n",
              "  ('прекратить', 1),\n",
              "  ('претензия', 1),\n",
              "  ('прить', 1),\n",
              "  ('приходить', 1),\n",
              "  ('причинить', 1),\n",
              "  ('просить', 1),\n",
              "  ('разыскивать', 1),\n",
              "  ('решение', 1),\n",
              "  ('росспотребнадзор', 1),\n",
              "  ('свой', 1),\n",
              "  ('серьёзный', 1),\n",
              "  ('скорый', 1),\n",
              "  ('служба', 1),\n",
              "  ('случай', 1),\n",
              "  ('суд', 1),\n",
              "  ('также', 2),\n",
              "  ('убедительно', 1),\n",
              "  ('уваровский', 1),\n",
              "  ('уголовный', 1),\n",
              "  ('угроза', 2),\n",
              "  ('удостовериться', 1),\n",
              "  ('уклоняться', 1),\n",
              "  ('уплата', 1),\n",
              "  ('урегулирование', 1),\n",
              "  ('филиппов', 1),\n",
              "  ('финансовый', 1),\n",
              "  ('хотеть', 1),\n",
              "  ('центральный', 1),\n",
              "  ('чей-либо', 1),\n",
              "  ('эдуард', 1),\n",
              "  ('являться', 2)]]"
            ]
          },
          "execution_count": 209,
          "metadata": {},
          "output_type": "execute_result"
        }
      ],
      "source": [
        "# Human readable format of corpus (term-frequency)\n",
        "[[(id2word[id], freq) for id, freq in cp] for cp in corpus[:1]]"
      ]
    },
    {
      "cell_type": "code",
      "execution_count": null,
      "metadata": {
        "id": "t3d1tdibA2ET"
      },
      "outputs": [],
      "source": [
        "# Build LDA model   # для 10 тем\n",
        "lda_model_10 = gensim.models.ldamodel.LdaModel(corpus=corpus,\n",
        "                                           id2word=id2word,\n",
        "                                           num_topics=10,\n",
        "                                           random_state=100,\n",
        "                                           update_every=1,\n",
        "                                           chunksize=100,\n",
        "                                           passes=10,\n",
        "                                           alpha='auto',\n",
        "                                           per_word_topics=True)"
      ]
    },
    {
      "cell_type": "code",
      "execution_count": null,
      "metadata": {
        "id": "Gq4g38vaA2ET",
        "outputId": "87095f41-0bef-4e18-9b4d-64bacdac5481"
      },
      "outputs": [
        {
          "data": {
            "text/plain": [
              "[(0,\n",
              "  '0.142*\"отделение\" + 0.058*\"москва\" + 0.045*\"филиал\" + 0.043*\"сбербанк\" + 0.024*\"кассир\" + 0.024*\"г\" + 0.017*\"дозвониться\" + 0.015*\"адрес\" + 0.015*\"город\" + 0.013*\"милый\"'),\n",
              " (1,\n",
              "  '0.265*\"карта\" + 0.034*\"ситибанк\" + 0.025*\"услуга\" + 0.021*\"пользоваться\" + 0.016*\"дебетовый\" + 0.015*\"visa\" + 0.014*\"получить\" + 0.014*\"интернет\" + 0.010*\"система\" + 0.010*\"пластиковый\"'),\n",
              " (2,\n",
              "  '0.059*\"банк\" + 0.017*\"мой\" + 0.016*\"который\" + 0.016*\"сотрудник\" + 0.013*\"клиент\" + 0.010*\"информация\" + 0.009*\"персонал\" + 0.009*\"ответ\" + 0.009*\"письмо\" + 0.008*\"получить\"'),\n",
              " (3,\n",
              "  '0.020*\"сказать\" + 0.017*\"работать\" + 0.015*\"очередь\" + 0.014*\"человек\" + 0.014*\"минута\" + 0.014*\"отделение\" + 0.013*\"говорить\" + 0.012*\"девушка\" + 0.010*\"время\" + 0.010*\"который\"'),\n",
              " (4,\n",
              "  '0.057*\"банк\" + 0.020*\"очень\" + 0.020*\"клиент\" + 0.013*\"вклад\" + 0.011*\"обслуживание\" + 0.009*\"год\" + 0.009*\"работа\" + 0.009*\"свой\" + 0.008*\"проблема\" + 0.008*\"другой\"'),\n",
              " (5,\n",
              "  '0.043*\"документ\" + 0.042*\"кредит\" + 0.026*\"кредитный\" + 0.023*\"день\" + 0.022*\"заявка\" + 0.021*\"договор\" + 0.016*\"менеджер\" + 0.015*\"анкета\" + 0.014*\"оформить\" + 0.012*\"заполнить\"'),\n",
              " (6,\n",
              "  '0.062*\"счёт\" + 0.059*\"деньга\" + 0.036*\"день\" + 0.028*\"заявление\" + 0.018*\"мой\" + 0.017*\"написать\" + 0.016*\"банк\" + 0.015*\"сумма\" + 0.011*\"перевод\" + 0.011*\"выписка\"'),\n",
              " (7,\n",
              "  '0.106*\"банкомат\" + 0.070*\"карточка\" + 0.050*\"комиссия\" + 0.045*\"деньга\" + 0.039*\"лимит\" + 0.033*\"кредитка\" + 0.032*\"сити\" + 0.028*\"снять\" + 0.021*\"наличный\" + 0.020*\"магазин\"'),\n",
              " (8,\n",
              "  '0.085*\"кредит\" + 0.044*\"платёж\" + 0.039*\"сумма\" + 0.034*\"месяц\" + 0.033*\"банк\" + 0.031*\"кредитный\" + 0.026*\"год\" + 0.021*\"платить\" + 0.020*\"процент\" + 0.018*\"руб\"'),\n",
              " (9,\n",
              "  '0.047*\"звонить\" + 0.037*\"телефон\" + 0.024*\"банк\" + 0.022*\"ваш\" + 0.022*\"звонок\" + 0.018*\"позвонить\" + 0.018*\"мой\" + 0.016*\"номер\" + 0.013*\"сотрудник\" + 0.012*\"дать\"')]"
            ]
          },
          "execution_count": 213,
          "metadata": {},
          "output_type": "execute_result"
        }
      ],
      "source": [
        "lda_model_10.print_topics()"
      ]
    },
    {
      "cell_type": "code",
      "execution_count": null,
      "metadata": {
        "id": "375wdVVmA2ET",
        "outputId": "de49d0ee-e22f-4f1b-ff0b-8ac59238fe0f"
      },
      "outputs": [
        {
          "name": "stdout",
          "output_type": "stream",
          "text": [
            "\n",
            "Perplexity:  -8.11760510525649\n",
            "\n",
            "Coherence Score:  0.41142463371846\n"
          ]
        }
      ],
      "source": [
        "# Compute Perplexity\n",
        "print('\\nPerplexity: ', lda_model_10.log_perplexity(corpus))  # a measure of how good the model is. lower the better.\n",
        "# Compute Coherence Score\n",
        "coherence_model_lda_10 = CoherenceModel(model=lda_model_10, texts=data_lemmatized, dictionary=id2word, coherence='c_v')\n",
        "coherence_lda_10 = coherence_model_lda_10.get_coherence()\n",
        "print('\\nCoherence Score: ', coherence_lda_10)"
      ]
    },
    {
      "cell_type": "code",
      "execution_count": null,
      "metadata": {
        "id": "bLl1YZI8A2ET"
      },
      "outputs": [],
      "source": [
        "# 5 Тема интерпритируется как \"оформление кредитного договора\"\n",
        "# 8 Тема интерпритируется как \"оплата по кредиту\"\n",
        "# 9 Тема интерпретируется как \"обратная связь по телефону\""
      ]
    },
    {
      "cell_type": "code",
      "execution_count": null,
      "metadata": {
        "id": "ULVuAvGNA2EU"
      },
      "outputs": [],
      "source": [
        "# В 0 теме упомянут сбербанк, также там есть слова: \"филиал\",\"отделение\", \"адрес\", \"город\".\n",
        "# Тема говорит об актуальности находждения информации о местоположении и контактов отделений сбербанка.\n",
        "\n",
        "# В 1 теме упомянут ситибанк, также там есть слова: \"виза\",\"карта\", \"дебетовый\", \"пользоваться\", \"пластиковый\".\n",
        "# Тема говорит об актуальности заведения карты ситибанка."
      ]
    },
    {
      "cell_type": "code",
      "execution_count": null,
      "metadata": {
        "id": "GW6FV0liA2EU"
      },
      "outputs": [],
      "source": [
        "# Build LDA model   # для 50 тем\n",
        "lda_model_50 = gensim.models.ldamodel.LdaModel(corpus=corpus,\n",
        "                                           id2word=id2word,\n",
        "                                           num_topics=50,\n",
        "                                           random_state=100,\n",
        "                                           update_every=1,\n",
        "                                           chunksize=100,\n",
        "                                           passes=10,\n",
        "                                           alpha='auto',\n",
        "                                           per_word_topics=True)"
      ]
    },
    {
      "cell_type": "code",
      "execution_count": null,
      "metadata": {
        "id": "WMI_zep6A2EU",
        "outputId": "fd4cceaf-ad45-4eb0-9b41-e0d08a4e649e"
      },
      "outputs": [
        {
          "data": {
            "text/plain": [
              "[(30,\n",
              "  '0.372*\"суббота\" + 0.297*\"пятница\" + 0.082*\"классик\" + 0.065*\"наверно\" + 0.036*\"английский\" + 0.008*\"чип\" + 0.000*\"yyyy-й\" + 0.000*\"устаеовить\" + 0.000*\"рож-на\" + 0.000*\"салда\"'),\n",
              " (7,\n",
              "  '0.575*\"долг\" + 0.051*\"ежедневно\" + 0.049*\"должник\" + 0.049*\"судебный\" + 0.035*\"взыскание\" + 0.023*\"наложить\" + 0.021*\"исполнять\" + 0.011*\"арест\" + 0.010*\"пристав\" + 0.007*\"постановление\"'),\n",
              " (17,\n",
              "  '0.522*\"справка\" + 0.196*\"голос\" + 0.049*\"новость\" + 0.031*\"доказывать\" + 0.022*\"молча\" + 0.022*\"роль\" + 0.014*\"законный\" + 0.014*\"счесть\" + 0.012*\"отстаивать\" + 0.011*\"невозврат\"'),\n",
              " (22,\n",
              "  '0.615*\"средство\" + 0.226*\"денежный\" + 0.021*\"собственный\" + 0.018*\"списать\" + 0.014*\"размер\" + 0.000*\"снятой\" + 0.000*\"григ-в\" + 0.000*\"рож-на\" + 0.000*\"молодёжь-молодёжь\" + 0.000*\"салда\"'),\n",
              " (3,\n",
              "  '0.462*\"операционистка\" + 0.179*\"линия\" + 0.085*\"терминал\" + 0.064*\"статус\" + 0.057*\"горячий\" + 0.029*\"предполагать\" + 0.011*\"располагаться\" + 0.009*\"стационарный\" + 0.006*\"республика\" + 0.000*\"молодёжь-молодёжь\"'),\n",
              " (16,\n",
              "  '0.162*\"ru\" + 0.098*\"изменение\" + 0.093*\"товар\" + 0.078*\"www\" + 0.071*\"http\" + 0.070*\"изменить\" + 0.059*\"установить\" + 0.043*\"banki\" + 0.039*\"максимальный\" + 0.032*\"песня\"'),\n",
              " (25,\n",
              "  '0.195*\"безопасность\" + 0.155*\"невозможно\" + 0.099*\"цифра\" + 0.084*\"пароль\" + 0.082*\"завести\" + 0.080*\"странный\" + 0.073*\"записать\" + 0.050*\"буква\" + 0.039*\"набор\" + 0.030*\"запомнить\"'),\n",
              " (14,\n",
              "  '0.118*\"российский\" + 0.076*\"район\" + 0.075*\"гражданин\" + 0.062*\"чужой\" + 0.056*\"ч\" + 0.052*\"согласие\" + 0.038*\"осуществлять\" + 0.035*\"участник\" + 0.035*\"ввиду\" + 0.030*\"компенсация\"'),\n",
              " (9,\n",
              "  '0.317*\"сотрудница\" + 0.178*\"фамилия\" + 0.109*\"обязательно\" + 0.085*\"стараться\" + 0.042*\"неоднократно\" + 0.034*\"возмутить\" + 0.032*\"агентство\" + 0.027*\"конечный\" + 0.024*\"справедливость\" + 0.021*\"неизвестный\"'),\n",
              " (19,\n",
              "  '0.224*\"кассир\" + 0.200*\"стоять\" + 0.125*\"подпись\" + 0.101*\"квитанция\" + 0.085*\"проверка\" + 0.038*\"поверить\" + 0.036*\"спокойный\" + 0.028*\"население\" + 0.028*\"расписаться\" + 0.024*\"пропуск\"'),\n",
              " (10,\n",
              "  '0.275*\"кредитный\" + 0.079*\"лимит\" + 0.066*\"положительный\" + 0.046*\"удобно\" + 0.031*\"предложение\" + 0.031*\"забыть\" + 0.030*\"нравиться\" + 0.029*\"жена\" + 0.027*\"ставить\" + 0.020*\"несмотря\"'),\n",
              " (12,\n",
              "  '0.086*\"менеджер\" + 0.061*\"рабочий\" + 0.044*\"кстати\" + 0.039*\"сбер\" + 0.030*\"бумага\" + 0.028*\"вечером\" + 0.028*\"попасть\" + 0.027*\"потратить\" + 0.027*\"купить\" + 0.025*\"занять\"'),\n",
              " (49,\n",
              "  '0.431*\"деньга\" + 0.057*\"снять\" + 0.044*\"положить\" + 0.028*\"наверное\" + 0.028*\"перевести\" + 0.023*\"сделка\" + 0.019*\"крупный\" + 0.018*\"интересно\" + 0.018*\"списать\" + 0.016*\"заходить\"'),\n",
              " (27,\n",
              "  '0.139*\"звонить\" + 0.117*\"телефон\" + 0.085*\"ваш\" + 0.067*\"звонок\" + 0.049*\"номер\" + 0.030*\"отдел\" + 0.027*\"дозвониться\" + 0.027*\"общение\" + 0.021*\"мобильный\" + 0.020*\"отвечать\"'),\n",
              " (37,\n",
              "  '0.195*\"отделение\" + 0.124*\"сотрудник\" + 0.045*\"информация\" + 0.042*\"оформить\" + 0.035*\"приехать\" + 0.034*\"сообщить\" + 0.030*\"предложить\" + 0.025*\"оформление\" + 0.022*\"закрыть\" + 0.018*\"результат\"'),\n",
              " (2,\n",
              "  '0.091*\"мой\" + 0.053*\"заявление\" + 0.046*\"дать\" + 0.044*\"ответ\" + 0.037*\"получить\" + 0.034*\"который\" + 0.028*\"написать\" + 0.026*\"так\" + 0.024*\"быть\" + 0.023*\"ситуация\"'),\n",
              " (28,\n",
              "  '0.098*\"день\" + 0.069*\"сказать\" + 0.042*\"позвонить\" + 0.040*\"мочь\" + 0.034*\"неделя\" + 0.028*\"прийти\" + 0.024*\"должный\" + 0.020*\"решить\" + 0.020*\"следующий\" + 0.020*\"почему\"'),\n",
              " (8,\n",
              "  '0.079*\"клиент\" + 0.058*\"очень\" + 0.057*\"свой\" + 0.041*\"работа\" + 0.041*\"время\" + 0.037*\"проблема\" + 0.032*\"обслуживание\" + 0.031*\"вопрос\" + 0.023*\"сайт\" + 0.018*\"такой\"'),\n",
              " (45,\n",
              "  '0.276*\"банк\" + 0.050*\"год\" + 0.030*\"месяц\" + 0.026*\"который\" + 0.017*\"хороший\" + 0.017*\"делать\" + 0.017*\"самый\" + 0.016*\"несколько\" + 0.016*\"другой\" + 0.016*\"новый\"'),\n",
              " (6,\n",
              "  '0.029*\"работать\" + 0.025*\"говорить\" + 0.023*\"человек\" + 0.023*\"очередь\" + 0.021*\"просто\" + 0.021*\"минута\" + 0.021*\"один\" + 0.018*\"такой\" + 0.018*\"знать\" + 0.017*\"девушка\"')]"
            ]
          },
          "execution_count": 220,
          "metadata": {},
          "output_type": "execute_result"
        }
      ],
      "source": [
        "lda_model_50.print_topics()"
      ]
    },
    {
      "cell_type": "code",
      "execution_count": null,
      "metadata": {
        "id": "i9-uq73hA2EV",
        "outputId": "6d487934-ef38-46bf-aaa6-f7e7e485352a"
      },
      "outputs": [
        {
          "name": "stdout",
          "output_type": "stream",
          "text": [
            "\n",
            "Perplexity:  -17.526025113852146\n",
            "\n",
            "Coherence Score:  0.3625464555990758\n"
          ]
        }
      ],
      "source": [
        "# Compute Perplexity\n",
        "print('\\nPerplexity: ', lda_model_50.log_perplexity(corpus))  # a measure of how good the model is. lower the better.\n",
        "# Compute Coherence Score\n",
        "coherence_model_lda_50 = CoherenceModel(model=lda_model_50, texts=data_lemmatized, dictionary=id2word, coherence='c_v')\n",
        "coherence_lda_50 = coherence_model_lda_50.get_coherence()\n",
        "print('\\nCoherence Score: ', coherence_lda_50)"
      ]
    },
    {
      "cell_type": "code",
      "execution_count": null,
      "metadata": {
        "id": "9bDysk9NA2EV"
      },
      "outputs": [],
      "source": [
        "# 7 Тема интерпритируется как \"взыскание долгов\"\n",
        "# 25 Тема интерпритируется как \"компьютерная безопасность\"\n",
        "# 27 Тема интерпритируется как \"обратная связь\""
      ]
    },
    {
      "cell_type": "code",
      "execution_count": null,
      "metadata": {
        "id": "hvHmZuHGA2EV"
      },
      "outputs": [],
      "source": [
        "# Качество интерпритируемоости тем для 50 тем хуже, чем для 10, что соответсвует снижению снижению Coherence Score для 50 тем."
      ]
    },
    {
      "cell_type": "code",
      "execution_count": null,
      "metadata": {
        "id": "YUm4gdIaA2EW"
      },
      "outputs": [],
      "source": [
        "# Для 50 интерпритируемых тем, связанных с названием банка, не нашлось."
      ]
    },
    {
      "cell_type": "code",
      "execution_count": null,
      "metadata": {
        "id": "OgWs8JLCA2EW",
        "outputId": "e593a1e7-6581-44e0-aae3-f97ffb77d08e"
      },
      "outputs": [
        {
          "data": {
            "text/html": [
              "<div>\n",
              "<style scoped>\n",
              "    .dataframe tbody tr th:only-of-type {\n",
              "        vertical-align: middle;\n",
              "    }\n",
              "\n",
              "    .dataframe tbody tr th {\n",
              "        vertical-align: top;\n",
              "    }\n",
              "\n",
              "    .dataframe thead th {\n",
              "        text-align: right;\n",
              "    }\n",
              "</style>\n",
              "<table border=\"1\" class=\"dataframe\">\n",
              "  <thead>\n",
              "    <tr style=\"text-align: right;\">\n",
              "      <th></th>\n",
              "      <th>text_lemma</th>\n",
              "      <th>rating_grade</th>\n",
              "    </tr>\n",
              "  </thead>\n",
              "  <tbody>\n",
              "    <tr>\n",
              "      <th>98</th>\n",
              "      <td>досрочно закрывать вклад отпуск жена заказыват...</td>\n",
              "      <td>5.0</td>\n",
              "    </tr>\n",
              "    <tr>\n",
              "      <th>122</th>\n",
              "      <td>хотеть открыть вклад доходный год процент начи...</td>\n",
              "      <td>5.0</td>\n",
              "    </tr>\n",
              "    <tr>\n",
              "      <th>157</th>\n",
              "      <td>вчера июнь просидеть очередь -х час получение ...</td>\n",
              "      <td>5.0</td>\n",
              "    </tr>\n",
              "    <tr>\n",
              "      <th>259</th>\n",
              "      <td>сегодня открывать вклад банк очередь один клие...</td>\n",
              "      <td>5.0</td>\n",
              "    </tr>\n",
              "    <tr>\n",
              "      <th>266</th>\n",
              "      <td>история получение кредит ренессанс кредит банк...</td>\n",
              "      <td>5.0</td>\n",
              "    </tr>\n",
              "  </tbody>\n",
              "</table>\n",
              "</div>"
            ],
            "text/plain": [
              "                                            text_lemma  rating_grade\n",
              "98   досрочно закрывать вклад отпуск жена заказыват...           5.0\n",
              "122  хотеть открыть вклад доходный год процент начи...           5.0\n",
              "157  вчера июнь просидеть очередь -х час получение ...           5.0\n",
              "259  сегодня открывать вклад банк очередь один клие...           5.0\n",
              "266  история получение кредит ренессанс кредит банк...           5.0"
            ]
          },
          "execution_count": 223,
          "metadata": {},
          "output_type": "execute_result"
        }
      ],
      "source": [
        "df_train_test_5 = df_5[[\"text_lemma\", \"rating_grade\"]]\n",
        "df_train_test_5.head()"
      ]
    },
    {
      "cell_type": "code",
      "execution_count": null,
      "metadata": {
        "id": "o-ylyIjnA2EW",
        "outputId": "b959e2c1-6d70-4e23-9d42-cf2f65b8d273"
      },
      "outputs": [
        {
          "data": {
            "text/plain": [
              "14713"
            ]
          },
          "execution_count": 224,
          "metadata": {},
          "output_type": "execute_result"
        }
      ],
      "source": [
        "len(df_train_test_5)"
      ]
    },
    {
      "cell_type": "code",
      "execution_count": null,
      "metadata": {
        "id": "CJ_Fs6ptA2EW",
        "outputId": "24abb3a4-3364-4b6f-bbd3-76f6b7a8679a"
      },
      "outputs": [
        {
          "data": {
            "text/html": [
              "<div>\n",
              "<style scoped>\n",
              "    .dataframe tbody tr th:only-of-type {\n",
              "        vertical-align: middle;\n",
              "    }\n",
              "\n",
              "    .dataframe tbody tr th {\n",
              "        vertical-align: top;\n",
              "    }\n",
              "\n",
              "    .dataframe thead th {\n",
              "        text-align: right;\n",
              "    }\n",
              "</style>\n",
              "<table border=\"1\" class=\"dataframe\">\n",
              "  <thead>\n",
              "    <tr style=\"text-align: right;\">\n",
              "      <th></th>\n",
              "      <th>text_lemma</th>\n",
              "      <th>rating_grade</th>\n",
              "    </tr>\n",
              "  </thead>\n",
              "  <tbody>\n",
              "    <tr>\n",
              "      <th>76327</th>\n",
              "      <td>вносить деньга карта сбербанк терминал деньга ...</td>\n",
              "      <td>1.0</td>\n",
              "    </tr>\n",
              "    <tr>\n",
              "      <th>108314</th>\n",
              "      <td>почитать отзыв понимать претензия сущий пустяк...</td>\n",
              "      <td>1.0</td>\n",
              "    </tr>\n",
              "    <tr>\n",
              "      <th>148397</th>\n",
              "      <td>весь добрый день мой знакомство сити банк нача...</td>\n",
              "      <td>1.0</td>\n",
              "    </tr>\n",
              "    <tr>\n",
              "      <th>145577</th>\n",
              "      <td>ноябрь г воспользоваться услуга мытищинский ос...</td>\n",
              "      <td>1.0</td>\n",
              "    </tr>\n",
              "    <tr>\n",
              "      <th>142211</th>\n",
              "      <td>уважаемый клиент будущий клиент москоммерцбанк...</td>\n",
              "      <td>1.0</td>\n",
              "    </tr>\n",
              "  </tbody>\n",
              "</table>\n",
              "</div>"
            ],
            "text/plain": [
              "                                               text_lemma  rating_grade\n",
              "76327   вносить деньга карта сбербанк терминал деньга ...           1.0\n",
              "108314  почитать отзыв понимать претензия сущий пустяк...           1.0\n",
              "148397  весь добрый день мой знакомство сити банк нача...           1.0\n",
              "145577  ноябрь г воспользоваться услуга мытищинский ос...           1.0\n",
              "142211  уважаемый клиент будущий клиент москоммерцбанк...           1.0"
            ]
          },
          "execution_count": 226,
          "metadata": {},
          "output_type": "execute_result"
        }
      ],
      "source": [
        "df_train_test_1 = df_1[[\"text_lemma\", \"rating_grade\"]].sample(14713, random_state = 55)\n",
        "df_train_test_1.head()"
      ]
    },
    {
      "cell_type": "code",
      "execution_count": null,
      "metadata": {
        "id": "XLjT5lC2A2EX",
        "outputId": "f28605de-b7a8-4a93-d813-3d8e8d2819c0"
      },
      "outputs": [
        {
          "data": {
            "text/plain": [
              "14713"
            ]
          },
          "execution_count": 227,
          "metadata": {},
          "output_type": "execute_result"
        }
      ],
      "source": [
        "len(df_train_test_1)"
      ]
    },
    {
      "cell_type": "code",
      "execution_count": null,
      "metadata": {
        "id": "PTwLvYrNA2EX",
        "outputId": "861c1715-1db5-4446-a07b-17887e28e048"
      },
      "outputs": [
        {
          "data": {
            "text/html": [
              "<div>\n",
              "<style scoped>\n",
              "    .dataframe tbody tr th:only-of-type {\n",
              "        vertical-align: middle;\n",
              "    }\n",
              "\n",
              "    .dataframe tbody tr th {\n",
              "        vertical-align: top;\n",
              "    }\n",
              "\n",
              "    .dataframe thead th {\n",
              "        text-align: right;\n",
              "    }\n",
              "</style>\n",
              "<table border=\"1\" class=\"dataframe\">\n",
              "  <thead>\n",
              "    <tr style=\"text-align: right;\">\n",
              "      <th></th>\n",
              "      <th>text_lemma</th>\n",
              "      <th>rating_grade</th>\n",
              "    </tr>\n",
              "  </thead>\n",
              "  <tbody>\n",
              "    <tr>\n",
              "      <th>29421</th>\n",
              "      <td>добрый день просить разобраться ситуация креди...</td>\n",
              "      <td>1.0</td>\n",
              "    </tr>\n",
              "    <tr>\n",
              "      <th>29422</th>\n",
              "      <td>очень нравиться работа филиал ханты-мансийский...</td>\n",
              "      <td>5.0</td>\n",
              "    </tr>\n",
              "    <tr>\n",
              "      <th>29423</th>\n",
              "      <td>открывать депозит суббота декабрь таганка рабо...</td>\n",
              "      <td>5.0</td>\n",
              "    </tr>\n",
              "    <tr>\n",
              "      <th>29424</th>\n",
              "      <td>ожидать быть писать отзыв нордеа банк раздел н...</td>\n",
              "      <td>5.0</td>\n",
              "    </tr>\n",
              "    <tr>\n",
              "      <th>29425</th>\n",
              "      <td>обслуживаться офис сокольники недавно переофор...</td>\n",
              "      <td>5.0</td>\n",
              "    </tr>\n",
              "  </tbody>\n",
              "</table>\n",
              "</div>"
            ],
            "text/plain": [
              "                                              text_lemma  rating_grade\n",
              "29421  добрый день просить разобраться ситуация креди...           1.0\n",
              "29422  очень нравиться работа филиал ханты-мансийский...           5.0\n",
              "29423  открывать депозит суббота декабрь таганка рабо...           5.0\n",
              "29424  ожидать быть писать отзыв нордеа банк раздел н...           5.0\n",
              "29425  обслуживаться офис сокольники недавно переофор...           5.0"
            ]
          },
          "execution_count": 232,
          "metadata": {},
          "output_type": "execute_result"
        }
      ],
      "source": [
        "df_train_test_join = pd.concat([df_train_test_5, df_train_test_1]).sample(frac = 1).reset_index(drop = True)\n",
        "df_train_test_join.tail()"
      ]
    },
    {
      "cell_type": "code",
      "execution_count": null,
      "metadata": {
        "id": "3DeyyKsqA2EX",
        "outputId": "93af402c-8f7c-409d-e796-2b715febb9d2"
      },
      "outputs": [
        {
          "data": {
            "text/plain": [
              "29426"
            ]
          },
          "execution_count": 230,
          "metadata": {},
          "output_type": "execute_result"
        }
      ],
      "source": [
        "len(df_train_test_join)"
      ]
    },
    {
      "cell_type": "code",
      "execution_count": null,
      "metadata": {
        "id": "yn4yNZggA2EX",
        "outputId": "fe82f9cf-042a-4559-e47e-f2c0276b8c9e"
      },
      "outputs": [
        {
          "data": {
            "text/html": [
              "<div>\n",
              "<style scoped>\n",
              "    .dataframe tbody tr th:only-of-type {\n",
              "        vertical-align: middle;\n",
              "    }\n",
              "\n",
              "    .dataframe tbody tr th {\n",
              "        vertical-align: top;\n",
              "    }\n",
              "\n",
              "    .dataframe thead th {\n",
              "        text-align: right;\n",
              "    }\n",
              "</style>\n",
              "<table border=\"1\" class=\"dataframe\">\n",
              "  <thead>\n",
              "    <tr style=\"text-align: right;\">\n",
              "      <th></th>\n",
              "      <th>text_lemma</th>\n",
              "      <th>rating_grade</th>\n",
              "    </tr>\n",
              "  </thead>\n",
              "  <tbody>\n",
              "    <tr>\n",
              "      <th>0</th>\n",
              "      <td>открывать мастер фото псб-онлайн подача заявле...</td>\n",
              "      <td>1</td>\n",
              "    </tr>\n",
              "    <tr>\n",
              "      <th>1</th>\n",
              "      <td>сегодня март прийти офис итб банк улица щепкин...</td>\n",
              "      <td>0</td>\n",
              "    </tr>\n",
              "    <tr>\n",
              "      <th>2</th>\n",
              "      <td>продолжение мой отзыв бочаров поменять дело по...</td>\n",
              "      <td>1</td>\n",
              "    </tr>\n",
              "    <tr>\n",
              "      <th>3</th>\n",
              "      <td>открывать смартвклад это позвонить кол-центр у...</td>\n",
              "      <td>1</td>\n",
              "    </tr>\n",
              "    <tr>\n",
              "      <th>4</th>\n",
              "      <td>досрочно погасить свой кредит русславбанк мой ...</td>\n",
              "      <td>1</td>\n",
              "    </tr>\n",
              "  </tbody>\n",
              "</table>\n",
              "</div>"
            ],
            "text/plain": [
              "                                          text_lemma  rating_grade\n",
              "0  открывать мастер фото псб-онлайн подача заявле...             1\n",
              "1  сегодня март прийти офис итб банк улица щепкин...             0\n",
              "2  продолжение мой отзыв бочаров поменять дело по...             1\n",
              "3  открывать смартвклад это позвонить кол-центр у...             1\n",
              "4  досрочно погасить свой кредит русславбанк мой ...             1"
            ]
          },
          "execution_count": 233,
          "metadata": {},
          "output_type": "execute_result"
        }
      ],
      "source": [
        "df_train_test_join[\"rating_grade\"] = df_train_test_join[\"rating_grade\"].apply(lambda x : 0 if x == 1 else 1)\n",
        "df_train_test_join.head()"
      ]
    },
    {
      "cell_type": "code",
      "execution_count": null,
      "metadata": {
        "id": "G81htqcaA2EY"
      },
      "outputs": [],
      "source": [
        "X = df_train_test_join.drop(\"rating_grade\", axis = 1)\n",
        "y = df_train_test_join[\"rating_grade\"]"
      ]
    },
    {
      "cell_type": "code",
      "execution_count": null,
      "metadata": {
        "id": "6Ij8ItyGA2EY"
      },
      "outputs": [],
      "source": [
        "X_train, X_test, y_train, y_test = train_test_split(X, y, random_state = 5436, test_size = 0.2)"
      ]
    },
    {
      "cell_type": "code",
      "execution_count": null,
      "metadata": {
        "id": "-KMLSIz3A2EY"
      },
      "outputs": [],
      "source": [
        "count_vect_uni = CountVectorizer(ngram_range = (1, 1))"
      ]
    },
    {
      "cell_type": "code",
      "execution_count": null,
      "metadata": {
        "id": "ca4GK836A2EY",
        "outputId": "51a3623f-0211-40f8-fe54-6d01a4d45329"
      },
      "outputs": [
        {
          "data": {
            "text/plain": [
              "array(['добрый день ип отправлять платёж стоить статус исполнить деньга дойти карточка деньга который вообще обслуживаться очень важный фактор успешный банк являться доверие этот банк сказать банк дойти такой состояние сделать специально предвиденно банк планирование видеться знать делать',\n",
              "       'оплачивать покупка интернет магазин доллар доллар руб продажа безналичный операция провести -го курс курс -го очень удобно сделать http svyaznoybank ru home bank currencyrates aspx позвонить описать ситуация попросить объяснить откуда браться курс несколько консультация девушка смочь ответить курс считаться почему совпадать курс сайт звонок мы мочь узнать курс доллар вопрос указать безналичный продажа оператор ответить быть снимать карта наш банкомат являться бред называться официально данный секретный курс доллар ответить смочь момент сказать секретный курс который рассчитать покупка интернет магазин интерес позвонить минута курс цб опуститься копа спросить секретный курс сказать руб хотя сайт просить связный описать всё таки считаться курс доллар безналичный покупка пример ответ консультант почему совпадать курс сайт почему расчёт осуществляться день покупка ваш банковский курс резервирование доп средство решить закрыть карта личный кабинет раздел заявление выбрать получение остаток наличные всё равно просить ввести реквизит безналичный ввести свой реквизит вроде заявление уйти',\n",
              "       'однажды открыть накопительный пенсионный страхование компания альфа-жизнь однако определённый момент офис компания наш город закрыться столкнуться вопрос проводить ежегодный платёж договор первый платёж провести сбербанк долго муторный комиссия решить вариант где-то полгода год близкий супермаркет закупаться продукт девушка проводить презентация предлагать ко-бренд дебетовый кредитный альфа-банк продуктовый ретейлер карусель заинтересоваться день оформить анкета называться отходить касса указанный время поступить смс отправиться офис получение карта карта получить подключить альфа-клик придумывать пароль прийтись сразу отделение банк отправиться домой стать пользоваться копить бонус отоваривать магазин альфа-клик освоить быстро удобно один слово провести первый платёж платёжный поручение отдельный сервис перевод клиент банк оплачивать также интернет провайдер правда небольшой комиссия никак мочь понять процент перевод звонок call-center забывать спросить год получить предложение оформить кредитный карта приятно закончиться ко-бренд программа карусель раздумье открыть ко-бренд прямо альфа-клик заполнить заявка очень удобно м видео бонус сразу предупредить карта мвидео счёт объединяться случай списание накопить бонусный рубль нужно использовать банковский карта именно становиться главный кредитный карта также открыть получать оба карта одновременно кредитный карта нужно звонить активировать лимит подгрузиться неделя пара расплачиваться кредитка стараться уходить минус сто день хотя езать мина платёж сумма взять лимит однако мера нужно знать свой желание недавно предложить кредит прямо альфа-клик появиться строка ваш кредит вскоре позвонить девушка частное сотовый номер странно предложить оформить кредит вежливый отказаться спасибо предложение какой казус случаться год дважды банкомат принимать тот сумма который вносить мой мнение первый прийтись визуально вспоминать номинал купюра кошелёк выяснить банкомат право второй оставить претензия банкомат зажать р неделя претензия отклонить долго думать решить ошибиться тот пора вносить один купюра крупный сумма перекидывать безнал счёт модель банкомат альф принимать родный карта спасибо пять минута введение пин-кода писать превысить время ожидание операция карта отдавать сайт сложно понять что относиться тариф карта сложно разобраться тариф услуга лайф сей пора понимать плач руб месяц счёт нужный смириться остальной всё нравиться',\n",
              "       ...,\n",
              "       'ребята думать прийтись написать банк хоум кредит такой тон это банк жизнь год кредитка банк третий выпуск дебетный карта проблема банальный рядовой эпизод делать перевод февраль закрыть кредитный лимит понятный дело процент платить счёт руб платёж идти долго март ладный терпеть другой банк перевод подобный род занимать несколько минута где-то руб хватать закрыть кредитный лимит март дозакидывать руб запас покрыть нехватка видеть свой отправление интернет-банка деньга идти долго сегодня март послать десятый сутки перевод деньга процент руб продолжать начисляться превысить вкупе нехватка руб скорее пройти платёж снова остаться должный мы говорить техподдержка говорить волноваться клясться сегодня оно стать просто великолепно каждый звонок похожий предыдущий верить деваться процент идти новый год закинуть деньга -х число декабрь прислать середина январь апрель май так далее жаль ребята скатиться такой очень жаль вывод банк очень выгодно клиент иметь небольшой задоженность клиент доить добезконец делать многие почему хоумкредит поступать p s начать отрабатывать договор выполнять свой обязвательство клиент каждый звонок техподдержка начинаться вопрос сколько идти перевод следовать ответ три пять день какой платёж ходить неделя кстати малый мера касаться дебетной карта оказаться чужой город деньга ждать родственник перевод голод помирать приказать',\n",
              "       'вдогонку мой отзыв хам телефон мочь сказать посетить отделение г тверь очень порадоваться банк безнадёжно план сотрудник я заниматься т-ров надежда чётко быстро профессионально неполный час успеть написать заявление розыск средство отмена штрафной санкция предоставление копия договор получить выписка кредит момент заключение договор настоящий момент смело отправлять ваш сотрудник профподготовка общаться клиент банк',\n",
              "       'около отделение адрес санкт-петербург ленинский пр прийти оформление дебетовый банковский карта процесс оформление заявка компьютер работник банк подключить услуга автоплатёж несмотря прямой отказ предупреждение начало оформление дать услуга нужный автоплатёж ввести номер телефон оператор связь который поддерживаться услуга так список оператор связь автоплатёж отсутствовать нужный оператор специалист случайный образ выбрать наименование оператор который быть перечисляться средство заявка выпуск карта сотрудник банк распечатать два экземпляр два лист каждый первый лист заявка сотрудник отложить сторона предложить поставить подпись лишь второй лист предлагать ознакомиться указать первый второй лист указать просить подключить автоплатёж прописать сумма порог пополнение потребовать оформить заявка выпуск карта подключение услуга автоплатёж получить отказ сотрудник который мотивировать отсутствие возможность оформление карта навязывание дать услуга стать ставить подпись заявка попросить отменить так указать информация соответствовать действительность сотрудник подтвердить заявка отменить уйти данный отделение получить смс-сообщение сбербанк мой заявление выпуск карта получить сбербанк-онлайн появиться карта который заказывать карта активировать завести основание мой согласие следующий день счёт карта уйти минус снять рубль стоимость годовой обслуживание такой образ мой имя мой поручение сбербанк открыть счёт выпустить карта статус готовый выдача снять мой счёт деньга услуга который запрашивать ok sberbank ru обращение написать чувствовать прийтись побегать исправить ошибка сбербанк ошибаться сбер бегать клиент'],\n",
              "      dtype=object)"
            ]
          },
          "execution_count": 251,
          "metadata": {},
          "output_type": "execute_result"
        }
      ],
      "source": [
        "X_train.values.flatten()"
      ]
    },
    {
      "cell_type": "code",
      "execution_count": null,
      "metadata": {
        "id": "KTovPkVsA2EZ",
        "outputId": "194e1973-89ea-4a9d-d013-8e082a032675"
      },
      "outputs": [
        {
          "data": {
            "text/plain": [
              "CountVectorizer()"
            ]
          },
          "execution_count": 252,
          "metadata": {},
          "output_type": "execute_result"
        }
      ],
      "source": [
        "count_vect_uni.fit(X_train.values.flatten())"
      ]
    },
    {
      "cell_type": "code",
      "execution_count": null,
      "metadata": {
        "id": "qoqIBGK_A2EZ",
        "outputId": "81f45e50-abd1-4287-9d60-cca212089b3b"
      },
      "outputs": [
        {
          "data": {
            "text/plain": [
              "{'добрый': 14061,\n",
              " 'день': 13514,\n",
              " 'ип': 18282,\n",
              " 'отправлять': 30133,\n",
              " 'платёж': 32268,\n",
              " 'стоить': 43102,\n",
              " 'статус': 42977,\n",
              " 'исполнить': 18418,\n",
              " 'деньга': 13516,\n",
              " 'дойти': 14202,\n",
              " 'карточка': 19032,\n",
              " 'который': 20635,\n",
              " 'вообще': 10512,\n",
              " 'обслуживаться': 28257,\n",
              " 'очень': 30581,\n",
              " 'важный': 9168,\n",
              " 'фактор': 46748,\n",
              " 'успешный': 46395,\n",
              " 'банк': 7384,\n",
              " 'являться': 49964,\n",
              " 'доверие': 14077,\n",
              " 'этот': 49734,\n",
              " 'сказать': 41120,\n",
              " 'такой': 43939,\n",
              " 'состояние': 42334,\n",
              " 'сделать': 40519,\n",
              " 'специально': 42517,\n",
              " 'предвиденно': 35024,\n",
              " 'планирование': 32205,\n",
              " 'видеться': 9839,\n",
              " 'знать': 17325,\n",
              " 'делать': 13417,\n",
              " 'оплачивать': 29152,\n",
              " 'покупка': 33474,\n",
              " 'интернет': 18163,\n",
              " 'магазин': 22333,\n",
              " 'доллар': 14316,\n",
              " 'руб': 39498,\n",
              " 'продажа': 36346,\n",
              " 'безналичный': 7774,\n",
              " 'операция': 29086,\n",
              " 'провести': 36238,\n",
              " 'го': 12355,\n",
              " 'курс': 21347,\n",
              " 'удобно': 45712,\n",
              " 'http': 1986,\n",
              " 'svyaznoybank': 4749,\n",
              " 'ru': 4177,\n",
              " 'home': 1958,\n",
              " 'bank': 480,\n",
              " 'currencyrates': 1025,\n",
              " 'aspx': 388,\n",
              " 'позвонить': 33301,\n",
              " 'описать': 29129,\n",
              " 'ситуация': 41092,\n",
              " 'попросить': 34117,\n",
              " 'объяснить': 28395,\n",
              " 'откуда': 29948,\n",
              " 'браться': 8731,\n",
              " 'несколько': 26869,\n",
              " 'консультация': 20220,\n",
              " 'девушка': 13315,\n",
              " 'смочь': 41724,\n",
              " 'ответить': 29714,\n",
              " 'считаться': 43755,\n",
              " 'почему': 34749,\n",
              " 'совпадать': 41977,\n",
              " 'сайт': 39864,\n",
              " 'звонок': 17122,\n",
              " 'мы': 24295,\n",
              " 'мочь': 24088,\n",
              " 'узнать': 45815,\n",
              " 'вопрос': 10543,\n",
              " 'указать': 45840,\n",
              " 'оператор': 29048,\n",
              " 'быть': 9108,\n",
              " 'снимать': 41801,\n",
              " 'карта': 19010,\n",
              " 'наш': 25422,\n",
              " 'банкомат': 7430,\n",
              " 'бред': 8736,\n",
              " 'называться': 24701,\n",
              " 'официально': 30470,\n",
              " 'данный': 13108,\n",
              " 'секретный': 40619,\n",
              " 'момент': 23887,\n",
              " 'рассчитать': 38499,\n",
              " 'интерес': 18137,\n",
              " 'минута': 23523,\n",
              " 'цб': 47903,\n",
              " 'опуститься': 29293,\n",
              " 'копа': 20347,\n",
              " 'спросить': 42691,\n",
              " 'хотя': 47736,\n",
              " 'просить': 36814,\n",
              " 'связный': 40446,\n",
              " 'всё': 11022,\n",
              " 'таки': 43932,\n",
              " 'пример': 35769,\n",
              " 'ответ': 29710,\n",
              " 'консультант': 20212,\n",
              " 'расчёт': 38622,\n",
              " 'осуществляться': 29641,\n",
              " 'ваш': 9326,\n",
              " 'банковский': 7420,\n",
              " 'резервирование': 38855,\n",
              " 'доп': 14414,\n",
              " 'средство': 42777,\n",
              " 'решить': 39106,\n",
              " 'закрыть': 16219,\n",
              " 'личный': 21958,\n",
              " 'кабинет': 18633,\n",
              " 'раздел': 37816,\n",
              " 'заявление': 17071,\n",
              " 'выбрать': 11168,\n",
              " 'получение': 33749,\n",
              " 'остаток': 29597,\n",
              " 'наличные': 24854,\n",
              " 'равно': 37568,\n",
              " 'ввести': 9359,\n",
              " 'реквизит': 38904,\n",
              " 'свой': 40409,\n",
              " 'вроде': 10856,\n",
              " 'уйти': 45828,\n",
              " 'однажды': 28611,\n",
              " 'открыть': 29941,\n",
              " 'накопительный': 24799,\n",
              " 'пенсионный': 31054,\n",
              " 'страхование': 43239,\n",
              " 'компания': 20000,\n",
              " 'альфа': 6452,\n",
              " 'жизнь': 15466,\n",
              " 'однако': 28612,\n",
              " 'определённый': 29222,\n",
              " 'офис': 30458,\n",
              " 'город': 12541,\n",
              " 'закрыться': 16220,\n",
              " 'столкнуться': 43134,\n",
              " 'проводить': 36255,\n",
              " 'ежегодный': 15078,\n",
              " 'договор': 14130,\n",
              " 'первый': 31102,\n",
              " 'сбербанк': 40132,\n",
              " 'долго': 14275,\n",
              " 'муторный': 24261,\n",
              " 'комиссия': 19940,\n",
              " 'вариант': 9266,\n",
              " 'где': 12052,\n",
              " 'то': 44577,\n",
              " 'полгода': 33500,\n",
              " 'год': 12381,\n",
              " 'близкий': 8372,\n",
              " 'супермаркет': 43564,\n",
              " 'закупаться': 16224,\n",
              " 'продукт': 36408,\n",
              " 'презентация': 35225,\n",
              " 'предлагать': 35047,\n",
              " 'ко': 19645,\n",
              " 'бренд': 8753,\n",
              " 'дебетовый': 13269,\n",
              " 'кредитный': 20845,\n",
              " 'продуктовый': 36416,\n",
              " 'ретейлер': 39048,\n",
              " 'карусель': 19048,\n",
              " 'заинтересоваться': 16084,\n",
              " 'оформить': 30488,\n",
              " 'анкета': 6644,\n",
              " 'отходить': 30372,\n",
              " 'касса': 19071,\n",
              " 'указанный': 45834,\n",
              " 'время': 10846,\n",
              " 'поступить': 34489,\n",
              " 'смс': 41729,\n",
              " 'отправиться': 30129,\n",
              " 'получить': 33751,\n",
              " 'подключить': 32825,\n",
              " 'клик': 19527,\n",
              " 'придумывать': 35606,\n",
              " 'пароль': 30862,\n",
              " 'прийтись': 35661,\n",
              " 'сразу': 42741,\n",
              " 'отделение': 29805,\n",
              " 'домой': 14357,\n",
              " 'стать': 42982,\n",
              " 'пользоваться': 33775,\n",
              " 'копить': 20374,\n",
              " 'бонус': 8611,\n",
              " 'отоваривать': 30067,\n",
              " 'освоить': 29452,\n",
              " 'быстро': 9082,\n",
              " 'один': 28592,\n",
              " 'слово': 41538,\n",
              " 'платёжный': 32273,\n",
              " 'поручение': 34247,\n",
              " 'отдельный': 29820,\n",
              " 'сервис': 40745,\n",
              " 'перевод': 31168,\n",
              " 'клиент': 19486,\n",
              " 'также': 43931,\n",
              " 'провайдер': 36211,\n",
              " 'правда': 34864,\n",
              " 'небольшой': 25517,\n",
              " 'никак': 27284,\n",
              " 'понять': 33990,\n",
              " 'процент': 37082,\n",
              " 'call': 734,\n",
              " 'center': 796,\n",
              " 'забывать': 15685,\n",
              " 'предложение': 35053,\n",
              " 'приятно': 36134,\n",
              " 'закончиться': 16184,\n",
              " 'программа': 36312,\n",
              " 'раздумье': 37856,\n",
              " 'прямо': 37191,\n",
              " 'заполнить': 16572,\n",
              " 'заявка': 17069,\n",
              " 'видео': 9826,\n",
              " 'предупредить': 35176,\n",
              " 'мвидео': 22935,\n",
              " 'счёт': 43762,\n",
              " 'объединяться': 28373,\n",
              " 'случай': 41586,\n",
              " 'списание': 42570,\n",
              " 'накопить': 24801,\n",
              " 'бонусный': 8615,\n",
              " 'рубль': 39512,\n",
              " 'нужно': 27682,\n",
              " 'использовать': 18424,\n",
              " 'именно': 17853,\n",
              " 'становиться': 42901,\n",
              " 'главный': 12231,\n",
              " 'получать': 33747,\n",
              " 'оба': 27759,\n",
              " 'одновременно': 28617,\n",
              " 'звонить': 17117,\n",
              " 'активировать': 6251,\n",
              " 'лимит': 21847,\n",
              " 'подгрузиться': 32747,\n",
              " 'неделя': 25753,\n",
              " 'пара': 30801,\n",
              " 'расплачиваться': 38334,\n",
              " 'кредитка': 20837,\n",
              " 'стараться': 42913,\n",
              " 'уходить': 46623,\n",
              " 'минус': 23515,\n",
              " 'сто': 43090,\n",
              " 'езать': 15102,\n",
              " 'мина': 23463,\n",
              " 'сумма': 43528,\n",
              " 'взять': 9809,\n",
              " 'мера': 23176,\n",
              " 'желание': 15366,\n",
              " 'недавно': 25726,\n",
              " 'предложить': 35054,\n",
              " 'кредит': 20826,\n",
              " 'появиться': 34840,\n",
              " 'строка': 43330,\n",
              " 'вскоре': 10932,\n",
              " 'частное': 48171,\n",
              " 'сотовый': 42367,\n",
              " 'номер': 27538,\n",
              " 'странно': 43218,\n",
              " 'вежливый': 9456,\n",
              " 'отказаться': 29874,\n",
              " 'спасибо': 42476,\n",
              " 'какой': 18732,\n",
              " 'казус': 18701,\n",
              " 'случаться': 41591,\n",
              " 'дважды': 13162,\n",
              " 'принимать': 35812,\n",
              " 'тот': 44768,\n",
              " 'вносить': 10221,\n",
              " 'мой': 23823,\n",
              " 'мнение': 23659,\n",
              " 'визуально': 9881,\n",
              " 'вспоминать': 10959,\n",
              " 'номинал': 27545,\n",
              " 'купюра': 21296,\n",
              " 'кошелёк': 20676,\n",
              " 'выяснить': 11816,\n",
              " 'право': 34886,\n",
              " 'второй': 11060,\n",
              " 'оставить': 29573,\n",
              " 'претензия': 35390,\n",
              " 'зажать': 16020,\n",
              " 'отклонить': 29903,\n",
              " 'думать': 14815,\n",
              " 'ошибиться': 30633,\n",
              " 'пора': 34151,\n",
              " 'крупный': 21069,\n",
              " 'перекидывать': 31377,\n",
              " 'безнал': 7771,\n",
              " 'модель': 23774,\n",
              " 'альф': 6451,\n",
              " 'родный': 39259,\n",
              " 'пять': 37520,\n",
              " 'введение': 9350,\n",
              " 'пин': 32082,\n",
              " 'кода': 19709,\n",
              " 'писать': 32126,\n",
              " 'превысить': 34991,\n",
              " 'ожидание': 28714,\n",
              " 'отдавать': 29791,\n",
              " 'сложно': 41550,\n",
              " 'что': 48536,\n",
              " 'относиться': 30053,\n",
              " 'тариф': 44042,\n",
              " 'разобраться': 37986,\n",
              " 'услуга': 46355,\n",
              " 'лайф': 21535,\n",
              " 'сей': 40600,\n",
              " 'понимать': 33958,\n",
              " 'плач': 32276,\n",
              " 'месяц': 23232,\n",
              " 'нужный': 27685,\n",
              " 'смириться': 41693,\n",
              " 'остальной': 29580,\n",
              " 'нравиться': 27652,\n",
              " 'уважаемый': 45493,\n",
              " 'сотрудник': 42374,\n",
              " 'перестать': 31732,\n",
              " 'нагло': 24511,\n",
              " 'врать': 10825,\n",
              " 'около': 28821,\n",
              " 'час': 48155,\n",
              " 'банка': 7385,\n",
              " 'из': 17556,\n",
              " 'за': 15587,\n",
              " 'присылать': 36005,\n",
              " 'разовый': 37989,\n",
              " 'клиентский': 19518,\n",
              " 'центр': 47978,\n",
              " 'уточнять': 46543,\n",
              " 'масса': 22769,\n",
              " 'информация': 18253,\n",
              " 'отключаться': 29908,\n",
              " 'разговор': 37774,\n",
              " 'просьба': 36941,\n",
              " 'подождать': 32931,\n",
              " 'утверждать': 46493,\n",
              " 'итог': 18553,\n",
              " 'работать': 37541,\n",
              " 'проблема': 36180,\n",
              " 'телефон': 44188,\n",
              " 'проверить': 36226,\n",
              " 'абсолютно': 5718,\n",
              " 'приходить': 36064,\n",
              " 'обычный': 28420,\n",
              " 'короткий': 20471,\n",
              " 'уточнить': 46540,\n",
              " 'либо': 21804,\n",
              " 'ограничение': 28546,\n",
              " 'никакой': 27285,\n",
              " 'упорно': 46169,\n",
              " 'хотеть': 47727,\n",
              " 'решать': 39092,\n",
              " 'сторона': 43179,\n",
              " 'обед': 27821,\n",
              " 'авторизация': 5945,\n",
              " 'прийти': 35659,\n",
              " 'уведомление': 45508,\n",
              " 'огромный': 28563,\n",
              " 'заинтересованный': 16082,\n",
              " 'человек': 48233,\n",
              " 'мособлбанк': 24035,\n",
              " 'достаточно': 14575,\n",
              " 'перезвонить': 31351,\n",
              " 'управлять': 46190,\n",
              " 'рассказать': 38425,\n",
              " 'черта': 48343,\n",
              " 'побрать': 32423,\n",
              " 'ездить': 15104,\n",
              " 'центральный': 47985,\n",
              " 'выписка': 11462,\n",
              " 'ура': 46230,\n",
              " 'удобство': 45717,\n",
              " 'как': 18718,\n",
              " 'эл': 49457,\n",
              " 'почта': 34773,\n",
              " 'быстрый': 9100,\n",
              " 'рост': 39428,\n",
              " 'верить': 9532,\n",
              " 'хороший': 47714,\n",
              " 'отношение': 30054,\n",
              " 'критика': 20960,\n",
              " 'подобный': 32922,\n",
              " 'решаться': 39093,\n",
              " 'благодарность': 8285,\n",
              " 'допофис': 14463,\n",
              " 'козлов': 19735,\n",
              " 'дмитрий': 13973,\n",
              " 'михаилович': 23590,\n",
              " 'негативный': 25678,\n",
              " 'отзыв': 29862,\n",
              " 'работа': 37538,\n",
              " 'лидер': 21817,\n",
              " 'народный': 25102,\n",
              " 'рейтинг': 38900,\n",
              " 'авангард': 5739,\n",
              " 'часть': 48179,\n",
              " 'вспомнить': 10961,\n",
              " 'противоположный': 36977,\n",
              " 'любим': 22215,\n",
              " 'назад': 24668,\n",
              " 'тверской': 44101,\n",
              " 'точный': 44783,\n",
              " 'адрес': 6076,\n",
              " 'помнить': 33858,\n",
              " 'недалеко': 25727,\n",
              " 'площадь': 32339,\n",
              " 'белорусский': 7929,\n",
              " 'вокзал': 10428,\n",
              " 'больший': 8580,\n",
              " 'очередь': 30590,\n",
              " 'торопиться': 44749,\n",
              " 'нервничать': 26781,\n",
              " 'ждать': 15346,\n",
              " 'терять': 44337,\n",
              " 'даром': 13129,\n",
              " 'написать': 24963,\n",
              " 'жалоба': 15299,\n",
              " 'дать': 13140,\n",
              " 'книга': 19625,\n",
              " 'запись': 16538,\n",
              " 'плохо': 32330,\n",
              " 'организовать': 29338,\n",
              " 'следующий': 41482,\n",
              " 'мобильный': 23753,\n",
              " 'представиться': 35157,\n",
              " 'руководитель': 39552,\n",
              " 'валерий': 9199,\n",
              " 'поблагодарить': 32404,\n",
              " 'сокращение': 42111,\n",
              " 'поинтересоваться': 33359,\n",
              " 'успеть': 46390,\n",
              " 'помощь': 33886,\n",
              " 'обращаться': 28199,\n",
              " 'напрямую': 25040,\n",
              " 'недостаток': 25852,\n",
              " 'качество': 19155,\n",
              " 'бывать': 9060,\n",
              " 'исправлять': 18438,\n",
              " 'по': 32371,\n",
              " 'разному': 37959,\n",
              " 'образец': 28165,\n",
              " 'подражание': 33009,\n",
              " 'залог': 16259,\n",
              " 'постоянно': 34470,\n",
              " 'улучшиться': 45949,\n",
              " 'большой': 8584,\n",
              " 'моему': 23799,\n",
              " 'российский': 39417,\n",
              " 'сам': 39902,\n",
              " 'высокий': 11613,\n",
              " 'международный': 23063,\n",
              " 'уровень': 46268,\n",
              " 'здравствуйте': 17162,\n",
              " 'предостеречь': 35092,\n",
              " 'потенциальный': 34545,\n",
              " 'русский': 39611,\n",
              " 'ипотечный': 18296,\n",
              " 'халатный': 47386,\n",
              " 'целое': 47950,\n",
              " 'попытаться': 34147,\n",
              " 'вкратце': 10054,\n",
              " 'обрисовать': 28221,\n",
              " 'май': 22393,\n",
              " 'ранний': 38206,\n",
              " 'выехать': 11295,\n",
              " 'дополнительный': 14453,\n",
              " 'находиться': 25362,\n",
              " 'ст': 42832,\n",
              " 'таганский': 43890,\n",
              " 'ул': 45906,\n",
              " 'дровяной': 14719,\n",
              " 'пер': 31063,\n",
              " 'дом': 14335,\n",
              " 'подойти': 32943,\n",
              " 'дверь': 13171,\n",
              " 'охранник': 30539,\n",
              " 'демонстративно': 13477,\n",
              " 'захлопнуть': 16981,\n",
              " 'нос': 27594,\n",
              " 'безрезультатно': 7832,\n",
              " 'нехотя': 27165,\n",
              " 'входной': 11107,\n",
              " 'популярно': 34133,\n",
              " 'обслуживать': 28256,\n",
              " 'обслужить': 28261,\n",
              " 'единственный': 15064,\n",
              " 'кроме': 20995,\n",
              " 'так': 43929,\n",
              " 'ехать': 15267,\n",
              " 'издалёка': 17641,\n",
              " 'самый': 40006,\n",
              " 'интересный': 18141,\n",
              " 'спокойно': 42614,\n",
              " 'успевать': 46388,\n",
              " 'график': 12712,\n",
              " 'обслуживание': 28254,\n",
              " 'выслушать': 11603,\n",
              " 'снова': 41814,\n",
              " 'запереть': 16516,\n",
              " 'пойти': 33370,\n",
              " 'выйти': 11331,\n",
              " 'стоять': 43195,\n",
              " 'улица': 45927,\n",
              " 'результат': 38883,\n",
              " 'протянуть': 37007,\n",
              " 'листок': 21899,\n",
              " 'показать': 33378,\n",
              " 'объяснять': 28399,\n",
              " 'часы': 48180,\n",
              " 'учитывать': 46669,\n",
              " 'вполне': 10772,\n",
              " 'работник': 37546,\n",
              " 'охрана': 30536,\n",
              " 'иметь': 17858,\n",
              " 'полный': 33605,\n",
              " 'зайти': 16094,\n",
              " 'здание': 17143,\n",
              " 'должный': 14309,\n",
              " 'терпение': 44315,\n",
              " 'лопнуть': 22075,\n",
              " 'отказываться': 29879,\n",
              " 'принять': 35839,\n",
              " 'обещать': 27868,\n",
              " 'гора': 12492,\n",
              " 'прежний': 35220,\n",
              " 'сценарий': 43725,\n",
              " 'раз': 37641,\n",
              " 'никто': 27321,\n",
              " 'говорить': 12365,\n",
              " 'потерять': 34555,\n",
              " 'нерв': 26777,\n",
              " 'головной': 12424,\n",
              " 'дежурный': 13367,\n",
              " 'любезно': 22209,\n",
              " 'хотеться': 47728,\n",
              " 'отметить': 30021,\n",
              " 'подход': 33169,\n",
              " 'зарекомендовать': 16691,\n",
              " 'надёжный': 24634,\n",
              " 'растерять': 38528,\n",
              " 'немногий': 26225,\n",
              " 'обзавестись': 27875,\n",
              " 'дальнейший': 13078,\n",
              " 'внимательно': 10210,\n",
              " 'вести': 9610,\n",
              " 'отбор': 29668,\n",
              " 'изредка': 17748,\n",
              " 'инструктаж': 18088,\n",
              " 'умение': 45988,\n",
              " 'общаться': 28340,\n",
              " 'часто': 48174,\n",
              " 'панфиловец': 30781,\n",
              " 'сколько': 41269,\n",
              " 'туда': 45188,\n",
              " 'оставаться': 29572,\n",
              " 'довольный': 14111,\n",
              " 'непонятный': 26542,\n",
              " 'электронный': 49502,\n",
              " 'табло': 43876,\n",
              " 'гореть': 12524,\n",
              " 'походить': 34726,\n",
              " 'окно': 28819,\n",
              " 'перед': 31251,\n",
              " 'приходиться': 36065,\n",
              " 'смысл': 41751,\n",
              " 'закрытие': 16216,\n",
              " 'половина': 33608,\n",
              " 'третий': 44979,\n",
              " 'талон': 43975,\n",
              " 'вызвать': 11305,\n",
              " 'подходить': 33170,\n",
              " 'копошиться': 20381,\n",
              " 'весь': 9618,\n",
              " 'бумажка': 8953,\n",
              " 'перенаправлять': 31495,\n",
              " 'другой': 14735,\n",
              " 'загораться': 15868,\n",
              " 'талончик': 43977,\n",
              " 'друг': 14728,\n",
              " 'заявлять': 17074,\n",
              " 'заниматься': 16439,\n",
              " 'закрываться': 16214,\n",
              " 'психануть': 37218,\n",
              " 'начало': 25386,\n",
              " 'кричать': 20966,\n",
              " 'безобразие': 7782,\n",
              " 'орать': 29323,\n",
              " 'четвёртый': 48389,\n",
              " 'вклад': 10013,\n",
              " 'давно': 13041,\n",
              " 'февраль': 46824,\n",
              " 'переоформить': 31538,\n",
              " 'процентный': 37086,\n",
              " 'ставка': 42843,\n",
              " 'автоматически': 5890,\n",
              " 'поступать': 34487,\n",
              " 'сидеть': 40911,\n",
              " 'обдумывать': 27817,\n",
              " 'торопить': 44748,\n",
              " 'остаться': 29599,\n",
              " 'далее': 13063,\n",
              " 'соответственно': 42210,\n",
              " 'оттуда': 30349,\n",
              " 'мысль': 24307,\n",
              " 'далёкий': 13086,\n",
              " 'история': 18496,\n",
              " 'длинный': 13961,\n",
              " 'устать': 46435,\n",
              " 'грубость': 12839,\n",
              " 'неуважение': 27036,\n",
              " 'подумать': 33155,\n",
              " 'россия': 39418,\n",
              " 'уметь': 46004,\n",
              " 'выдерживать': 11265,\n",
              " 'нечего': 27179,\n",
              " 'трепать': 44963,\n",
              " 'надеяться': 24572,\n",
              " 'борьба': 8663,\n",
              " 'нижний': 27256,\n",
              " 'новгород': 27405,\n",
              " 'окончание': 28832,\n",
              " 'срок': 42792,\n",
              " 'евро': 14970,\n",
              " 'маленький': 22462,\n",
              " 'прислать': 35941,\n",
              " 'июль': 18586,\n",
              " 'нижегородский': 27243,\n",
              " 'поехать': 33226,\n",
              " 'др': 14674,\n",
              " 'белинский': 7905,\n",
              " 'начаться': 25393,\n",
              " 'грубо': 12836,\n",
              " 'заявить': 17067,\n",
              " 'заказывать': 16108,\n",
              " 'удивить': 45692,\n",
              " 'заказ': 16102,\n",
              " 'затем': 16861,\n",
              " 'явиться': 49956,\n",
              " 'открывать': 29933,\n",
              " 'открытие': 29935,\n",
              " 'спрашивать': 42676,\n",
              " 'снять': 41835,\n",
              " 'заверить': 15720,\n",
              " 'любой': 22236,\n",
              " 'забрать': 15667,\n",
              " 'выдача': 11241,\n",
              " 'сегодня': 40581,\n",
              " 'исчерпать': 18530,\n",
              " 'валюта': 9230,\n",
              " 'назвать': 24681,\n",
              " 'менеджер': 23148,\n",
              " 'тюк': 45364,\n",
              " 'елена': 15143,\n",
              " 'представлять': 35159,\n",
              " 'хамка': 47403,\n",
              " 'спокойный': 42615,\n",
              " 'ласковый': 21585,\n",
              " 'голос': 12439,\n",
              " 'мерзость': 23184,\n",
              " 'пытаться': 37443,\n",
              " 'пообщаться': 33996,\n",
              " 'ной': 27529,\n",
              " 'ольга': 28937,\n",
              " 'место': 23224,\n",
              " 'проторчать': 37000,\n",
              " 'лишний': 21966,\n",
              " 'разгар': 37756,\n",
              " 'рабочий': 37559,\n",
              " 'кадровый': 18660,\n",
              " 'политика': 33561,\n",
              " 'давать': 13029,\n",
              " 'центробанк': 47993,\n",
              " 'суд': 43454,\n",
              " 'неправомерно': 26586,\n",
              " 'удерживать': 45687,\n",
              " 'читать': 48483,\n",
              " 'незаконно': 25950,\n",
              " 'крайне': 20708,\n",
              " 'непорядочно': 26550,\n",
              " 'связаться': 40432,\n",
              " 'это': 49727,\n",
              " 'призывать': 35652,\n",
              " 'класть': 19452,\n",
              " 'обратно': 28192,\n",
              " 'назреть': 24697,\n",
              " 'неповоротливый': 26486,\n",
              " 'машина': 22897,\n",
              " 'монстр': 23930,\n",
              " 'пристав': 35970,\n",
              " 'наложить': 24867,\n",
              " 'арест': 6850,\n",
              " 'долг': 14270,\n",
              " 'составлять': 42328,\n",
              " 'налог': 24858,\n",
              " 'просто': 36899,\n",
              " 'вовремя': 10264,\n",
              " 'оплатить': 29142,\n",
              " 'тут': 45275,\n",
              " 'основный': 29534,\n",
              " 'зарплатный': 16715,\n",
              " 'моментальный': 23890,\n",
              " 'заходить': 16987,\n",
              " 'онлайн': 28988,\n",
              " 'удивляться': 45696,\n",
              " 'каждый': 18667,\n",
              " 'баланс': 7317,\n",
              " 'умножиться': 46030,\n",
              " 'сложить': 41548,\n",
              " 'вместе': 10143,\n",
              " 'получаться': 33748,\n",
              " 'обалденный': 27763,\n",
              " 'система': 41036,\n",
              " 'волноваться': 10456,\n",
              " 'ладный': 21497,\n",
              " 'начислить': 25409,\n",
              " 'зарплата': 16710,\n",
              " 'списаться': 42572,\n",
              " 'август': 5757,\n",
              " 'сняться': 41836,\n",
              " 'постановление': 34438,\n",
              " 'повторно': 32540,\n",
              " 'отправить': 30128,\n",
              " 'отнести': 30045,\n",
              " 'лично': 21955,\n",
              " 'пройти': 36532,\n",
              " 'изменение': 17683,\n",
              " 'поддержка': 32767,\n",
              " 'течение': 44432,\n",
              " 'семь': 40703,\n",
              " 'два': 13155,\n",
              " 'вчера': 11116,\n",
              " 'послушать': 34366,\n",
              " 'музыка': 24169,\n",
              " 'дурд': 14833,\n",
              " 'толком': 44636,\n",
              " 'накладывать': 24774,\n",
              " 'кстати': 21134,\n",
              " 'параллельно': 30814,\n",
              " 'россельхозбанк': 39413,\n",
              " 'списать': 42571,\n",
              " 'вывод': 11195,\n",
              " 'заботиться': 15660,\n",
              " 'измениться': 17685,\n",
              " 'филиал': 46944,\n",
              " 'сб': 40105,\n",
              " 'зарегистрировать': 16682,\n",
              " 'брать': 8730,\n",
              " 'потребительский': 34605,\n",
              " 'предварительно': 35013,\n",
              " 'одобрить': 28677,\n",
              " 'людмила': 22250,\n",
              " 'вич': 9996,\n",
              " 'обязать': 28441,\n",
              " 'возражение': 10401,\n",
              " 'отвечать': 29726,\n",
              " 'чётко': 48649,\n",
              " 'убедительно': 45432,\n",
              " 'страховка': 43245,\n",
              " 'обязательный': 28438,\n",
              " 'весомый': 9604,\n",
              " 'решение': 39095,\n",
              " 'желать': 15371,\n",
              " 'страховаться': 43244,\n",
              " 'возможно': 10363,\n",
              " 'погасить': 32563,\n",
              " 'заставить': 16804,\n",
              " 'подписать': 32976,\n",
              " 'документ': 14238,\n",
              " 'противный': 36963,\n",
              " 'поверить': 32464,\n",
              " 'поздний': 33305,\n",
              " 'посоветоваться': 34390,\n",
              " 'юрист': 49907,\n",
              " 'вовсе': 10265,\n",
              " 'возможность': 10364,\n",
              " 'досрочно': 14561,\n",
              " 'обратиться': 28190,\n",
              " 'намерение': 24887,\n",
              " 'эльнур': 49564,\n",
              " 'ева': 14952,\n",
              " 'последний': 34338,\n",
              " 'визитка': 9869,\n",
              " 'ходить': 47619,\n",
              " 'бейдж': 7874,\n",
              " 'вводить': 9365,\n",
              " 'заблуждение': 15646,\n",
              " 'кто': 21139,\n",
              " 'уделить': 45678,\n",
              " 'некоторый': 26135,\n",
              " 'принести': 35810,\n",
              " 'напечатать': 24956,\n",
              " 'принтер': 35822,\n",
              " 'внести': 10185,\n",
              " 'погашение': 32569,\n",
              " 'кредита': 20827,\n",
              " 'текущий': 44146,\n",
              " 'несмотря': 26893,\n",
              " 'полностью': 33598,\n",
              " 'уплатить': 46146,\n",
              " 'якобы': 50001,\n",
              " 'вернуться': 9546,\n",
              " 'ндфл': 25455,\n",
              " 'идти': 17542,\n",
              " 'речь': 39088,\n",
              " 'правило': 34874,\n",
              " 'разбираться': 37656,\n",
              " 'экземпляр': 49332,\n",
              " 'прописать': 36742,\n",
              " 'смотреть': 41721,\n",
              " 'полениться': 33526,\n",
              " 'залезть': 16245,\n",
              " 'прочесть': 37106,\n",
              " 'инструмент': 18094,\n",
              " 'финансовый': 46989,\n",
              " 'защита': 17056,\n",
              " 'наступление': 25254,\n",
              " 'страховой': 43246,\n",
              " 'коллективный': 19810,\n",
              " 'добровольный': 14029,\n",
              " 'здоровье': 17154,\n",
              " 'участие': 46639,\n",
              " 'отказ': 29871,\n",
              " 'участь': 46649,\n",
              " 'повлиять': 32502,\n",
              " 'принятие': 35838,\n",
              " 'предоставление': 35082,\n",
              " 'заёмщик': 17083,\n",
              " 'подробный': 33037,\n",
              " 'посылать': 34518,\n",
              " 'настолько': 25219,\n",
              " 'некомпетентный': 26114,\n",
              " 'выглядеть': 11203,\n",
              " 'образ': 28164,\n",
              " 'бумага': 8945,\n",
              " 'фраза': 47218,\n",
              " 'смешно': 41682,\n",
              " 'боль': 8563,\n",
              " 'ранее': 38200,\n",
              " 'оказываться': 28790,\n",
              " 'возвращаться': 10326,\n",
              " 'отключить': 29910,\n",
              " 'её': 15278,\n",
              " 'добавить': 14000,\n",
              " 'возврат': 10319,\n",
              " 'рассматриваться': 38449,\n",
              " 'индивидуально': 17969,\n",
              " 'вернуть': 9545,\n",
              " 'нет': 26994,\n",
              " 'захотеть': 16996,\n",
              " 'директор': 13871,\n",
              " 'видеть': 9838,\n",
              " 'улыбаться': 45950,\n",
              " 'выбор': 11156,\n",
              " 'завтра': 15797,\n",
              " 'послезавтра': 34349,\n",
              " 'администрация': 6061,\n",
              " 'алтайский': 6402,\n",
              " 'вынуждать': 11442,\n",
              " 'правоохранительный': 34902,\n",
              " 'орган': 29326,\n",
              " 'неправда': 26581,\n",
              " 'заработать': 16658,\n",
              " 'путём': 37379,\n",
              " 'обман': 27997,\n",
              " 'ложь': 22036,\n",
              " 'счастие': 43735,\n",
              " 'записать': 16530,\n",
              " 'диктофон': 13811,\n",
              " 'предполагать': 35106,\n",
              " 'передать': 31257,\n",
              " 'заведение': 15710,\n",
              " 'дело': 13430,\n",
              " 'польза': 33768,\n",
              " 'кроткий': 21015,\n",
              " 'уважение': 45496,\n",
              " 'мария': 22669,\n",
              " 'перечисляться': 31823,\n",
              " 'конец': 20128,\n",
              " 'ноябрь': 27637,\n",
              " 'вытащить': 11704,\n",
              " 'восстановление': 10663,\n",
              " 'новый': 27514,\n",
              " 'готовый': 12648,\n",
              " 'шок': 49002,\n",
              " 'паспорт': 30902,\n",
              " 'догадаться': 14118,\n",
              " 'трубка': 45084,\n",
              " 'удивлённо': 45697,\n",
              " 'узнавать': 45813,\n",
              " 'оказаться': 28786,\n",
              " 'общий': 28362,\n",
              " 'выразить': 11541,\n",
              " 'мо': 23739,\n",
              " 'королёв': 20459,\n",
              " 'пр': 34860,\n",
              " 'королева': 20453,\n",
              " 'вой': 10422,\n",
              " 'грамотный': 12692,\n",
              " 'профессиональный': 37025,\n",
              " 'тактичный': 43957,\n",
              " 'доходчиво': 14651,\n",
              " 'терпеливо': 44312,\n",
              " 'отличный': 29983,\n",
              " 'положительный': 33623,\n",
              " 'эмоция': 49596,\n",
              " 'консультационный': 20219,\n",
              " 'помочь': 33880,\n",
              " 'обязательно': 28436,\n",
              " 'рекомендовать': 38925,\n",
              " 'знакомый': 17311,\n",
              " 'многий': 23668,\n",
              " 'посещение': 34303,\n",
              " 'захотеться': 16997,\n",
              " 'успех': 46392,\n",
              " 'главное': 12229,\n",
              " 'благодарный': 8286,\n",
              " 'наталья': 25281,\n",
              " 'администратор': 6058,\n",
              " 'заключаться': 16153,\n",
              " 'грамотность': 12691,\n",
              " 'профессионализм': 37022,\n",
              " 'оказать': 28785,\n",
              " 'обсуждать': 28280,\n",
              " 'длиться': 13967,\n",
              " 'visa': 5224,\n",
              " 'gold': 1813,\n",
              " 'взгляд': 9733,\n",
              " 'исходящий': 18524,\n",
              " 'исчерпывающий': 18533,\n",
              " 'понятие': 33982,\n",
              " 'выполнять': 11495,\n",
              " 'служебный': 41575,\n",
              " 'обязанность': 28434,\n",
              " 'разжёвывать': 37868,\n",
              " 'пункт': 37310,\n",
              " 'непонятливый': 26539,\n",
              " 'утеря': 46500,\n",
              " 'ряд': 39753,\n",
              " 'повод': 32503,\n",
              " 'предельно': 35038,\n",
              " 'понятный': 33989,\n",
              " 'полчаса': 33764,\n",
              " 'интересовать': 18142,\n",
              " 'ипотека': 18289,\n",
              " 'заинтересовать': 16083,\n",
              " 'пока': 33372,\n",
              " 'факт': 46742,\n",
              " 'мошенничество': 24097,\n",
              " 'причём': 36112,\n",
              " 'ведомо': 9441,\n",
              " 'ошибка': 30634,\n",
              " 'цифра': 48064,\n",
              " 'денежный': 13499,\n",
              " 'сказочный': 41126,\n",
              " 'начать': 25392,\n",
              " 'ежедневно': 15080,\n",
              " 'утекать': 46496,\n",
              " 'разъяснить': 38099,\n",
              " 'сложиться': 41549,\n",
              " 'разрешить': 38039,\n",
              " 'благополучно': 8309,\n",
              " 'оформлять': 30493,\n",
              " 'домашний': 14338,\n",
              " 'терроризировать': 44330,\n",
              " 'отдел': 29802,\n",
              " 'взыскание': 9798,\n",
              " 'незнакомый': 26003,\n",
              " 'проживать': 36449,\n",
              " 'неизвестный': 26026,\n",
              " 'причина': 36093,\n",
              " 'утро': 46557,\n",
              " 'включая': 10038,\n",
              " 'выходной': 11748,\n",
              " 'неоднократно': 26345,\n",
              " 'должник': 14304,\n",
              " 'продолжаться': 36393,\n",
              " 'боле': 8535,\n",
              " 'проходить': 37066,\n",
              " 'хамский': 47415,\n",
              " 'тональность': 44678,\n",
              " 'капля': 18899,\n",
              " 'семья': 40706,\n",
              " 'спать': 42489,\n",
              " 'неадекватный': 25465,\n",
              " 'ответственный': 29721,\n",
              " 'лицо': 21949,\n",
              " 'исключить': 18356,\n",
              " 'база': 7251,\n",
              " 'обзвон': 27881,\n",
              " 'наказать': 24742,\n",
              " 'разговаривать': 37772,\n",
              " 'предоставить': 35080,\n",
              " 'дата': 13134,\n",
              " 'способствовать': 42654,\n",
              " 'наказание': 24741,\n",
              " 'виновный': 9927,\n",
              " ...}"
            ]
          },
          "execution_count": 253,
          "metadata": {},
          "output_type": "execute_result"
        }
      ],
      "source": [
        "count_vect_uni.vocabulary_"
      ]
    },
    {
      "cell_type": "code",
      "execution_count": null,
      "metadata": {
        "id": "LAh3mTEMA2EZ"
      },
      "outputs": [],
      "source": [
        "X_train_uni = count_vect_uni.transform(X_train.values.flatten())"
      ]
    },
    {
      "cell_type": "code",
      "execution_count": null,
      "metadata": {
        "id": "7P0k8ujfA2EZ"
      },
      "outputs": [],
      "source": [
        "X_test_uni = count_vect_uni.transform(X_test.values.flatten())"
      ]
    },
    {
      "cell_type": "code",
      "execution_count": null,
      "metadata": {
        "id": "iyNLmFrKA2Ea",
        "outputId": "8e5efc40-7feb-4c87-81e1-93c3399591f3"
      },
      "outputs": [
        {
          "data": {
            "text/plain": [
              "<23540x50129 sparse matrix of type '<class 'numpy.int64'>'\n",
              "\twith 2573341 stored elements in Compressed Sparse Row format>"
            ]
          },
          "execution_count": 257,
          "metadata": {},
          "output_type": "execute_result"
        }
      ],
      "source": [
        "X_train_uni"
      ]
    },
    {
      "cell_type": "code",
      "execution_count": null,
      "metadata": {
        "id": "kBMMsb_kA2Ea",
        "outputId": "a9186acf-1957-40ca-e886-0f7e44bb7cd5"
      },
      "outputs": [
        {
          "name": "stdout",
          "output_type": "stream",
          "text": [
            "accurancy = 0.9432551817872918, C = 0.01\n",
            "accurancy = 0.9475025484199796, C = 0.1\n",
            "accurancy = 0.9430852871219844, C = 1\n",
            "accurancy = 0.9384981311586816, C = 10\n",
            "accurancy = 0.9378185524974516, C = 100\n",
            "accurancy = 0.9356099218484539, C = 1000\n"
          ]
        }
      ],
      "source": [
        "for c in [0.01, 0.1, 1, 10, 100, 1000]:\n",
        "    logreg = LogisticRegression(random_state = 3459, max_iter = 5000, C = c)\n",
        "    logreg.fit(X_train_uni, y_train)\n",
        "    score = logreg.score(X_test_uni, y_test)\n",
        "    print(f\"accurancy = {score}, C = {c}\")"
      ]
    },
    {
      "cell_type": "code",
      "execution_count": null,
      "metadata": {
        "id": "DWHoR6k7A2Ea"
      },
      "outputs": [],
      "source": [
        "# для биграмм"
      ]
    },
    {
      "cell_type": "code",
      "execution_count": null,
      "metadata": {
        "id": "2_pKvTj-A2Eb"
      },
      "outputs": [],
      "source": [
        "count_vect_bi = CountVectorizer(ngram_range = (2, 2))"
      ]
    },
    {
      "cell_type": "code",
      "execution_count": null,
      "metadata": {
        "id": "OtAGYAQcA2Eb",
        "outputId": "10f45021-2347-48e0-ea98-eaf8592d3096"
      },
      "outputs": [
        {
          "data": {
            "text/plain": [
              "CountVectorizer(ngram_range=(2, 2))"
            ]
          },
          "execution_count": 261,
          "metadata": {},
          "output_type": "execute_result"
        }
      ],
      "source": [
        "count_vect_bi.fit(X_train.values.flatten())"
      ]
    },
    {
      "cell_type": "code",
      "execution_count": null,
      "metadata": {
        "id": "1-DBCqw4A2Eb",
        "outputId": "1f761784-3f70-4e15-d358-989a9c731257"
      },
      "outputs": [
        {
          "data": {
            "text/plain": [
              "{'добрый день': 242568,\n",
              " 'день ип': 227655,\n",
              " 'ип отправлять': 373895,\n",
              " 'отправлять платёж': 709952,\n",
              " 'платёж стоить': 767051,\n",
              " 'стоить статус': 1139206,\n",
              " 'статус исполнить': 1135044,\n",
              " 'исполнить деньга': 377390,\n",
              " 'деньга дойти': 230747,\n",
              " 'дойти карточка': 249952,\n",
              " 'карточка деньга': 398180,\n",
              " 'деньга который': 231254,\n",
              " 'который вообще': 436223,\n",
              " 'вообще обслуживаться': 136181,\n",
              " 'обслуживаться очень': 624634,\n",
              " 'очень важный': 723976,\n",
              " 'важный фактор': 87610,\n",
              " 'фактор успешный': 1255036,\n",
              " 'успешный банк': 1243720,\n",
              " 'банк являться': 51408,\n",
              " 'являться доверие': 1311162,\n",
              " 'доверие этот': 243578,\n",
              " 'этот банк': 1306679,\n",
              " 'банк сказать': 49715,\n",
              " 'сказать банк': 1057731,\n",
              " 'банк дойти': 44428,\n",
              " 'дойти такой': 250178,\n",
              " 'такой состояние': 1172881,\n",
              " 'состояние сделать': 1102850,\n",
              " 'сделать специально': 1040782,\n",
              " 'специально предвиденно': 1113723,\n",
              " 'предвиденно банк': 869311,\n",
              " 'банк планирование': 47827,\n",
              " 'планирование видеться': 762379,\n",
              " 'видеться знать': 108993,\n",
              " 'знать делать': 345833,\n",
              " 'оплачивать покупка': 665640,\n",
              " 'покупка интернет': 807006,\n",
              " 'интернет магазин': 369676,\n",
              " 'магазин доллар': 475726,\n",
              " 'доллар доллар': 257826,\n",
              " 'доллар руб': 258215,\n",
              " 'руб продажа': 1009563,\n",
              " 'продажа безналичный': 918094,\n",
              " 'безналичный операция': 58509,\n",
              " 'операция провести': 661911,\n",
              " 'провести го': 914240,\n",
              " 'го курс': 186668,\n",
              " 'курс курс': 456251,\n",
              " 'курс го': 456131,\n",
              " 'го очень': 186738,\n",
              " 'очень удобно': 725364,\n",
              " 'удобно сделать': 1221519,\n",
              " 'сделать http': 1039249,\n",
              " 'http svyaznoybank': 5622,\n",
              " 'svyaznoybank ru': 13758,\n",
              " 'ru home': 11587,\n",
              " 'home bank': 5436,\n",
              " 'bank currencyrates': 1011,\n",
              " 'currencyrates aspx': 3150,\n",
              " 'aspx позвонить': 780,\n",
              " 'позвонить описать': 799028,\n",
              " 'описать ситуация': 663069,\n",
              " 'ситуация попросить': 1056629,\n",
              " 'попросить объяснить': 836500,\n",
              " 'объяснить откуда': 631554,\n",
              " 'откуда браться': 701869,\n",
              " 'браться курс': 75733,\n",
              " 'курс несколько': 456313,\n",
              " 'несколько консультация': 583893,\n",
              " 'консультация девушка': 428705,\n",
              " 'девушка смочь': 217955,\n",
              " 'смочь ответить': 1077794,\n",
              " 'ответить курс': 683148,\n",
              " 'курс считаться': 456621,\n",
              " 'считаться почему': 1159660,\n",
              " 'почему совпадать': 858211,\n",
              " 'совпадать курс': 1090423,\n",
              " 'курс сайт': 456541,\n",
              " 'сайт звонок': 1018806,\n",
              " 'звонок мы': 340968,\n",
              " 'мы мочь': 523446,\n",
              " 'мочь узнать': 519908,\n",
              " 'узнать курс': 1225439,\n",
              " 'курс доллар': 456157,\n",
              " 'доллар вопрос': 257778,\n",
              " 'вопрос указать': 139951,\n",
              " 'указать безналичный': 1227740,\n",
              " 'безналичный продажа': 58529,\n",
              " 'продажа оператор': 918283,\n",
              " 'оператор ответить': 657851,\n",
              " 'ответить быть': 682749,\n",
              " 'быть снимать': 85868,\n",
              " 'снимать карта': 1081768,\n",
              " 'карта наш': 394841,\n",
              " 'наш банкомат': 558734,\n",
              " 'банкомат являться': 55838,\n",
              " 'являться бред': 1311027,\n",
              " 'бред называться': 75964,\n",
              " 'называться официально': 534908,\n",
              " 'официально данный': 718503,\n",
              " 'данный секретный': 209944,\n",
              " 'секретный курс': 1044941,\n",
              " 'доллар ответить': 258041,\n",
              " 'ответить смочь': 683794,\n",
              " 'смочь момент': 1077668,\n",
              " 'момент сказать': 513388,\n",
              " 'сказать секретный': 1059892,\n",
              " 'курс который': 456243,\n",
              " 'который рассчитать': 438627,\n",
              " 'рассчитать покупка': 983344,\n",
              " 'магазин интерес': 475796,\n",
              " 'интерес позвонить': 367619,\n",
              " 'позвонить минута': 798846,\n",
              " 'минута курс': 501592,\n",
              " 'курс цб': 456687,\n",
              " 'цб опуститься': 1275829,\n",
              " 'опуститься копа': 667961,\n",
              " 'копа спросить': 431756,\n",
              " 'спросить секретный': 1121519,\n",
              " 'курс сказать': 456559,\n",
              " 'сказать руб': 1059838,\n",
              " 'руб хотя': 1009907,\n",
              " 'хотя сайт': 1274294,\n",
              " 'сайт просить': 1019492,\n",
              " 'просить связный': 930986,\n",
              " 'связный описать': 1036793,\n",
              " 'описать всё': 662874,\n",
              " 'всё таки': 155437,\n",
              " 'таки считаться': 1170393,\n",
              " 'считаться курс': 1159616,\n",
              " 'доллар безналичный': 257748,\n",
              " 'безналичный покупка': 58517,\n",
              " 'покупка пример': 807344,\n",
              " 'пример ответ': 895098,\n",
              " 'ответ консультант': 681264,\n",
              " 'консультант почему': 428364,\n",
              " 'сайт почему': 1019386,\n",
              " 'почему расчёт': 858096,\n",
              " 'расчёт осуществляться': 985703,\n",
              " 'осуществляться день': 680053,\n",
              " 'день покупка': 228802,\n",
              " 'покупка ваш': 806792,\n",
              " 'ваш банковский': 90287,\n",
              " 'банковский курс': 53238,\n",
              " 'курс резервирование': 456527,\n",
              " 'резервирование доп': 991416,\n",
              " 'доп средство': 260887,\n",
              " 'средство решить': 1126594,\n",
              " 'решить закрыть': 1000024,\n",
              " 'закрыть карта': 311943,\n",
              " 'карта личный': 394490,\n",
              " 'личный кабинет': 469623,\n",
              " 'кабинет раздел': 386549,\n",
              " 'раздел заявление': 966671,\n",
              " 'заявление выбрать': 335573,\n",
              " 'выбрать получение': 161670,\n",
              " 'получение остаток': 816248,\n",
              " 'остаток наличные': 678060,\n",
              " 'наличные всё': 538960,\n",
              " 'всё равно': 155234,\n",
              " 'равно просить': 959481,\n",
              " 'просить ввести': 930189,\n",
              " 'ввести реквизит': 91804,\n",
              " 'реквизит безналичный': 993469,\n",
              " 'безналичный ввести': 58476,\n",
              " 'ввести свой': 91814,\n",
              " 'свой реквизит': 1034818,\n",
              " 'реквизит вроде': 993512,\n",
              " 'вроде заявление': 149452,\n",
              " 'заявление уйти': 337313,\n",
              " 'однажды открыть': 640224,\n",
              " 'открыть накопительный': 701157,\n",
              " 'накопительный пенсионный': 537164,\n",
              " 'пенсионный страхование': 737660,\n",
              " 'страхование компания': 1145133,\n",
              " 'компания альфа': 422126,\n",
              " 'альфа жизнь': 32566,\n",
              " 'жизнь однако': 290500,\n",
              " 'однако определённый': 640757,\n",
              " 'определённый момент': 667196,\n",
              " 'момент офис': 512930,\n",
              " 'офис компания': 716212,\n",
              " 'компания наш': 422467,\n",
              " 'наш город': 558853,\n",
              " 'город закрыться': 195063,\n",
              " 'закрыться столкнуться': 312608,\n",
              " 'столкнуться вопрос': 1140301,\n",
              " 'вопрос проводить': 139263,\n",
              " 'проводить ежегодный': 915064,\n",
              " 'ежегодный платёж': 277866,\n",
              " 'платёж договор': 765528,\n",
              " 'договор первый': 246932,\n",
              " 'первый платёж': 739366,\n",
              " 'платёж провести': 766695,\n",
              " 'провести сбербанк': 914652,\n",
              " 'сбербанк долго': 1026743,\n",
              " 'долго муторный': 254802,\n",
              " 'муторный комиссия': 522658,\n",
              " 'комиссия решить': 420620,\n",
              " 'решить вариант': 999751,\n",
              " 'вариант где': 89236,\n",
              " 'где то': 182791,\n",
              " 'то полгода': 1190123,\n",
              " 'полгода год': 808157,\n",
              " 'год близкий': 189508,\n",
              " 'близкий супермаркет': 68969,\n",
              " 'супермаркет закупаться': 1154218,\n",
              " 'закупаться продукт': 312650,\n",
              " 'продукт девушка': 920450,\n",
              " 'девушка проводить': 217743,\n",
              " 'проводить презентация': 915270,\n",
              " 'презентация предлагать': 879641,\n",
              " 'предлагать ко': 869971,\n",
              " 'ко бренд': 415405,\n",
              " 'бренд дебетовый': 76170,\n",
              " 'дебетовый кредитный': 215681,\n",
              " 'кредитный альфа': 446849,\n",
              " 'альфа банк': 32523,\n",
              " 'банк продуктовый': 48823,\n",
              " 'продуктовый ретейлер': 921215,\n",
              " 'ретейлер карусель': 997094,\n",
              " 'карусель заинтересоваться': 399422,\n",
              " 'заинтересоваться день': 305457,\n",
              " 'день оформить': 228538,\n",
              " 'оформить анкета': 718892,\n",
              " 'анкета называться': 34964,\n",
              " 'называться отходить': 534907,\n",
              " 'отходить касса': 714183,\n",
              " 'касса указанный': 401326,\n",
              " 'указанный время': 1227396,\n",
              " 'время поступить': 148157,\n",
              " 'поступить смс': 851857,\n",
              " 'смс отправиться': 1078936,\n",
              " 'отправиться офис': 709455,\n",
              " 'офис получение': 717174,\n",
              " 'получение карта': 816094,\n",
              " 'карта карта': 394261,\n",
              " 'карта получить': 395809,\n",
              " 'получить подключить': 817820,\n",
              " 'подключить альфа': 783086,\n",
              " 'альфа клик': 32582,\n",
              " 'клик придумывать': 413820,\n",
              " 'придумывать пароль': 888386,\n",
              " 'пароль прийтись': 734614,\n",
              " 'прийтись сразу': 892988,\n",
              " 'сразу отделение': 1123768,\n",
              " 'отделение банк': 688309,\n",
              " 'банк отправиться': 47444,\n",
              " 'отправиться домой': 709394,\n",
              " 'домой стать': 260311,\n",
              " 'стать пользоваться': 1136279,\n",
              " 'пользоваться копить': 821024,\n",
              " 'копить бонус': 432469,\n",
              " 'бонус отоваривать': 73369,\n",
              " 'отоваривать магазин': 707488,\n",
              " 'магазин альфа': 475570,\n",
              " 'клик освоить': 413793,\n",
              " 'освоить быстро': 671885,\n",
              " 'быстро удобно': 83141,\n",
              " 'удобно один': 1221226,\n",
              " 'один слово': 639435,\n",
              " 'слово провести': 1068665,\n",
              " 'провести первый': 914519,\n",
              " 'платёж платёжный': 766424,\n",
              " 'платёжный поручение': 767901,\n",
              " 'поручение отдельный': 841105,\n",
              " 'отдельный сервис': 692468,\n",
              " 'сервис перевод': 1047496,\n",
              " 'перевод клиент': 741787,\n",
              " 'клиент банк': 409288,\n",
              " 'банк оплачивать': 47167,\n",
              " 'оплачивать также': 665783,\n",
              " 'также интернет': 1168091,\n",
              " 'интернет провайдер': 370030,\n",
              " 'провайдер правда': 912315,\n",
              " 'правда небольшой': 863854,\n",
              " 'небольшой комиссия': 560838,\n",
              " 'комиссия никак': 420172,\n",
              " 'никак мочь': 590969,\n",
              " 'мочь понять': 519236,\n",
              " 'понять процент': 832230,\n",
              " 'процент перевод': 942109,\n",
              " 'перевод звонок': 741702,\n",
              " 'звонок call': 340373,\n",
              " 'call center': 1579,\n",
              " 'center забывать': 1955,\n",
              " 'забывать спросить': 296526,\n",
              " 'спросить год': 1121001,\n",
              " 'год получить': 191125,\n",
              " 'получить предложение': 817952,\n",
              " 'предложение оформить': 871042,\n",
              " 'оформить кредитный': 719257,\n",
              " 'кредитный карта': 446992,\n",
              " 'карта приятно': 396170,\n",
              " 'приятно закончиться': 907389,\n",
              " 'закончиться ко': 309523,\n",
              " 'бренд программа': 76195,\n",
              " 'программа карусель': 916456,\n",
              " 'карусель раздумье': 399428,\n",
              " 'раздумье открыть': 967285,\n",
              " 'открыть ко': 701054,\n",
              " 'бренд прямо': 76197,\n",
              " 'прямо альфа': 946059,\n",
              " 'клик заполнить': 413738,\n",
              " 'заполнить заявка': 321635,\n",
              " 'заявка очень': 334607,\n",
              " 'удобно видео': 1220867,\n",
              " 'видео бонус': 107568,\n",
              " 'бонус сразу': 73515,\n",
              " 'сразу предупредить': 1124066,\n",
              " 'предупредить карта': 877307,\n",
              " 'карта мвидео': 394565,\n",
              " 'мвидео счёт': 485810,\n",
              " 'счёт объединяться': 1161299,\n",
              " 'объединяться случай': 629997,\n",
              " 'случай списание': 1072844,\n",
              " 'списание накопить': 1114713,\n",
              " 'накопить бонусный': 537203,\n",
              " 'бонусный рубль': 73604,\n",
              " 'рубль нужно': 1011068,\n",
              " 'нужно использовать': 604587,\n",
              " 'использовать банковский': 378022,\n",
              " 'банковский карта': 53208,\n",
              " 'карта именно': 394138,\n",
              " 'именно становиться': 360878,\n",
              " 'становиться главный': 1133328,\n",
              " 'главный кредитный': 184656,\n",
              " 'карта также': 397091,\n",
              " 'также открыть': 1168512,\n",
              " 'открыть получать': 701349,\n",
              " 'получать оба': 814699,\n",
              " 'оба карта': 607796,\n",
              " 'карта одновременно': 395167,\n",
              " 'одновременно кредитный': 641278,\n",
              " 'карта нужно': 395043,\n",
              " 'нужно звонить': 604560,\n",
              " 'звонить активировать': 338854,\n",
              " 'активировать лимит': 28730,\n",
              " 'лимит подгрузиться': 464685,\n",
              " 'подгрузиться неделя': 780723,\n",
              " 'неделя пара': 566258,\n",
              " 'пара расплачиваться': 733333,\n",
              " 'расплачиваться кредитка': 977803,\n",
              " 'кредитка стараться': 446695,\n",
              " 'стараться уходить': 1133949,\n",
              " 'уходить минус': 1250442,\n",
              " 'минус сто': 500781,\n",
              " 'сто день': 1138068,\n",
              " 'день хотя': 230000,\n",
              " 'хотя езать': 1273316,\n",
              " 'езать мина': 278475,\n",
              " 'мина платёж': 499029,\n",
              " 'платёж сумма': 767078,\n",
              " 'сумма взять': 1151742,\n",
              " 'взять лимит': 105753,\n",
              " 'лимит однако': 464566,\n",
              " 'однако мера': 640640,\n",
              " 'мера нужно': 491607,\n",
              " 'нужно знать': 604562,\n",
              " 'знать свой': 346975,\n",
              " 'свой желание': 1033656,\n",
              " 'желание недавно': 287643,\n",
              " 'недавно предложить': 564690,\n",
              " 'предложить кредит': 871785,\n",
              " 'кредит прямо': 444967,\n",
              " 'клик появиться': 413817,\n",
              " 'появиться строка': 861980,\n",
              " 'строка ваш': 1148150,\n",
              " 'ваш кредит': 90650,\n",
              " 'кредит вскоре': 442857,\n",
              " 'вскоре позвонить': 150880,\n",
              " 'позвонить девушка': 798564,\n",
              " 'девушка частное': 218208,\n",
              " 'частное сотовый': 1283247,\n",
              " 'сотовый номер': 1103456,\n",
              " 'номер странно': 599540,\n",
              " 'странно предложить': 1144440,\n",
              " 'предложить оформить': 871964,\n",
              " 'оформить кредит': 719254,\n",
              " 'кредит вежливый': 442720,\n",
              " 'вежливый отказаться': 93682,\n",
              " 'отказаться спасибо': 697296,\n",
              " 'спасибо предложение': 1110680,\n",
              " 'предложение какой': 870838,\n",
              " 'какой казус': 389470,\n",
              " 'казус случаться': 388915,\n",
              " 'случаться год': 1073452,\n",
              " 'год дважды': 189823,\n",
              " 'дважды банкомат': 213795,\n",
              " 'банкомат принимать': 55117,\n",
              " 'принимать тот': 897054,\n",
              " 'тот сумма': 1195387,\n",
              " 'сумма который': 1152278,\n",
              " 'который вносить': 436184,\n",
              " 'вносить мой': 124572,\n",
              " 'мой мнение': 509091,\n",
              " 'мнение первый': 505220,\n",
              " 'первый прийтись': 739516,\n",
              " 'прийтись визуально': 892067,\n",
              " 'визуально вспоминать': 111669,\n",
              " 'вспоминать номинал': 151305,\n",
              " 'номинал купюра': 599876,\n",
              " 'купюра кошелёк': 455338,\n",
              " 'кошелёк выяснить': 439795,\n",
              " 'выяснить банкомат': 179318,\n",
              " 'банкомат право': 55068,\n",
              " 'право второй': 865933,\n",
              " 'второй оставить': 157421,\n",
              " 'оставить претензия': 676366,\n",
              " 'претензия банкомат': 882312,\n",
              " 'банкомат зажать': 54056,\n",
              " 'зажать неделя': 304897,\n",
              " 'неделя претензия': 566463,\n",
              " 'претензия отклонить': 882983,\n",
              " 'отклонить долго': 698159,\n",
              " 'долго думать': 254656,\n",
              " 'думать решить': 273259,\n",
              " 'решить ошибиться': 1000517,\n",
              " 'ошибиться тот': 729087,\n",
              " 'тот пора': 1195027,\n",
              " 'пора вносить': 838251,\n",
              " 'вносить один': 124603,\n",
              " 'один купюра': 638634,\n",
              " 'купюра крупный': 455343,\n",
              " 'крупный сумма': 451528,\n",
              " 'сумма перекидывать': 1152818,\n",
              " 'перекидывать безнал': 747477,\n",
              " 'безнал счёт': 58457,\n",
              " 'счёт модель': 1160984,\n",
              " 'модель банкомат': 507528,\n",
              " 'банкомат альф': 53560,\n",
              " 'альф принимать': 32377,\n",
              " 'принимать родный': 896969,\n",
              " 'родный карта': 1003784,\n",
              " 'карта спасибо': 396912,\n",
              " 'спасибо пять': 1110750,\n",
              " 'пять минута': 952137,\n",
              " 'минута введение': 501033,\n",
              " 'введение пин': 91495,\n",
              " 'пин кода': 757975,\n",
              " 'кода писать': 416475,\n",
              " 'писать превысить': 759108,\n",
              " 'превысить время': 868657,\n",
              " 'время ожидание': 147627,\n",
              " 'ожидание операция': 643376,\n",
              " 'операция карта': 661255,\n",
              " 'карта отдавать': 395318,\n",
              " 'отдавать сайт': 686542,\n",
              " 'сайт сложно': 1019678,\n",
              " 'сложно понять': 1069624,\n",
              " 'понять что': 832517,\n",
              " 'что относиться': 1293953,\n",
              " 'относиться тариф': 706041,\n",
              " 'тариф карта': 1174448,\n",
              " 'карта сложно': 396765,\n",
              " 'сложно разобраться': 1069660,\n",
              " 'разобраться тариф': 970339,\n",
              " 'тариф услуга': 1175040,\n",
              " 'услуга лайф': 1240486,\n",
              " 'лайф сей': 459318,\n",
              " 'сей пора': 1044451,\n",
              " 'пора понимать': 838706,\n",
              " 'понимать плач': 828992,\n",
              " 'плач руб': 768120,\n",
              " 'руб месяц': 1009077,\n",
              " 'месяц счёт': 495680,\n",
              " 'счёт нужный': 1161244,\n",
              " 'нужный смириться': 606508,\n",
              " 'смириться остальной': 1076280,\n",
              " 'остальной всё': 676955,\n",
              " 'всё нравиться': 154837,\n",
              " 'уважаемый банк': 1210514,\n",
              " 'банк ваш': 43471,\n",
              " 'ваш сотрудник': 91138,\n",
              " 'сотрудник перестать': 1105470,\n",
              " 'перестать нагло': 751433,\n",
              " 'нагло врать': 528727,\n",
              " 'врать около': 145730,\n",
              " 'около час': 649571,\n",
              " 'час мочь': 1281946,\n",
              " 'мочь сделать': 519635,\n",
              " 'сделать перевод': 1040240,\n",
              " 'перевод ваш': 741422,\n",
              " 'ваш интернет': 90570,\n",
              " 'интернет банка': 369343,\n",
              " 'банка из': 51647,\n",
              " 'из за': 353548,\n",
              " 'за банк': 292699,\n",
              " 'банк присылать': 48732,\n",
              " 'присылать смс': 902622,\n",
              " 'смс разовый': 1079177,\n",
              " 'разовый пароль': 970432,\n",
              " 'пароль ваш': 734326,\n",
              " 'ваш клиентский': 90601,\n",
              " 'клиентский центр': 413677,\n",
              " 'центр номер': 1278892,\n",
              " 'номер уточнять': 599670,\n",
              " 'уточнять масса': 1248532,\n",
              " 'масса информация': 483481,\n",
              " 'информация отключаться': 372104,\n",
              " 'отключаться несколько': 698354,\n",
              " 'несколько разговор': 584401,\n",
              " 'разговор просьба': 966203,\n",
              " 'просьба подождать': 937385,\n",
              " 'подождать утверждать': 785703,\n",
              " 'утверждать итог': 1246907,\n",
              " 'итог работать': 384031,\n",
              " 'работать проблема': 956963,\n",
              " 'проблема мой': 910333,\n",
              " 'мой номер': 509307,\n",
              " 'номер телефон': 599574,\n",
              " 'телефон проверить': 1179434,\n",
              " 'проверить абсолютно': 912541,\n",
              " 'абсолютно смс': 17320,\n",
              " 'смс приходить': 1079118,\n",
              " 'приходить обычный': 903599,\n",
              " 'обычный короткий': 633834,\n",
              " 'короткий номер': 433646,\n",
              " 'номер уточнить': 599669,\n",
              " 'уточнить оператор': 1248031,\n",
              " 'оператор какой': 657511,\n",
              " 'какой либо': 389527,\n",
              " 'либо ограничение': 462982,\n",
              " 'ограничение номер': 637012,\n",
              " 'номер никакой': 598903,\n",
              " 'никакой ограничение': 591857,\n",
              " 'ограничение почему': 637069,\n",
              " 'почему ваш': 857087,\n",
              " 'сотрудник упорно': 1106697,\n",
              " 'упорно хотеть': 1235514,\n",
              " 'хотеть решать': 1271757,\n",
              " 'решать проблема': 998025,\n",
              " 'проблема нагло': 910367,\n",
              " 'врать ваш': 145666,\n",
              " 'ваш сторона': 91168,\n",
              " 'сторона проблема': 1142021,\n",
              " 'проблема обед': 910568,\n",
              " 'обед несколько': 608578,\n",
              " 'несколько авторизация': 583570,\n",
              " 'авторизация интернет': 22797,\n",
              " 'банка один': 51799,\n",
              " 'один прийти': 639213,\n",
              " 'прийти уведомление': 891906,\n",
              " 'уведомление смс': 1212192,\n",
              " 'смс информация': 1078675,\n",
              " 'информация разовый': 372498,\n",
              " 'пароль приходить': 734617,\n",
              " 'приходить огромный': 903601,\n",
              " 'огромный просьба': 637676,\n",
              " 'просьба разобраться': 937516,\n",
              " 'разобраться ситуация': 970279,\n",
              " 'таки заинтересованный': 1169627,\n",
              " 'заинтересованный человек': 305261,\n",
              " 'человек работать': 1288018,\n",
              " 'работать мособлбанк': 956242,\n",
              " 'мособлбанк достаточно': 517365,\n",
              " 'достаточно быстро': 264882,\n",
              " 'быстро перезвонить': 82618,\n",
              " 'перезвонить управлять': 747160,\n",
              " 'управлять рассказать': 1236253,\n",
              " 'рассказать сделать': 979882,\n",
              " 'сделать мой': 1039934,\n",
              " 'мой вопрос': 508449,\n",
              " 'вопрос приятно': 139253,\n",
              " 'приятно черта': 907923,\n",
              " 'черта побрать': 1289386,\n",
              " 'побрать ездить': 771763,\n",
              " 'ездить центральный': 278813,\n",
              " 'центральный офис': 1279836,\n",
              " 'офис выписка': 715617,\n",
              " 'выписка ура': 170615,\n",
              " 'ура удобство': 1236801,\n",
              " 'удобство получить': 1222550,\n",
              " 'получить как': 817196,\n",
              " 'как то': 389054,\n",
              " 'то получение': 1190147,\n",
              " 'получение выписка': 815959,\n",
              " 'выписка эл': 170656,\n",
              " 'эл почта': 1303213,\n",
              " 'почта проблема': 859459,\n",
              " 'проблема быстрый': 909577,\n",
              " 'быстрый рост': 83849,\n",
              " 'рост банк': 1007317,\n",
              " 'банк верить': 43513,\n",
              " 'верить такой': 95781,\n",
              " 'такой хороший': 1173212,\n",
              " 'хороший отношение': 1270056,\n",
              " 'отношение сотрудник': 706909,\n",
              " 'сотрудник банк': 1103700,\n",
              " 'банк критика': 45699,\n",
              " 'критика клиент': 449260,\n",
              " 'клиент подобный': 411501,\n",
              " 'подобный вопрос': 784628,\n",
              " 'вопрос быть': 137474,\n",
              " 'быть решаться': 85750,\n",
              " 'решаться время': 998195,\n",
              " 'время спасибо': 148791,\n",
              " 'спасибо личный': 1110313,\n",
              " 'личный благодарность': 469550,\n",
              " 'благодарность управлять': 67132,\n",
              " 'управлять допофис': 1235887,\n",
              " 'допофис козлов': 262050,\n",
              " 'козлов дмитрий': 416714,\n",
              " 'дмитрий михаилович': 240121,\n",
              " 'оставить негативный': 676207,\n",
              " 'негативный отзыв': 563895,\n",
              " 'отзыв работа': 694498,\n",
              " 'работа лидер': 953480,\n",
              " 'лидер народный': 463778,\n",
              " 'народный рейтинг': 547824,\n",
              " 'рейтинг сайт': 993352,\n",
              " 'сайт банк': 1018470,\n",
              " 'банк авангард': 42941,\n",
              " 'авангард часть': 18425,\n",
              " 'часть вспомнить': 1284344,\n",
              " 'вспомнить противоположный': 151672,\n",
              " 'противоположный ситуация': 938065,\n",
              " 'ситуация мой': 1056079,\n",
              " 'мой любим': 509027,\n",
              " 'любим банк': 473460,\n",
              " 'банк альфа': 43067,\n",
              " 'альфа ситуация': 32686,\n",
              " 'ситуация около': 1056336,\n",
              " 'около год': 648930,\n",
              " 'год назад': 190487,\n",
              " 'назад прийти': 532653,\n",
              " 'прийти отделение': 891354,\n",
              " 'отделение тверской': 691490,\n",
              " 'тверской точный': 1175978,\n",
              " 'точный адрес': 1196943,\n",
              " 'адрес помнить': 26372,\n",
              " 'помнить недалеко': 823863,\n",
              " 'недалеко площадь': 564918,\n",
              " 'площадь белорусский': 769472,\n",
              " 'белорусский вокзал': 60646,\n",
              " 'вокзал больший': 134079,\n",
              " 'больший очередь': 71846,\n",
              " 'очередь торопиться': 728140,\n",
              " 'торопиться нервничать': 1193972,\n",
              " 'нервничать ждать': 582828,\n",
              " 'ждать долго': 286179,\n",
              " 'долго решить': 255098,\n",
              " 'решить терять': 1001176,\n",
              " 'терять время': 1183236,\n",
              " 'время даром': 146637,\n",
              " 'даром написать': 210155,\n",
              " 'написать жалоба': 542282,\n",
              " 'жалоба предложение': 284860,\n",
              " 'предложение сотрудник': 871340,\n",
              " 'банк вопрос': 43753,\n",
              " 'вопрос дать': 137746,\n",
              " 'дать книга': 211554,\n",
              " 'книга жалоба': 414714,\n",
              " 'жалоба оставить': 284750,\n",
              " 'оставить запись': 676074,\n",
              " 'запись плохо': 320448,\n",
              " 'плохо организовать': 768788,\n",
              " 'организовать работа': 670224,\n",
              " 'работа очередь': 953981,\n",
              " 'очередь следующий': 727938,\n",
              " 'следующий день': 1066418,\n",
              " 'день мобильный': 227950,\n",
              " 'мобильный позвонить': 507337,\n",
              " 'девушка представиться': 217693,\n",
              " 'представиться руководитель': 876431,\n",
              " 'руководитель отделение': 1013843,\n",
              " 'отделение валерий': 688432,\n",
              " 'валерий поблагодарить': 88023,\n",
              " 'поблагодарить жалоба': 771418,\n",
              " 'жалоба рассказать': 284927,\n",
              " 'рассказать работать': 979830,\n",
              " 'работать сокращение': 957302,\n",
              " 'сокращение очередь': 1095698,\n",
              " 'очередь поинтересоваться': 727483,\n",
              " 'поинтересоваться успеть': 801792,\n",
              " 'успеть решить': 1243004,\n",
              " 'решить проблема': 1000827,\n",
              " 'проблема предложить': 911072,\n",
              " 'предложить помощь': 872076,\n",
              " 'помощь оставить': 826228,\n",
              " 'оставить свой': 676436,\n",
              " 'свой мобильный': 1034050,\n",
              " 'мобильный телефон': 507445,\n",
              " 'телефон просить': 1179467,\n",
              " 'просить случай': 931009,\n",
              " 'случай проблема': 1072592,\n",
              " 'проблема обращаться': 910594,\n",
              " 'обращаться напрямую': 619448,\n",
              " 'напрямую недостаток': 546633,\n",
              " 'недостаток качество': 568344,\n",
              " 'качество работа': 403892,\n",
              " 'работа бывать': 952765,\n",
              " 'бывать исправлять': 81102,\n",
              " 'исправлять бывать': 379328,\n",
              " 'бывать по': 81326,\n",
              " 'по разному': 770903,\n",
              " 'разному делать': 969046,\n",
              " 'делать альфа': 222067,\n",
              " 'банк образец': 46945,\n",
              " 'образец подражание': 616971,\n",
              " 'подражание залог': 788607,\n",
              " 'залог качество': 313484,\n",
              " 'работа банк': 952689,\n",
              " 'банк постоянно': 48343,\n",
              " 'постоянно улучшиться': 850410,\n",
              " 'улучшиться большой': 1231505,\n",
              " 'большой спасибо': 72939,\n",
              " 'спасибо сотрудник': 1110912,\n",
              " 'сотрудник альфа': 1103655,\n",
              " 'банк по': 47866,\n",
              " 'по моему': 770866,\n",
              " 'моему образец': 507866,\n",
              " 'образец российский': 616996,\n",
              " 'российский банк': 1006288,\n",
              " 'банк работать': 49062,\n",
              " 'работать сам': 957167,\n",
              " 'сам высокий': 1020654,\n",
              " 'высокий международный': 175421,\n",
              " 'международный уровень': 487244,\n",
              " 'уровень качество': 1237503,\n",
              " 'качество большой': 403498,\n",
              " 'здравствуйте хотеть': 343285,\n",
              " 'хотеть предостеречь': 1271580,\n",
              " 'предостеречь потенциальный': 874248,\n",
              " 'потенциальный клиент': 852889,\n",
              " 'банк русский': 49473,\n",
              " 'русский ипотечный': 1015062,\n",
              " 'ипотечный банк': 374917,\n",
              " 'банк халатный': 51022,\n",
              " 'халатный отношение': 1265097,\n",
              " 'сотрудник данный': 1104128,\n",
              " 'данный банк': 209610,\n",
              " 'банк свой': 49602,\n",
              " 'свой работа': 1034761,\n",
              " 'работа целое': 955106,\n",
              " 'целое попытаться': 1276695,\n",
              " 'попытаться вкратце': 837418,\n",
              " 'вкратце обрисовать': 118241,\n",
              " 'обрисовать ситуация': 621124,\n",
              " 'ситуация май': 1056039,\n",
              " 'май год': 476921,\n",
              " 'год ранний': 191488,\n",
              " 'ранний выехать': 975399,\n",
              " 'выехать работа': 166835,\n",
              " 'работа успеть': 955026,\n",
              " 'успеть дополнительный': 1242645,\n",
              " 'дополнительный офис': 261757,\n",
              " 'офис русский': 717637,\n",
              " 'банк находиться': 46431,\n",
              " 'находиться адрес': 552926,\n",
              " 'адрес ст': 26603,\n",
              " 'ст таганский': 1129730,\n",
              " 'таганский ул': 1165277,\n",
              " 'ул большой': 1229502,\n",
              " 'большой дровяной': 72484,\n",
              " 'дровяной пер': 269085,\n",
              " 'пер дом': 738178,\n",
              " 'дом подойти': 259214,\n",
              " 'подойти дверь': 786119,\n",
              " 'дверь банк': 214169,\n",
              " 'банк охранник': 47540,\n",
              " 'охранник демонстративно': 722115,\n",
              " 'демонстративно захлопнуть': 226154,\n",
              " 'захлопнуть дверь': 330858,\n",
              " 'дверь мой': 214322,\n",
              " 'мой нос': 509310,\n",
              " 'нос попытаться': 601390,\n",
              " 'попытаться открыть': 837534,\n",
              " 'открыть дверь': 700905,\n",
              " 'дверь безрезультатно': 214171,\n",
              " 'безрезультатно прийтись': 59790,\n",
              " 'прийтись звонить': 892299,\n",
              " 'звонить охранник': 339664,\n",
              " 'охранник нехотя': 722189,\n",
              " 'нехотя открыть': 588525,\n",
              " 'открыть входной': 700867,\n",
              " 'входной дверь': 159081,\n",
              " 'банк популярно': 48257,\n",
              " 'популярно объяснить': 837203,\n",
              " 'объяснить сотрудник': 631916,\n",
              " 'банк закрыть': 44826,\n",
              " 'закрыть касса': 311947,\n",
              " 'касса обслуживать': 400629,\n",
              " 'обслуживать быть': 623528,\n",
              " 'быть попросить': 85416,\n",
              " 'попросить таки': 836879,\n",
              " 'таки обслужить': 1169898,\n",
              " 'обслужить единственный': 625114,\n",
              " 'единственный клиент': 277281,\n",
              " 'клиент кроме': 410471,\n",
              " 'кроме клиент': 450034,\n",
              " 'клиент так': 412684,\n",
              " 'так ехать': 1165981,\n",
              " 'ехать издалёка': 281491,\n",
              " 'издалёка самый': 356333,\n",
              " 'самый интересный': 1023343,\n",
              " 'интересный время': 368219,\n",
              " 'время спокойно': 148805,\n",
              " 'спокойно успевать': 1117304,\n",
              " 'успевать банк': 1242346,\n",
              " 'банк день': 44299,\n",
              " 'день работать': 229204,\n",
              " 'работать график': 955617,\n",
              " 'график обслуживание': 200322,\n",
              " 'обслуживание клиент': 621995,\n",
              " 'клиент осуществляться': 411219,\n",
              " 'осуществляться охранник': 680127,\n",
              " 'охранник выслушать': 722099,\n",
              " 'выслушать снова': 175122,\n",
              " 'снова запереть': 1082463,\n",
              " 'запереть дверь': 319564,\n",
              " 'дверь пойти': 214407,\n",
              " 'пойти просить': 802825,\n",
              " 'просить сотрудник': 931035,\n",
              " 'банк обслужить': 46967,\n",
              " 'обслужить выйти': 625092,\n",
              " 'выйти минута': 167939,\n",
              " 'минута время': 501117,\n",
              " 'время стоять': 148854,\n",
              " 'стоять улица': 1142975,\n",
              " 'улица ждать': 1230689,\n",
              " 'ждать результат': 286952,\n",
              " 'результат второй': 991832,\n",
              " 'второй охранник': 157452,\n",
              " 'охранник открыть': 722223,\n",
              " 'дверь протянуть': 214453,\n",
              " 'протянуть листок': 938419,\n",
              " 'листок график': 466725,\n",
              " 'график работа': 200413,\n",
              " 'банк слово': 49791,\n",
              " 'слово просить': 1068681,\n",
              " 'просить показать': 930789,\n",
              " 'показать объяснять': 804853,\n",
              " 'объяснять часы': 632689,\n",
              " 'часы учитывать': 1285133,\n",
              " 'учитывать единственный': 1251653,\n",
              " 'клиент вполне': 409567,\n",
              " 'вполне успевать': 145054,\n",
              " 'успевать обслужить': 1242439,\n",
              " 'обслужить работник': 625319,\n",
              " 'работник банк': 957791,\n",
              " 'банк время': 43815,\n",
              " 'время терять': 148923,\n",
              " 'терять объяснять': 1183339,\n",
              " 'объяснять охрана': 632418,\n",
              " 'охрана банк': 721899,\n",
              " 'банк иметь': 45156,\n",
              " 'иметь полный': 361786,\n",
              " 'полный право': 811453,\n",
              " 'право зайти': 866014,\n",
              " 'зайти здание': 305638,\n",
              " 'здание банк': 342139,\n",
              " 'банк так': 50353,\n",
              " 'так официально': 1166662,\n",
              " 'официально должный': 718510,\n",
              " 'должный работать': 257237,\n",
              " 'работать мой': 956229,\n",
              " 'мой терпение': 510144,\n",
              " 'терпение лопнуть': 1182627,\n",
              " 'лопнуть попросить': 472245,\n",
              " 'попросить работник': 836755,\n",
              " 'банк который': 45638,\n",
              " 'который отказываться': 437713,\n",
              " 'отказываться принять': 697823,\n",
              " 'принять охранник': 898959,\n",
              " 'охранник обещать': 722194,\n",
              " 'обещать узнать': 610261,\n",
              " 'узнать гора': 1225215,\n",
              " 'гора работник': 194339,\n",
              " 'работник данный': 957864,\n",
              " 'банк прежний': 48524,\n",
              " 'прежний сценарий': 879566,\n",
              " 'сценарий захлопнуть': 1157905,\n",
              " 'нос появиться': 601395,\n",
              " 'появиться позвонить': 861823,\n",
              " 'позвонить раз': 799315,\n",
              " 'раз дверь': 961812,\n",
              " 'дверь никто': 214342,\n",
              " 'никто открыть': 593387,\n",
              " 'открыть стоить': 701578,\n",
              " 'стоить говорить': 1138560,\n",
              " 'говорить потерять': 188254,\n",
              " 'потерять время': 853336,\n",
              " 'время нерв': 147485,\n",
              " 'нерв позвонить': 582614,\n",
              " 'позвонить головной': 798533,\n",
              " 'головной офис': 193487,\n",
              " 'офис дежурный': 715747,\n",
              " 'дежурный работник': 218629,\n",
              " 'работник любезно': 957989,\n",
              " 'любезно выслушать': 473123,\n",
              " 'выслушать предложить': 175083,\n",
              " 'предложить писать': 872014,\n",
              " 'писать сайт': 759256,\n",
              " 'сайт жалоба': 1018740,\n",
              " 'жалоба хотеться': 285106,\n",
              " 'хотеться отметить': 1272514,\n",
              " 'отметить такой': 704869,\n",
              " 'такой подход': 1172355,\n",
              " 'подход свой': 793482,\n",
              " 'работа отношение': 953944,\n",
              " 'отношение клиент': 706390,\n",
              " 'клиент русский': 412246,\n",
              " 'банк зарекомендовать': 44920,\n",
              " 'зарекомендовать надёжный': 326000,\n",
              " 'надёжный банк': 531419,\n",
              " 'банк растерять': 49273,\n",
              " 'растерять тот': 984183,\n",
              " 'тот немногий': 1194750,\n",
              " 'немногий клиент': 573848,\n",
              " 'клиент который': 410446,\n",
              " 'который успеть': 439262,\n",
              " 'успеть обзавестись': 1242789,\n",
              " 'обзавестись просьба': 610363,\n",
              " 'просьба дальнейший': 937032,\n",
              " 'дальнейший внимательно': 207205,\n",
              " 'внимательно вести': 123533,\n",
              " 'вести отбор': 98946,\n",
              " 'отбор сотрудник': 680353,\n",
              " 'банк проводить': 48784,\n",
              " 'проводить хотя': 915404,\n",
              " 'хотя изредка': 1273431,\n",
              " 'изредка инструктаж': 358806,\n",
              " 'инструктаж умение': 366854,\n",
              " 'умение общаться': 1232666,\n",
              " 'общаться клиент': 627166,\n",
              " 'банк спасибо': 50045,\n",
              " 'часто пользоваться': 1283894,\n",
              " 'пользоваться услуга': 821713,\n",
              " 'услуга банк': 1239961,\n",
              " 'находиться панфиловец': 553441,\n",
              " 'панфиловец сколько': 732795,\n",
              " 'сколько туда': 1062620,\n",
              " 'туда обращаться': 1204914,\n",
              " 'обращаться раз': 619688,\n",
              " 'раз оставаться': 962191,\n",
              " 'оставаться довольный': 675497,\n",
              " 'довольный обслуживание': 244972,\n",
              " 'обслуживание первый': 622536,\n",
              " 'первый проблема': 739539,\n",
              " 'проблема который': 910217,\n",
              " 'который столкнуться': 439005,\n",
              " 'столкнуться банк': 1140282,\n",
              " 'банк непонятный': 46641,\n",
              " 'непонятный электронный': 579947,\n",
              " 'электронный очередь': 1303776,\n",
              " 'очередь табло': 728097,\n",
              " 'табло гореть': 1164921,\n",
              " 'гореть очередь': 194747,\n",
              " 'очередь походить': 727590,\n",
              " 'походить окно': 856557,\n",
              " 'окно перед': 648588,\n",
              " 'перед человек': 744573,\n",
              " 'человек обслужить': 1287416,\n",
              " 'обслужить приходиться': 625305,\n",
              " 'приходиться стоять': 904579,\n",
              " 'стоять ждать': 1142600,\n",
              " 'ждать понять': 286773,\n",
              " 'понять смысл': 832346,\n",
              " 'смысл электронный': 1080318,\n",
              " 'очередь второй': 726444,\n",
              " 'второй проблема': 157624,\n",
              " 'проблема закрытие': 909995,\n",
              " 'закрытие банк': 310602,\n",
              " 'банк приходить': 48741,\n",
              " 'приходить половина': 903738,\n",
              " 'половина касса': 811730,\n",
              " 'касса считаться': 401256,\n",
              " 'считаться отказываться': 1159640,\n",
              " 'отказываться обслуживать': 697740,\n",
              " 'обслуживать третий': 624006,\n",
              " 'третий проблема': 1201439,\n",
              " 'проблема прийти': 911106,\n",
              " 'прийти узнать': 891918,\n",
              " 'узнать остаток': 1225601,\n",
              " 'остаток кредит': 678012,\n",
              " 'кредит взять': 442746,\n",
              " 'взять талон': 106324,\n",
              " 'талон кредит': 1173633,\n",
              " 'кредит вызвать': 442906,\n",
              " 'вызвать подходить': 167106,\n",
              " 'подходить девушка': 793618,\n",
              " 'девушка который': 217086,\n",
              " 'который должный': 436571,\n",
              " 'должный обслужить': 256768,\n",
              " 'обслужить копошиться': 625160,\n",
              " 'копошиться весь': 432991,\n",
              " 'весь бумажка': 99340,\n",
              " 'бумажка говорить': 79574,\n",
              " 'говорить перенаправлять': 188073,\n",
              " 'перенаправлять другой': 748528,\n",
              " 'другой окно': 270684,\n",
              " 'окно загораться': 648416,\n",
              " 'загораться талончик': 301088,\n",
              " 'талончик друг': 1173796,\n",
              " 'друг окно': 269534,\n",
              " 'окно подходить': 648613,\n",
              " 'девушка заявлять': 216960,\n",
              " 'заявлять этот': 337693,\n",
              " ...}"
            ]
          },
          "execution_count": 262,
          "metadata": {},
          "output_type": "execute_result"
        }
      ],
      "source": [
        "#count_vect_bi.vocabulary_"
      ]
    },
    {
      "cell_type": "code",
      "execution_count": null,
      "metadata": {
        "id": "qF4v81RdA2Ec"
      },
      "outputs": [],
      "source": [
        "X_train_bi = count_vect_bi.transform(X_train.values.flatten())"
      ]
    },
    {
      "cell_type": "code",
      "execution_count": null,
      "metadata": {
        "id": "INjmsDaMA2Ec"
      },
      "outputs": [],
      "source": [
        "X_test_bi = count_vect_bi.transform(X_test.values.flatten())"
      ]
    },
    {
      "cell_type": "code",
      "execution_count": null,
      "metadata": {
        "id": "zX8BSyToA2Ec",
        "outputId": "d2dc47bc-0149-4e84-81d3-a4e81ac235eb"
      },
      "outputs": [
        {
          "name": "stdout",
          "output_type": "stream",
          "text": [
            "accurancy = 0.90791709140333, C = 0.01\n",
            "accurancy = 0.9288141352361536, C = 0.1\n",
            "accurancy = 0.9293238192320761, C = 1\n",
            "accurancy = 0.9294937138973837, C = 10\n"
          ]
        }
      ],
      "source": [
        "for c in [0.01, 0.1, 1, 10]:\n",
        "    logreg = LogisticRegression(random_state = 3459, max_iter = 5000, C = c)\n",
        "    logreg.fit(X_train_bi, y_train)\n",
        "    score = logreg.score(X_test_bi, y_test)\n",
        "    print(f\"accurancy = {score}, C = {c}\")"
      ]
    },
    {
      "cell_type": "code",
      "execution_count": null,
      "metadata": {
        "id": "fjP-okdKA2Ed"
      },
      "outputs": [],
      "source": []
    },
    {
      "cell_type": "code",
      "execution_count": null,
      "metadata": {
        "id": "jIs3QQSTA2Ed"
      },
      "outputs": [],
      "source": [
        "count_vect_tri = CountVectorizer(ngram_range = (3, 3))"
      ]
    },
    {
      "cell_type": "code",
      "execution_count": null,
      "metadata": {
        "id": "3rJQCD0jA2Ed",
        "outputId": "eaf48293-922e-4eeb-ca86-823c4d14679f"
      },
      "outputs": [
        {
          "data": {
            "text/plain": [
              "CountVectorizer(ngram_range=(3, 3))"
            ]
          },
          "execution_count": 268,
          "metadata": {},
          "output_type": "execute_result"
        }
      ],
      "source": [
        "count_vect_tri.fit(X_train.values.flatten())"
      ]
    },
    {
      "cell_type": "code",
      "execution_count": null,
      "metadata": {
        "id": "sLZf1yPWA2Ed"
      },
      "outputs": [],
      "source": [
        "# count_vect_tri.vocabulary_"
      ]
    },
    {
      "cell_type": "code",
      "execution_count": null,
      "metadata": {
        "id": "7g8PSfY6A2Ee"
      },
      "outputs": [],
      "source": [
        "X_train_tri = count_vect_tri.transform(X_train.values.flatten())"
      ]
    },
    {
      "cell_type": "code",
      "execution_count": null,
      "metadata": {
        "id": "RA8gn_U5A2Ee"
      },
      "outputs": [],
      "source": [
        "X_test_tri = count_vect_tri.transform(X_test.values.flatten())"
      ]
    },
    {
      "cell_type": "code",
      "execution_count": null,
      "metadata": {
        "id": "ohlXxASrA2Ee",
        "outputId": "6643e203-9904-4b2f-f6ea-f81c2deb7b2d"
      },
      "outputs": [
        {
          "name": "stdout",
          "output_type": "stream",
          "text": [
            "accurancy = 0.8053007135575942, C = 0.01\n",
            "accurancy = 0.8328236493374108, C = 0.1\n",
            "accurancy = 0.8386000679578661, C = 1\n",
            "accurancy = 0.8377505946313286, C = 10\n"
          ]
        }
      ],
      "source": [
        "for c in [0.01, 0.1, 1, 10]:\n",
        "    logreg = LogisticRegression(random_state = 3459, max_iter = 5000, C = c)\n",
        "    logreg.fit(X_train_tri, y_train)\n",
        "    score = logreg.score(X_test_tri, y_test)\n",
        "    print(f\"accurancy = {score}, C = {c}\")"
      ]
    },
    {
      "cell_type": "code",
      "execution_count": null,
      "metadata": {
        "id": "gMSdM7zCA2Ef"
      },
      "outputs": [],
      "source": []
    },
    {
      "cell_type": "code",
      "execution_count": null,
      "metadata": {
        "id": "4tGmtEW8A2Ef"
      },
      "outputs": [],
      "source": [
        "# для символьной униграммы, биграммы, триграммы"
      ]
    },
    {
      "cell_type": "code",
      "execution_count": null,
      "metadata": {
        "id": "w0Zw0XNKA2Ef"
      },
      "outputs": [],
      "source": [
        "count_vect_char = CountVectorizer(ngram_range = (1, 3), analyzer = \"char\")"
      ]
    },
    {
      "cell_type": "code",
      "execution_count": null,
      "metadata": {
        "id": "T_lfCbKlA2Ef",
        "outputId": "5df43e40-47bb-4ea0-f1ba-357ec52a7969"
      },
      "outputs": [
        {
          "data": {
            "text/plain": [
              "CountVectorizer(analyzer='char', ngram_range=(1, 3))"
            ]
          },
          "execution_count": 275,
          "metadata": {},
          "output_type": "execute_result"
        }
      ],
      "source": [
        "count_vect_char.fit(X_train.values.flatten())"
      ]
    },
    {
      "cell_type": "code",
      "execution_count": null,
      "metadata": {
        "id": "-REVJflSA2Eg"
      },
      "outputs": [],
      "source": [
        "# count_vect_char.vocabulary_"
      ]
    },
    {
      "cell_type": "code",
      "execution_count": null,
      "metadata": {
        "id": "VNOC9ciLA2Eg"
      },
      "outputs": [],
      "source": [
        "X_train_char = count_vect_char.transform(X_train.values.flatten())"
      ]
    },
    {
      "cell_type": "code",
      "execution_count": null,
      "metadata": {
        "id": "QGqnZNMLA2Eg"
      },
      "outputs": [],
      "source": [
        "X_test_char = count_vect_char.transform(X_test.values.flatten())"
      ]
    },
    {
      "cell_type": "code",
      "execution_count": null,
      "metadata": {
        "id": "JlrHLp0UA2Eh",
        "outputId": "deefd0f0-a808-4147-8e6b-fc090296ac63"
      },
      "outputs": [
        {
          "name": "stdout",
          "output_type": "stream",
          "text": [
            "accurancy = 0.9364593951749915, C = 0.01\n",
            "accurancy = 0.9320421338769963, C = 0.1\n",
            "accurancy = 0.9223581379544682, C = 1\n",
            "accurancy = 0.9170914033299354, C = 10\n"
          ]
        },
        {
          "name": "stderr",
          "output_type": "stream",
          "text": [
            "C:\\ProgramData\\Anaconda3\\lib\\site-packages\\sklearn\\linear_model\\_logistic.py:814: ConvergenceWarning: lbfgs failed to converge (status=1):\n",
            "STOP: TOTAL NO. of ITERATIONS REACHED LIMIT.\n",
            "\n",
            "Increase the number of iterations (max_iter) or scale the data as shown in:\n",
            "    https://scikit-learn.org/stable/modules/preprocessing.html\n",
            "Please also refer to the documentation for alternative solver options:\n",
            "    https://scikit-learn.org/stable/modules/linear_model.html#logistic-regression\n",
            "  n_iter_i = _check_optimize_result(\n"
          ]
        }
      ],
      "source": [
        "for c in [0.01, 0.1, 1, 10]:\n",
        "    logreg = LogisticRegression(random_state = 3459, max_iter = 5000, C = c)\n",
        "    logreg.fit(X_train_char, y_train)\n",
        "    score = logreg.score(X_test_char, y_test)\n",
        "    print(f\"accurancy = {score}, C = {c}\")"
      ]
    },
    {
      "cell_type": "code",
      "execution_count": null,
      "metadata": {
        "id": "mMMCEUpWA2Eh"
      },
      "outputs": [],
      "source": []
    },
    {
      "cell_type": "code",
      "execution_count": null,
      "metadata": {
        "id": "Y5C_bkVNA2Eh"
      },
      "outputs": [],
      "source": [
        "pipeline = Pipeline(steps = [(\"tfidf\", TfidfTransformer()), (\"svd\", TruncatedSVD(n_components = 1000, random_state = 45))])"
      ]
    },
    {
      "cell_type": "code",
      "execution_count": null,
      "metadata": {
        "id": "H7kvsugfA2Eh",
        "outputId": "2eeeee43-6ec2-4164-caf9-02f9b306e845"
      },
      "outputs": [
        {
          "data": {
            "text/plain": [
              "Pipeline(steps=[('tfidf', TfidfTransformer()),\n",
              "                ('svd', TruncatedSVD(n_components=1000, random_state=45))])"
            ]
          },
          "execution_count": 299,
          "metadata": {},
          "output_type": "execute_result"
        }
      ],
      "source": [
        "pipeline"
      ]
    },
    {
      "cell_type": "code",
      "execution_count": null,
      "metadata": {
        "id": "PKbIIJp-A2Ei"
      },
      "outputs": [],
      "source": [
        "X_train_lsa = pipeline.fit_transform(X_train_uni)"
      ]
    },
    {
      "cell_type": "code",
      "execution_count": null,
      "metadata": {
        "id": "NuF99WcNA2Ei",
        "outputId": "9d8cb5b4-e9c7-4ded-d58b-bf733f916c74"
      },
      "outputs": [
        {
          "data": {
            "text/plain": [
              "(23540, 1000)"
            ]
          },
          "execution_count": 303,
          "metadata": {},
          "output_type": "execute_result"
        }
      ],
      "source": [
        "X_train_lsa.shape"
      ]
    },
    {
      "cell_type": "code",
      "execution_count": null,
      "metadata": {
        "id": "t3By06xlA2Ei"
      },
      "outputs": [],
      "source": [
        "X_test_lsa = pipeline.transform(X_test_uni)"
      ]
    },
    {
      "cell_type": "code",
      "execution_count": null,
      "metadata": {
        "id": "_DakA0efA2Ei",
        "outputId": "a6c5358b-5012-4c33-d810-99a36676277e"
      },
      "outputs": [
        {
          "data": {
            "text/plain": [
              "(5886, 1000)"
            ]
          },
          "execution_count": 305,
          "metadata": {},
          "output_type": "execute_result"
        }
      ],
      "source": [
        "X_test_lsa.shape"
      ]
    },
    {
      "cell_type": "code",
      "execution_count": null,
      "metadata": {
        "id": "--zLwo1yA2Ej",
        "outputId": "e9f94b5b-10c4-4c95-eeee-8fd24a6d55f5"
      },
      "outputs": [
        {
          "name": "stdout",
          "output_type": "stream",
          "text": [
            "accurancy = 0.8824328916072035, C = 0.01\n",
            "accurancy = 0.9243968739381584, C = 0.1\n",
            "accurancy = 0.9469928644240571, C = 1\n",
            "accurancy = 0.95293917770982, C = 10\n",
            "accurancy = 0.9514101257220523, C = 100\n"
          ]
        }
      ],
      "source": [
        "for c in [0.01, 0.1, 1, 10, 100]:\n",
        "    logreg = LogisticRegression(random_state = 3459, max_iter = 5000, C = c)\n",
        "    logreg.fit(X_train_lsa, y_train)\n",
        "    score = logreg.score(X_test_lsa, y_test)\n",
        "    print(f\"accurancy = {score}, C = {c}\")"
      ]
    },
    {
      "cell_type": "code",
      "execution_count": null,
      "metadata": {
        "id": "hRszLtamA2Ej",
        "outputId": "c8faed83-3eda-4a9c-b8f1-f8aac4cbb4bb"
      },
      "outputs": [
        {
          "data": {
            "text/plain": [
              "LogisticRegression(C=10, max_iter=5000, random_state=3459)"
            ]
          },
          "execution_count": 307,
          "metadata": {},
          "output_type": "execute_result"
        }
      ],
      "source": [
        "logreg = LogisticRegression(random_state = 3459, max_iter = 5000, C = 10)\n",
        "logreg.fit(X_train_lsa, y_train)"
      ]
    },
    {
      "cell_type": "code",
      "execution_count": null,
      "metadata": {
        "id": "ytMPxK-sA2Ej"
      },
      "outputs": [],
      "source": [
        "y_pred = logreg.predict(X_test_lsa)"
      ]
    },
    {
      "cell_type": "code",
      "execution_count": null,
      "metadata": {
        "id": "8cGGhRmaA2Ek",
        "outputId": "93a5e039-4500-4a4e-d807-198c250d78a2"
      },
      "outputs": [
        {
          "name": "stdout",
          "output_type": "stream",
          "text": [
            "              precision    recall  f1-score   support\n",
            "\n",
            "           0       0.96      0.94      0.95      2924\n",
            "           1       0.94      0.96      0.95      2962\n",
            "\n",
            "    accuracy                           0.95      5886\n",
            "   macro avg       0.95      0.95      0.95      5886\n",
            "weighted avg       0.95      0.95      0.95      5886\n",
            "\n"
          ]
        }
      ],
      "source": [
        "print(classification_report(y_pred, y_test))"
      ]
    },
    {
      "cell_type": "code",
      "execution_count": null,
      "metadata": {
        "id": "lBsI3zK5A2Ek"
      },
      "outputs": [],
      "source": [
        "lda = LatentDirichletAllocation(n_components = 100, random_state=687)\n",
        "lda.fit(X_train_uni)\n",
        "X_train_lda = lda.transform(X_train_uni)\n",
        "X_test_lda = lda.transform(X_test_uni)"
      ]
    },
    {
      "cell_type": "code",
      "execution_count": null,
      "metadata": {
        "id": "haRc0RlgA2Ek",
        "outputId": "2307449d-f3a7-4bba-aa48-6fc5f5444bc4"
      },
      "outputs": [
        {
          "name": "stdout",
          "output_type": "stream",
          "text": [
            "accurancy = 0.8904179408766565, C = 0.01\n",
            "accurancy = 0.9024804621134896, C = 0.1\n",
            "accurancy = 0.9099558273870201, C = 1\n",
            "accurancy = 0.9119945633707102, C = 10\n",
            "accurancy = 0.9128440366972477, C = 100\n"
          ]
        }
      ],
      "source": [
        "for c in [0.01, 0.1, 1, 10, 100]:\n",
        "    logreg = LogisticRegression(random_state = 3459, max_iter = 5000, C = c)\n",
        "    logreg.fit(X_train_lda, y_train)\n",
        "    score = logreg.score(X_test_lda, y_test)\n",
        "    print(f\"accurancy = {score}, C = {c}\")"
      ]
    },
    {
      "cell_type": "code",
      "execution_count": null,
      "metadata": {
        "id": "HWGLWz8uA2Ek"
      },
      "outputs": [],
      "source": []
    },
    {
      "cell_type": "code",
      "execution_count": null,
      "metadata": {
        "id": "mEkdVI1UA2El",
        "outputId": "fc2dec98-a98c-43bb-c4e1-823853ada45b"
      },
      "outputs": [
        {
          "data": {
            "text/plain": [
              "LogisticRegression(C=10, max_iter=5000, random_state=3459)"
            ]
          },
          "execution_count": 325,
          "metadata": {},
          "output_type": "execute_result"
        }
      ],
      "source": [
        "logreg_lda = LogisticRegression(random_state = 3459, max_iter = 5000, C = 10)\n",
        "logreg_lda.fit(X_train_lda, y_train)"
      ]
    },
    {
      "cell_type": "code",
      "execution_count": null,
      "metadata": {
        "id": "O80FW5hsA2El"
      },
      "outputs": [],
      "source": [
        "y_pred_lda = logreg_lda.predict(X_test_lda)"
      ]
    },
    {
      "cell_type": "code",
      "execution_count": null,
      "metadata": {
        "id": "0MGSSzYJA2El",
        "outputId": "c42afc43-f6c5-4145-b6ca-46cbb4e62e86"
      },
      "outputs": [
        {
          "name": "stdout",
          "output_type": "stream",
          "text": [
            "              precision    recall  f1-score   support\n",
            "\n",
            "           0       0.93      0.89      0.91      2985\n",
            "           1       0.89      0.93      0.91      2901\n",
            "\n",
            "    accuracy                           0.91      5886\n",
            "   macro avg       0.91      0.91      0.91      5886\n",
            "weighted avg       0.91      0.91      0.91      5886\n",
            "\n"
          ]
        }
      ],
      "source": [
        "print(classification_report(y_pred_lda, y_test))"
      ]
    },
    {
      "cell_type": "code",
      "execution_count": null,
      "metadata": {
        "id": "ZTqc6mDnA2El"
      },
      "outputs": [],
      "source": [
        "# лучший вариант в классификации отзывов банков был получен при использоавнии юниграмм с обработкой методом LSA (число измерений = 1000) и логистической регрессией"
      ]
    },
    {
      "cell_type": "code",
      "execution_count": null,
      "metadata": {
        "id": "kDOhKRCyA2Em"
      },
      "outputs": [],
      "source": [
        "# метод LDA при данной размерности работал оченб долго и вылетал с ошибками нехватки памяти\n",
        "# при меньшем числе измерений (= 100) он проявил себя хуже, чем CountVectorizer"
      ]
    }
  ],
  "metadata": {
    "colab": {
      "provenance": []
    },
    "kernelspec": {
      "display_name": "Python 3 (ipykernel)",
      "language": "python",
      "name": "python3"
    },
    "language_info": {
      "codemirror_mode": {
        "name": "ipython",
        "version": 3
      },
      "file_extension": ".py",
      "mimetype": "text/x-python",
      "name": "python",
      "nbconvert_exporter": "python",
      "pygments_lexer": "ipython3",
      "version": "3.9.13"
    }
  },
  "nbformat": 4,
  "nbformat_minor": 0
}